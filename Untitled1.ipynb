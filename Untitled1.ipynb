{
  "nbformat": 4,
  "nbformat_minor": 0,
  "metadata": {
    "colab": {
      "provenance": []
    },
    "kernelspec": {
      "name": "python3",
      "display_name": "Python 3"
    },
    "language_info": {
      "name": "python"
    }
  },
  "cells": [
    {
      "cell_type": "markdown",
      "source": [
        "OUES:-1 What is the difference between a function and a method in Python?\n",
        "\n",
        "ANS:-1 Methods and Functions have similar purposes but differ in important  \n",
        "ways. Functions are independent blocks of code that can be called from anywhere, while methods are tied to objects or classes and need an object or class instance to be invoked.\n",
        "\n",
        "  Functions promote code reusability, while methods offer behavior specific to objects. Functions are called by name, while methods are accessed using dot notation.\n",
        "\n",
        "\n",
        "\n",
        "\n",
        "\n"
      ],
      "metadata": {
        "id": "avXmLVImmJeS"
      }
    },
    {
      "cell_type": "code",
      "source": [
        "#FUNCTION\n",
        "def sum(num1, num2):\n",
        "    return num1 + num2\n",
        "\n",
        "sum(3,5)"
      ],
      "metadata": {
        "colab": {
          "base_uri": "https://localhost:8080/"
        },
        "id": "ogm-BjqFnCwU",
        "outputId": "18d63016-1f5e-4403-ed88-c26f5d0d0ef6"
      },
      "execution_count": null,
      "outputs": [
        {
          "output_type": "execute_result",
          "data": {
            "text/plain": [
              "8"
            ]
          },
          "metadata": {},
          "execution_count": 2
        }
      ]
    },
    {
      "cell_type": "code",
      "source": [
        "#METHOD\n",
        "class Dog:\n",
        "    def my_method(self):\n",
        "        print(\"I am a Dog\")\n",
        "\n",
        "dog = Dog()\n",
        "dog.my_method()  # Prints \"I am a Dog\""
      ],
      "metadata": {
        "colab": {
          "base_uri": "https://localhost:8080/"
        },
        "id": "yQMyuqlnnSrn",
        "outputId": "bcff4214-396d-4079-87c8-2f5dc813fde7"
      },
      "execution_count": null,
      "outputs": [
        {
          "output_type": "stream",
          "name": "stdout",
          "text": [
            "I am a Dog\n"
          ]
        }
      ]
    },
    {
      "cell_type": "markdown",
      "source": [
        "OUES:-2 Explain the concept of function arguments and parameters in Python?\n",
        "\n",
        "ANS:-Information can be passed into functions as arguments.\n",
        "\n",
        "Arguments are specified after the function name, inside the parentheses. You can add as many arguments as you want, just separate them with a comma.\n",
        "\n",
        "The following example has a function with one argument (fname). When the function is called, we pass along a first name, which is used inside the function to print the full name:\n"
      ],
      "metadata": {
        "id": "U1l695Gfn-0E"
      }
    },
    {
      "cell_type": "code",
      "source": [
        "def my_function(fname):\n",
        "  print(fname + \" Refsnes\")\n",
        "\n",
        "my_function(\"Emil\")\n",
        "my_function(\"Tobias\")\n",
        "my_function(\"Linus\")"
      ],
      "metadata": {
        "colab": {
          "base_uri": "https://localhost:8080/"
        },
        "id": "YfbPTM8-on_O",
        "outputId": "80a302c6-1a29-4310-f4d6-d22fe055f182"
      },
      "execution_count": null,
      "outputs": [
        {
          "output_type": "stream",
          "name": "stdout",
          "text": [
            "Emil Refsnes\n",
            "Tobias Refsnes\n",
            "Linus Refsnes\n"
          ]
        }
      ]
    },
    {
      "cell_type": "markdown",
      "source": [
        "OUES:-3  What are  the different ways to define and call a function in Python?\n",
        "\n",
        "ANS:-  functions can be defined in various ways, each with different syntax and use cases. Here's an overview of the most common methods to define and call functions in Python:\n",
        "\n",
        "*\n",
        "Standard Function Definition-Functions are defined using the def keyword, followed by the function name, parameters in parentheses, and a colon. The function body is indented.\n"
      ],
      "metadata": {
        "id": "Tf-whanyq0NA"
      }
    },
    {
      "cell_type": "markdown",
      "source": [],
      "metadata": {
        "id": "scTDbJXjtFbb"
      }
    },
    {
      "cell_type": "code",
      "source": [
        "#General\n",
        "def greet(name):\n",
        "    print(f\"Hello, {name}!\")\n"
      ],
      "metadata": {
        "id": "T6BkawEZrpcv"
      },
      "execution_count": null,
      "outputs": []
    },
    {
      "cell_type": "code",
      "source": [
        "#call\n",
        "greet(\"shweta\")"
      ],
      "metadata": {
        "colab": {
          "base_uri": "https://localhost:8080/"
        },
        "id": "PHQn91jGr_3P",
        "outputId": "0be96b56-4895-4b2c-ac01-c459a9f40907"
      },
      "execution_count": null,
      "outputs": [
        {
          "output_type": "stream",
          "name": "stdout",
          "text": [
            "Hello, shweta!\n"
          ]
        }
      ]
    },
    {
      "cell_type": "markdown",
      "source": [
        "\n",
        "* Function with Return Statement:-Functions can return a value using the return statement.\n",
        "\n",
        "\n",
        "\n",
        "\n"
      ],
      "metadata": {
        "id": "tH1HClDFsfPc"
      }
    },
    {
      "cell_type": "code",
      "source": [
        "\n",
        "def add(a, b):\n",
        "    return a + b\n",
        "\n",
        "\n"
      ],
      "metadata": {
        "id": "0YgBwg3hsDFe"
      },
      "execution_count": null,
      "outputs": []
    },
    {
      "cell_type": "code",
      "source": [
        "\n",
        "add(5,9)"
      ],
      "metadata": {
        "colab": {
          "base_uri": "https://localhost:8080/"
        },
        "id": "WEdPfZt1tZ23",
        "outputId": "d0cd6770-d1c9-4113-ad9c-78f38b9f5d80"
      },
      "execution_count": null,
      "outputs": [
        {
          "output_type": "execute_result",
          "data": {
            "text/plain": [
              "14"
            ]
          },
          "metadata": {},
          "execution_count": 17
        }
      ]
    },
    {
      "cell_type": "markdown",
      "source": [
        "Lambda Functions:-\n",
        "Lambda functions are used for small, simple functions and are defined using the lambda keyword. They can have any number of arguments but only one expression.\n",
        "\n",
        "\n",
        "\n"
      ],
      "metadata": {
        "id": "QtcWLGNAuA1u"
      }
    },
    {
      "cell_type": "code",
      "source": [
        "square = lambda x: x * x\n",
        "\n",
        "\n",
        "\n",
        "print(square(4))\n"
      ],
      "metadata": {
        "colab": {
          "base_uri": "https://localhost:8080/"
        },
        "id": "SaqF-ShZtvk-",
        "outputId": "acbf1679-16b6-4178-dce0-c475f3e530c6"
      },
      "execution_count": null,
      "outputs": [
        {
          "output_type": "stream",
          "name": "stdout",
          "text": [
            "16\n"
          ]
        }
      ]
    },
    {
      "cell_type": "markdown",
      "source": [
        "Nested Functions:-\n",
        "Functions can be defined inside other functions, which are known as nested functions.\n"
      ],
      "metadata": {
        "id": "43dx1ZQOuhaC"
      }
    },
    {
      "cell_type": "code",
      "source": [
        "def outer_function():\n",
        "    def inner_function():\n",
        "        print(\"Hello from the inner function!\")\n",
        "    inner_function()\n",
        "\n",
        "\n",
        "\n",
        "outer_function()\n"
      ],
      "metadata": {
        "colab": {
          "base_uri": "https://localhost:8080/"
        },
        "id": "KG1UguRHuofG",
        "outputId": "adbde89f-3b14-4096-a62f-f877f2b91cc0"
      },
      "execution_count": null,
      "outputs": [
        {
          "output_type": "stream",
          "name": "stdout",
          "text": [
            "Hello from the inner function!\n"
          ]
        }
      ]
    },
    {
      "cell_type": "markdown",
      "source": [
        "Function with Default Arguments:-\n",
        "Functions can have default values for parameters.\n"
      ],
      "metadata": {
        "id": "t9oJ3fu0u80s"
      }
    },
    {
      "cell_type": "markdown",
      "source": [],
      "metadata": {
        "id": "ygk6HAd5ub_Z"
      }
    },
    {
      "cell_type": "code",
      "source": [
        "def greet(name=\"World\"):\n",
        "    print(f\"Hello, {name}!\")\n",
        "\n",
        "\n",
        "\n",
        "greet()\n",
        "greet(\"Alice\")\n"
      ],
      "metadata": {
        "colab": {
          "base_uri": "https://localhost:8080/"
        },
        "id": "_WXKWWse6SRG",
        "outputId": "1be13669-2ff7-4630-92c4-d46ecaa68d6c"
      },
      "execution_count": null,
      "outputs": [
        {
          "output_type": "stream",
          "name": "stdout",
          "text": [
            "Hello, World!\n",
            "Hello, Alice!\n"
          ]
        }
      ]
    },
    {
      "cell_type": "markdown",
      "source": [
        "Function with Keyword Arguments:-You can call functions using keyword arguments to specify parameter values.\n"
      ],
      "metadata": {
        "id": "CGGpFstf6mM0"
      }
    },
    {
      "cell_type": "code",
      "source": [
        "def describe_pet(animal, name):\n",
        "    print(f\"{name} is a {animal}.\")\n",
        "\n",
        "describe_pet(name=\"Max\", animal=\"dog\")"
      ],
      "metadata": {
        "colab": {
          "base_uri": "https://localhost:8080/"
        },
        "id": "nDkmd-nJ6wi5",
        "outputId": "c5596b73-6aeb-4b79-be21-9ea4b3ae5b9d"
      },
      "execution_count": null,
      "outputs": [
        {
          "output_type": "stream",
          "name": "stdout",
          "text": [
            "Max is a dog.\n"
          ]
        }
      ]
    },
    {
      "cell_type": "markdown",
      "source": [
        "Functions with Variable-Length Arguments:-Functions can accept an arbitrary number of arguments using *args for positional arguments and **kwargs for keyword arguments.\n",
        "\n"
      ],
      "metadata": {
        "id": "tAZG3xMP68S-"
      }
    },
    {
      "cell_type": "code",
      "source": [
        "def print_numbers(*args):\n",
        "    for number in args:\n",
        "        print(number)\n",
        "\n",
        "def print_key_values(**kwargs):\n",
        "    for key, value in kwargs.items():\n",
        "        print(f\"{key} = {value}\")\n",
        "\n",
        "print_numbers(1, 2, 3)\n",
        "print_key_values(a=1, b=2)"
      ],
      "metadata": {
        "colab": {
          "base_uri": "https://localhost:8080/"
        },
        "id": "sK61mkkl7FGJ",
        "outputId": "dac9f387-79a8-431e-b839-b5eda6cc4f4d"
      },
      "execution_count": null,
      "outputs": [
        {
          "output_type": "stream",
          "name": "stdout",
          "text": [
            "1\n",
            "2\n",
            "3\n",
            "a = 1\n",
            "b = 2\n"
          ]
        }
      ]
    },
    {
      "cell_type": "markdown",
      "source": [
        "QUES:-4  What is the purpose of the `return` statement in a Python function?\n",
        "\n",
        "ANS:- The Python return statement marks the end of a function and specifies the value or values to pass back from the function. Return statements can return data of any type, including integers, floats, strings, lists, dictionaries, and even other functions."
      ],
      "metadata": {
        "id": "PILIVSMt8ERg"
      }
    },
    {
      "cell_type": "code",
      "source": [
        "def calculate_area(length, width):\n",
        "\tarea = length * width\n",
        "\treturn area"
      ],
      "metadata": {
        "id": "OnuPyOpC8wFj"
      },
      "execution_count": null,
      "outputs": []
    },
    {
      "cell_type": "code",
      "source": [
        "area = calculate_area(50, 50) # get the result of the function\n",
        "print(f\"Calculated area: {area}\")"
      ],
      "metadata": {
        "colab": {
          "base_uri": "https://localhost:8080/"
        },
        "id": "QPohKNBU9I-r",
        "outputId": "72e267ef-76e5-482d-f0dd-b728db5e141a"
      },
      "execution_count": null,
      "outputs": [
        {
          "output_type": "stream",
          "name": "stdout",
          "text": [
            "Calculated area: 2500\n"
          ]
        }
      ]
    },
    {
      "cell_type": "markdown",
      "source": [
        "OUES:-5 . What are iterators in Python and how do they differ from iterables?\n",
        "\n",
        "ANS:- An **Iterable** is basically an object that any user can iterate over. We can generate an iterator when we pass the object to the iter() method.\n",
        "\n",
        "An ***Iterator ***is also an object that helps a user in iterating over another object (that is iterable). We use the __next__() method for iterating. This method helps iterators return the next item available from the object.\n",
        "\n",
        "\n",
        "\n"
      ],
      "metadata": {
        "id": "3b8GVEYL9iCJ"
      }
    },
    {
      "cell_type": "markdown",
      "source": [
        "OUES:-6 Explain the concept of generators in Python and how they are defined?\n",
        "\n",
        "ANS:- A Generator in Python is a function that returns an iterator using the Yield keyword. In this article, we will discuss how the generator function works in Python.\n",
        "\n",
        "A generator function in Python is defined like a normal function, but whenever it needs to generate a value, it does so with the yield keyword rather than return. If the body of a def contains yield, the function automatically becomes a Python generator function."
      ],
      "metadata": {
        "id": "2wXT4Vtx-aY2"
      }
    },
    {
      "cell_type": "code",
      "source": [
        "def function_name():\n",
        "    yield statement"
      ],
      "metadata": {
        "id": "D6dJO-Ou-6Vc"
      },
      "execution_count": null,
      "outputs": []
    },
    {
      "cell_type": "code",
      "source": [
        "# A generator function that yields 1 for first time,\n",
        "# 2 second time and 3 third time\n",
        "def simpleGeneratorFun():\n",
        "    yield 1\n",
        "    yield 2\n",
        "    yield 3\n",
        "\n",
        "# Driver code to check above generator function\n",
        "for value in simpleGeneratorFun():\n",
        "    print(value)"
      ],
      "metadata": {
        "colab": {
          "base_uri": "https://localhost:8080/"
        },
        "id": "RptScbYi_AMt",
        "outputId": "ad7eace8-f029-4fe6-bba6-0ffddb429e55"
      },
      "execution_count": null,
      "outputs": [
        {
          "output_type": "stream",
          "name": "stdout",
          "text": [
            "1\n",
            "2\n",
            "3\n"
          ]
        }
      ]
    },
    {
      "cell_type": "markdown",
      "source": [
        "OUES:-7 What are the advantages of using generators over regular functions?\n",
        "\n",
        "ANS:- There are several advantages to using generators over regular loops. Here are a few of the most important ones:\n",
        "\n",
        "**Memory Efficiency: One of the biggest advantages of generators is that they are memory efficient. Since a generator yields its values one by one, it does not need to store all of the values in memory at once. This can be especially useful when working with large data sets, as it reduces the risk of running out of memory.\n",
        "\n",
        "**Readability: Generators can make your code easier to read and understand. By breaking up the iteration process into smaller chunks, you can write code that is more concise and easier to follow.\n",
        "\n",
        "**Speed: Generators can also be faster than regular loops, especially when working with large data sets. This is because they avoid the overhead of creating a list or other data structure to store the results."
      ],
      "metadata": {
        "id": "HKpTuNUH_lvF"
      }
    },
    {
      "cell_type": "code",
      "source": [
        "def first_million_numbers():\n",
        "    for i in range(1000000):\n",
        "        yield i\n",
        "gen = first_million_numbers()\n",
        "print(sum(gen))"
      ],
      "metadata": {
        "colab": {
          "base_uri": "https://localhost:8080/"
        },
        "id": "f-4pjSvtAO_2",
        "outputId": "1f769c1b-3221-4371-e3d4-9c3932e1e09b"
      },
      "execution_count": null,
      "outputs": [
        {
          "output_type": "stream",
          "name": "stdout",
          "text": [
            "499999500000\n"
          ]
        }
      ]
    },
    {
      "cell_type": "markdown",
      "source": [
        "OUES:-8  What is a lambda function in Python and when is it typically used?\n",
        "\n",
        "ANS:- Lambda is a keyword in Python for defining the anonymous function. argument(s) is a placeholder, that is a variable that will be used to hold the value you want to pass into the function expression. A lambda function can have multiple variables depending on what you want to achieve."
      ],
      "metadata": {
        "id": "oZvBj9iPAw6g"
      }
    },
    {
      "cell_type": "code",
      "source": [
        "lambda x: x * 3"
      ],
      "metadata": {
        "colab": {
          "base_uri": "https://localhost:8080/"
        },
        "id": "QR0kq9fNBZIR",
        "outputId": "06b5aa57-2b03-4435-c4a7-4e1774546733"
      },
      "execution_count": null,
      "outputs": [
        {
          "output_type": "execute_result",
          "data": {
            "text/plain": [
              "<function __main__.<lambda>(x)>"
            ]
          },
          "metadata": {},
          "execution_count": 13
        }
      ]
    },
    {
      "cell_type": "markdown",
      "source": [
        "OUES:-9  Explain the purpose and usage of the `map()` function in Python?\n",
        "\n",
        "ANS:-  Map in Python is a function that works as an iterator to return a result after applying a function to every item of an iterable (tuple, lists, etc.). It is used when you want to apply a single transformation function to all the iterable elements."
      ],
      "metadata": {
        "id": "AmqeMiv5Bs8j"
      }
    },
    {
      "cell_type": "code",
      "source": [
        "def mul(i):\n",
        "\n",
        "    return i * i"
      ],
      "metadata": {
        "id": "HzgRDWxhB_Wm"
      },
      "execution_count": null,
      "outputs": []
    },
    {
      "cell_type": "code",
      "source": [
        "x = map(mul, (3, 5, 7, 11, 13))\n",
        "\n",
        "print (x)\n",
        "\n",
        "print(list(x))"
      ],
      "metadata": {
        "colab": {
          "base_uri": "https://localhost:8080/"
        },
        "id": "DvuoAczmCAI0",
        "outputId": "4293ce91-6c84-412a-ae83-d1befa8ee8ab"
      },
      "execution_count": null,
      "outputs": [
        {
          "output_type": "stream",
          "name": "stdout",
          "text": [
            "<map object at 0x78f4553deec0>\n",
            "[9, 25, 49, 121, 169]\n"
          ]
        }
      ]
    },
    {
      "cell_type": "markdown",
      "source": [
        "QUES:-10 0. What is the difference between `map()`, `reduce()`, and `filter()` functions in Python?\n",
        "\n",
        "ANS:-  Python's reduce() function doesn't return a new sequence like map() and filter(). Instead, it returns a single value. The syntax is similar to the other two functions: reduce() applies the function to the elements of the sequence, from left to right, starting with the first two elements in the sequence.\n",
        "\n",
        "1. **Understand the Concept**: Map, Filter, and Reduce each serve specific purposes. Map is for transformation, Filter is for selection, and Reduce is for accumulation. Always consider what exactly is to be achieved with your data before employing one of these functions.\n",
        "\n",
        "2. Combine Functions when Necessary: To optimize performance or readability, you can sometimes use these functions in conjunction. For instance, you may use Filter to select relevant items before applying Map or Reduce.\n",
        "\n",
        "3. Employ Laziness: Lazy evaluation is a key aspect that can greatly improve performance. It involves evaluating expressions only as needed, which can be particularly beneficial when dealing with large data sets.\n",
        "\n",
        "4. Readability over Brevity: Keep your code accessible and maintainable. Map, Filter, and Reduce can often help simplify your code, but aim for clarity over being concise.\n",
        "\n",
        "5. Consider Alternatives: While these functions are often applicable, they are not always the most appropriate tool. Always consider the most suitable mechanism for your specific scenario."
      ],
      "metadata": {
        "id": "tZkkWXJMCmQc"
      }
    },
    {
      "cell_type": "code",
      "source": [
        "#MAP\n",
        "def square(x):\n",
        "  return x * x\n",
        "\n",
        "numbers = [1, 2, 3, 4, 5]\n",
        "squared = map(square, numbers)\n"
      ],
      "metadata": {
        "id": "HOPiqNGHD7TQ"
      },
      "execution_count": null,
      "outputs": []
    },
    {
      "cell_type": "code",
      "source": [
        "#FILTER\n",
        "def is_positive(x):\n",
        "  return x > 0\n",
        "\n",
        "numbers = [-2, -1, 0, 1, 2]\n",
        "positive = filter(is_positive, numbers)"
      ],
      "metadata": {
        "id": "gf27bkZTD-RL"
      },
      "execution_count": null,
      "outputs": []
    },
    {
      "cell_type": "code",
      "source": [
        "#REDUCE\n",
        "def add(x, y):\n",
        "  return x + y\n",
        "\n",
        "numbers = [1, 2, 3, 4, 5]\n",
        "total = (add, numbers)"
      ],
      "metadata": {
        "id": "fo5TDdNkEUgE"
      },
      "execution_count": null,
      "outputs": []
    },
    {
      "cell_type": "markdown",
      "source": [
        "QUES:- 11. Using pen & Paper write the internal mechanism for sum operation using  reduce function on this given\n",
        "list:[47,11,42,13]?\n",
        "\n",
        "ANS:-![ANS 11th.jpg](data:image/jpeg;base64,/9j/4AAQSkZJRgABAQAAAQABAAD/2wCEAAYGBgYHBgcICAcKCwoLCg8ODAwODxYQERAREBYiFRkVFRkVIh4kHhweJB42KiYmKjY+NDI0PkxERExfWl98fKcBBgYGBgcGBwgIBwoLCgsKDw4MDA4PFhAREBEQFiIVGRUVGRUiHiQeHB4kHjYqJiYqNj40MjQ+TERETF9aX3x8p//CABEIBj8FgQMBIgACEQEDEQH/xAAuAAEBAQEBAQAAAAAAAAAAAAAAAQMCBAUBAQEBAQAAAAAAAAAAAAAAAAABAgP/2gAMAwEAAhADEAAAAveOcAAAAAAASiKJQlCUJYKQoLAWCoKgqBZQUlAgAAAAAsAAAAAAAAAAAICgAAAAIIWUAiiAAAAAAEKAAAACBQQJaKlAEEUsgAACLACpQgqUWAU5656pZbKCASyEpYoWLABSWAAUiwSwoAAAEsKUAgFACAIWgsonXNSpSWAAAAABYAAAAAAAAAAAAAAAAAAggsBYLKIAAAAAAQoEogFgCWxQLIoAASgSUAAAACUIsKlIsFDnvjullsoIBLAIAqKqUEFCWBYKlIAAACwBDpBUFgLAsoFRS82iUJZZLAAAFIAsAAAAAAAAAAAAAAAAAAAgAABKEsFgAAAAAAAAELAsFWUABAAEolSWggAAAFCAAAA5747soqikIgAgCwpZQACVCgEAALKBCgJSKIoSiKBLaCUIsKIl56FhLFICwAAACwsAAAAAAAAAAUiiLAAAASKAAAABKIAAAAFOVdSQ7kHTlFQUCygAAAAAhQEAQKRYALKJYAC1x3nolsugEWQlgAAcF7cjtxTpzSpE6c0qALVgCRYKlAAAFhQrl0Io5oSqShz1LAIAsFlEWCoLAAAAAAAAAAKSxFRVQBAAUAEEoAAAILBYAAAAi8d56VJOV7nKu07k4dji1EoLBUh05tVyjpyOnNOpKCkqQKRQIAAAUVn3x3Z1ZaAiwEgADl2tzaQzaDNoM3Y4dCKJQILeKdOBo4hozGjgd3KnbkduKVKAJQAKTrmxYAIAABYAAAAAAAAAAAFhACxQACoAABAAAgWBYAALBYCWLnpnpbzz2rPncuekSUIKcV0JUReR1x3UVEnUI6hzO8zQAFEJRCkAFBCy1n3z1Z1ZaWBLAIiwAoAAAFCKqKiLAKiiKXl0jmdq4mgymwxm8MroM3cXl0Tl0JQJQgt5h24p1eIaOB2zGjMaOJGjgd3OnbgduR05pXNKgqUISgBQQAAAAAAIAAASwKIAAAARc++NbcyFWnLoRKVCdOR04Hbix1c6dzkdXkVBc++K0pEsoEEFgFgsqEVSHPXPVdWWgEsAhKIoALABYBaiwsIsAAAUiwAWCwAAEvIvl9YACgJRFEnQ5dDleCuhy6HE0GbRWc1GTQZtBw7hy6EVEURRBVcjq8w7cDRmNGaNGdO3A0nA7cU6vA7cU6QCRUFQUAAEBnpn3bw7tYNc150dGPYd98dzMsolEAlRFHLoculc86ZmliFCVAshYACwAos46lrqy0USWAQABCFvI6cjpzDtyOnA7cU6cjpBUFvItgAAAAJydcdZVN/N6CzLg9Ly+sOZHbjooAAOfPvlW9iLLCwKgOaJ5sK+h15/QDONLlqAAAARSwpJ0OXQ4djh2OHY4mkOHYzmsOGkOHQ4tEWBIduBozGlzHdzpYLQRVSgsRbxTqck7cDtxTpzSoKQoGfeZqIoCCwAgAsFALOeueqtKqUkohYgAKABKIogE6hFEnQ5nY5dDh2OHY4dU5dQlAkOsu1eTuyyejjmJdeKumO0efh668nfG5s5uaA5eOvR34/amOvn7rbjrzxtr5vSZXzekxuXFm/eHrW3nKN8euDXRZYCUAAJzz5z2WCoKQrmlODtx2EC+b0FBFigAQQLUnSOHQ5nauOdRk1i5XQZ3ocqJYKkO3A0nA7cDtyOnNKCKObR0iSpQAAAAACpTnqWy2WqgSwEKkjpyOwAEolEoSoUBKJQAAAAlEspLAMjPbPfUolS05Ucuhl12Th2lzdjjH04JltrKxz9gymww2Dz7cUxeiVhvzoZTZEx2zPQ4S9OR1JDq8U6kDiRNMee6pyejDbynWro68Pt85n7PNoc78U8ft42lSwFiAS5l45yr1V5T12cRpEK4zr0ILAABRYgIqk6hy6HM7GbQZtBnNBk1Lm7hy6HNsFgrkd3MaM7GjMmjPo7cWl5p25ldzmiUcuqZtBm0FcWTpyO5yOryOkFQVAsFQVBUFQWBUABRz5fT5bPRrKoRYAAAAAGc41Jpz0AAAACFABFCWAEURRJ0PNs0Mmoz525Tz6cems73JeMfSMptDnjUcqJUKiKg65DjnVUw35NPD6sz0eb04Jzj7Mq708nrjm+fQ60x0V14PcdCJQSgAAFSwoEsAAAAAIoijmdjhpDiaKzaDJ1S9W0CAQAQQVRCkUcuhy6HDocu4cu4cXocTQcWiAqC3gduKdOYaTinV4p04HbkW8jpyKBYKgz7tAAAAAAEsLAEKABZQlEolQoHPUOe0KBLAACKgBKJQiiFOXQ5ncOHauHY870QxupMLoMPVn0vTmR25h25HTmlQVBQSiwJUqxRABAAAAUsFABBZ2KAAihCAKAAACKAJYKAlJQgCiKJQiiKIo5Ucu4czscTQZtBm0hy6pxeoc2iWUEK5HTkduB05HVzGjMaTkdXkdIKgqDqQdObFhQACwVAAECFASgABKAAAAAAAARYFHLocOxxNIcOxw7hy6hLBbyOnMO3Be3CO3MO3I6c0qC2KWCpUhK0RVQVyOpBUkVB1YKgqUIKQqUSgCKAAAAAAEsEvlPR18z6VlZ6SnHYcjpxTrPvzV6bLAABBQAAAJYcsNTsonQ5dDl0OHY4djh2OJ2ji9Dl3Dl0OXUqKBIrkdOR24Hbgdsxoztd3Ox05pbzSoKlAAAAAAAEoAAiiLAAUkoil5nY4dE4do4dlzvY4dyzl0AJzczdbpLRKACWQBy7HDscTQcO4cuxw6EWAFQVIdOR1eB24hozp24Hbil8fszrnvvE49OQx9WOieSzWo0zPT4fbzE55zPXw4NZlsZ8tzpUslxNb4/YCkIeb1ef0DDXA9Ljosec9Ly+oSwWCxItgqUQKASqlJSIsAADmjnQebTrz16XSOHcOXY4dw5dDl0OaC8jq8DpyOrxDRxTpyOkFgVKAQFBFilgAlJCypYAAgFSVJOjvqXRZSKIsEsCgIAAAAAAAAAAAAiiTocuhzOxw7HHOsOOdhjzuOMvRKx66hzzvE4mg8/p4Hm92fR1OZL359RxvwO5yOsu/ObawYTfk83sw9CTjvBc/Xhuhz0snWZxeIb9TogJh3ybuczbnrI52wp6JUJRM9PNXos6j5/t8/o1NBLPL6Mj0SwCAAAAAJQAiiKOXQ5nY4djiaQ5dDl1Ag6cw7cw7cU6cl6QlQtASgIAlGfOnJr1z1ogVIVIdSCoOhAAAACUAAAAAAAJQAAAAAAAAAIUAAAEURRJ0MsdR3ehzOxne4c5bjiacHn9M7OcfRDjH0QuWnmT1BcbqPNvz0aSQzmOlnqmNl0682x35tsj0Moa4d5p6pOVx9Hl9J05HTmxUFgAVBYFSgAEsoAAAAAAAAlEUczscTQZtC5uycTQcXqEoECMze896R0IogAIDl0iKICoK5HTkdXgduB24hozp24pbxTpzSoKgpCwDLQXzempfN6Dnvx+o6kwPSZRq4hpOacaeTeybfP9ZsJUsKzp256AAAIsAAAAAJOuToACwCnF6E57hx2ACWEtHPl15s1vaXNpI4djNpDi9Dm2CyHTkdXiGjgds6d3OnbgduR1IOkFQVBUFCggAAACUAAJYCk47h11zdKAQASyAKAAAAAAABKIok6HLocXocuhzOxw7GbQfM9Pfdnm9Nh5+94Y7QZTsbefbKXfzd5V6ueeUSdnevBenKOuQ8PHs41Hpz0lsIsAAYG+XfnPSvmT0x5F9gJ5tszXz9yz0THqNb5PUrPkbmBuw3AAgDnxbSvTQ46uBz6MuzphtFShKSc4nqAOToAAEURRy6HDscOy5tCcO4cuhLIdXgduB25HV4HbinTkdIKgqUQFgSi2XSoLAELJI6cjsUAEAAAAEoIVKAAAAAAAWWFgVKEFBCiWAACUSdDh2OL0OL0M2gyukOZ2OMfSMc/SMuNxznrwbM6Z68w5246Md8+K59eHcY+rDk9Hj14rTbix05HTmljg8vv8vpLJR5dh15tOjy+zy6pO+MV9Xfn7ON/HsnozZS74c61rMOT1stohCvHqbgIKAFOfKnsSgBBQAFEnUOXQ5dDh2OHcOb1CVC3mHc54rZOqjoR0JKEsADmHbhGjMaMxo4HbgdyC3kdQFlCCoKAAQoAFlIAAAAAAAAQqUAAAAACAoAAAACUIoiiAjocuhw7hzOxxh6sjLfHQrumTWGHPpGOXrHGHpHnu2Zpj30Y+jOGPrx0OHML6cujvhzHl1y9ddsrHGnOZ1r5PbQRMPRCvP6BnpyebTPutO7nF68fpru5dx0y7OgHPBqQoAJcNigZzqtLLSykUJYCFQFRFEURYARRHUOXQ5djh2M3Y4djmdji9DlRLBUh24hozGjMaMxozp3c6dzkdyCoOkCwVBYFQABAFQVBUVYCyghURUpLAUBQkALKRYBVhAAAAAAVYAACVHM7Gd7GHWsM/P6/PWt0Rm0GbuGG6Ez0h5fZxa0ccxn6MdKZ6ec59uPZ2w1jDLS2ejHrJdrhge++P0GXq8XR67xmcb+L1G1y2qKJYKkK5FcjsQABKAACUIFAIALBYCoFgAAAAlEKQEdQgJNBm0GbQZtBm0GbscO4c0FiLeB24HbgaMxozGjgduB24p05HV5FQVBUFASgABKAAEFAAAAAAAAAl4PN6fN7aggQsAFWCoSxVhEnl62rrnSR5PR2OJqMcfWPPx61eTvbgx59UM8tszvrrI12y0LLa5tHLscOoRUVBUFQAVBUFAIUBAAUQAAAAAAgIGWJ7AAeWeqlSghWfZQBAUiHHfi9h2ISiKEoiwKIo5dDl0OJpDi9DiaUzaDJrDO90zdjh3Dm0ShLBXI6vA7cDtmNWQ1ZjRmNJzSoOoFQVBQAQLKCwAAAOeh5fUICggQAFAObDPWqZ6cR31z1QVUpASygHDtHDsZtIcOxw7HF6HDscWiUCQ6vA7cQ0ZjRwO3A7ZjRnTtxTqQXjvzHGuO9mXq8npMfT5NznfzemXzb+H02by5S+TeeqwslAELjr5jXUEeQ9bLg9KcGicnTgd3Lo7Sh4/YOevCe5zTnL0eU9QgKCAAAAAABCgAllIok6HKjl1Tid0yajOaDh2OHY4dwhFt5h3cx3cxozGjgduEduaVAsFQVKABQCUOeuU6656oWiCwCCoKIlAlAAIoSiFIsCiAAAASiKJOhzOxxO6ZeX3cHPWgymww61GPfYz51GN1gsh05HTgdsx1nnsazgcebVZ6PF6vOe3x7Yns8W/lPXzviu3m1wj1nB4vo+X02PB6uTu6JXm9PmPVKIsAgAAAAAAAQoICgSiWBYKAFAAigQsUiiKIsIqJOhw7HE0hw7HDsZ3scOhLBbyrpwNGZNOeYa3PquktFHLocWjl0KIJSLCoKgsUlABLAAUgAAAACUIKgqCoKQoACCoKgqUCArDeQ6lEUSdjh0OZ2OJoM5qPP1sPNfQPJvoM70M8npIsAipDpwO3A7uY0ZjRmNGY0ZjRmNHA7cjpIdIFgqCoWoKlABCgAAAiwCAAAAJQACgAAEpJz3Cac2rYqyiAiwA5pBBXI7cDtwO3A7uY7cDtwO3A7vA7nI6QVKAEpAM+cD19eT0pb4fcp5PWc4deSz6XGeS+rryes5vn0OusOzP0eP0JeuNZaUk65OcuejdgPQz0M9PJ6xzzgevnrzne3i9oAAABMNejnsAEqIsFlIUgAAEoijl0OZ2OJoM5qMmoyajJoM2hc72Ti0vNErkdOR1cy6MxqzGjOnTmnTkVBQABAUAAAAAliXrnqgpZSASiKIqIUlBKIoiiAALCKJOhzNIcTQZtBm0hxNRnNB8/vraxJqeb1ZQw92ALDjubGe3NXz9d1JndRpwXtwjtyKg6c0qC595nG7gw9WO9c+T2cxn6PL6qgjnqdEAAAAQVKJZFSggAAAAlAAAAALKAAAhQARYFEURYJ0JOoSdjiaDOaDNoM72M70IQt5h24p05hozJozq9yEveXVduLXUlE6HM7hy6BUSglEUAQAAABYAABAlVBRAVxzqFlAAJ5vRnWwgAo5oJRFHM7HDsZtBm7HDQZ87DjL0Dz3Xk8/q6HDqAhbzDq8I7ZjRmrRmNGY7uaNGY0ZjRxTpyOkFQVAsFAACgAAAgKCAsUShKAhZYLKASoUAAAAACUQCUSdDmdky240oKWUIAIojhHbgd3gdXkdORUFIVKEFQVBURUAFQWODQUSiwLBUFIUAAAFgAAAAAAAAVBYABEWAUQAAAAEUSdDmdjiaDOajJqMmozaDNoMmsOHY4tEWAh1eIaTgaMxo4hrMqujMaMxo4p1eB25pXNAKQqCkKgoCUIAAAATnTPSgpYAAAOaRFEnQ5nY4djOajJqMmgzaDh2OJ2OXUhZKt5yNp5dDbvyw9bKmlyGsz5N2VNGY1Z06cjq8jpBUCyghUFgAWEAVBUAAAFQAAAAAAAAAAAAAAVAAAAAAlAgsoBFEUSWnLovDuHM7GbQZtBnexw7GbscqCQ7cDRmjRmrRmjRnTtza6kJzrhrXTlXTmlcipQCyyACwAAAAAhCuYaJRKhKqeb1eY9HUDjvk50lEo58ft8Ve2TKNmVNJ1Th2M5qMroM5qM2gzvYzaQ4do4vQ5WFSHV4hozGrIasqaMqaM4asxo4HbkdOR0gqCoKlCCgAAAAAAAAAAILApCkKgqACkWwKgAAAWAAIAAAAiiTocO1cc6k82/G1KUAAABBFgAWAAsAADLXzGXPXep6OOu82dhFheaMer5a3256g8+Z7GWxz5fRlZ6ZLLJaCFZagAAhXm9JQRYBEWFkHUAz6OlgKQAApJRFhHVOJoM2gzmoyajJoMrqMmlM3Y4dw5tEsFvMO2Y0Z00ZjScQ0ZjRmNGY0cDRnTpzSoKgoAAUAAAAIIKgqCoLApCoKALM9cda6FCggIAZ3tGbscXoc1C3kdXiGjiGjMaebXgw1utk05kujOGlzGk5gyw2s9XHPMuPt5tnn9Pn6XJsTz7c6GPPXNery+nzxz64OfNrsTTw/QXnjTyxh9HzenUDNggCGZ4u5ruevnryZuWunOp6MNvn5vv7+b9IPP2aeXfy2e5LmnPRn4/f5NTT0c5S7Xx+wEiuVdJYAAAAAABQARKIpUoSiLCOiczovM0Gc0Jm0GbQcc7QyajJrDh2Xh2jlYVJXbiRozGjMaMxozp24p3OaVBQVFmeuWtdIrpzDucjqSHTkdCAACwLAAAUihKIohTlRy7Gd7GbQZzUZcegZu6ZtBi2Hl20GeXoGF1V5vQ5OvL6B31kjRlTRmjRkNPHvjXs4ozy9I68+3BxrnLMPoY6nl042PKy91cc7+SMvo5djTw+1Xk64T014TfuYFnuyNLltLFRFgAWAAAAAAAKAAAAAAAAAgAAAWAEAJRKEUSdDmdjiaDOajJqMpsrG6xMe+daW0iqAAIAhYAFgAALBYAABSWUAAAAAAAAsCoFgsCwAAAIqIAsCqk6HM7HE0GbQefrann71hll6hlj6x5dtIeXj28Wc4etGOe9rrHaSusxpOUdXMaMxozGjIasqaMxo4HbOnbinTkdIKFEKEEWoKgqUELAAWCgggAAAAAAAAAKAA4746s7AFAAECZ2NGY0Z07cDu8DtxSgWACoKlAJZQABKABCgEKAAAAAIlAAgWFWUBJZQAAACwoAAACwAAAgQAAASiUIoiiKOZ2OJoM2gzmoymwyaUymoyajOajN2OXUUQt5knbmW9sxpchqyRqypozGjO125R0gpCgCgAAOLLZoKAELIKgogACKOXQ4djO90yaDNoM2gzaDNoM72OHY4dCWCuR2zhqyGrIasxozRoztd3JGs4HbinTm1URQAAALKSygAhQAEFShKEFQM9ABYAAAAAAAAAAAAAAAKAIWUShFgAKQAAQFJURVcuhw7RxNBnNVZXQZNRm7JyoWQ5vFraXquZ2OLacuoRQECkAKSgAJFSkWAtQAApFEWFQABEvPBqloBKiKqKiKJOhw7Vm0RnNRm0GbQZtBm0GbQcO4RYLIdXMd3OnbMaMqaMhqyGrKGzEa3IasqduR1eKdIKAlCCpQQsCoKgqCoLABbAAWCwgKAAAJ0SwBAFgALBYAAAUACZ0rSyiWVz0pFgBYQAvNKgsAAAIAAAAFIKWCywCEvK4m9jPnI9dI58vsyrnfDcCUCS+Kz0c95npWQAIUAoiiWAAAAAAi2CCFkyNikURRy7hzNBnNRk0GbUZNBnNRk1GbSGbQcOxxaICpF6cjtxDWZjS5DVkjVkNWQ1ZK1ZU0cSNHA7cjpBUoAAAAAAAFAcoTSy0l5q3ipZBQZtEubQZu6Z3oc2oliunI6ucNWcNWQ1ZU0Zo0cStLkNZmNWVO3FjpLWPWo82+W4SnHg+hlXO/SIIAef0Y15/dx569kx3iY7eY9GeuJN+OywhYClgLAAAASiFPPx6yeTH3SsNdxJURYtSghQAEABMU3YanQIwzr2PN6YBbAAWUgAItjmhFgURRy6VzOxxNEZtBm0Gc1GTUZXumbscOxxeoEh24Hbi11eOU6nA9FztdcdSuL0Tm0cuxRKEAAABQQAFBAAAAUlpyok7Rm7tuc0Jh3oMrpTx7daGTQcOxxNEZ4+rz1t59RNZDvz68m3m04PQzGkzRo4HbiGjOGrgduB24p08kPY8vZuz6XpKmesABCnn9CDg7vPSgARRFh4zSzTvPaIsXzaZebU9no47iKllCKIICggCAlolAAAAAAAAAAAAAAAKAz505TWy0lVFEWACGVIVLUoBAAEooAAAAACwlgoCxVSiEiwUlVKSkACLRQQlICkAICgkoShHQ5nQ4aDLnceaeoeR61eV6h5J7B4r6x8z0ddWY9aDye/jZeHUyEW3gdznE9Ly2yevDo1ZIy388rbbOGrKy6Mhqyp24R24tdOR05RbOhAIKlAACCpQAAAAAACUAAoDnnrk1sWLLSURYARmy0ZjRwO7mNHA7c0sCpQgoCUAAJQAFAWAEAAABQAFgsAAAAAAAEAAAAUAAAFgASidQAAIqxYAChCWKQAAEUsUcqOZ2M2gzmoxbWMpqrJrIya9Vi1hxzqMmsjO6ys2kOXQgiuR1eJWjNGjMaMqaXEbTMas1aM6VyTaRVvCu2Y0nA6ciqyKOXQ5dDmdjOajK6Q4mgzaDJqMroMmoyajK6DO91c3Y5UkIdXMaXEbMhozGrIashqyGrKmjKmjMaOB25HSCoKlAAAAAFgqCoKQqCoKgsAAFAAAAABAUAAAQAACFiqgAR1AVAAS0ARYBAAAAEUkUsKRRzarmdjDjfhNenVc0oAADmxm0ABAKRRKCAABJisvbg3pAKAAAlgebiz2PP0bGRq8nZ6FRFLFiEFlEdF4nY4mhM2gzvdM2gyugzvYzmsOGg4nY4vUIsK5HbiGjIashtMhrcRsxpqzi6shqyGrMaMxo5JbyOpKVBUFQtQABAAUAlpKAAAACECUqxASqQAAAhUoAAFc565m1lsEqgEAJZc1LCgEKgoAEsCiToeX04a2Zejw+iti5sWAAAEUfO9/OVnouOw8vq85v5dM69YgJZ5vV5LJPVjXopkC88c42ewQMTTrwe2uxAKACEAKBUFICpAAAApRFgUcqIo5dDiaDOajJqTG6jJqMrpFzaDNoM2kTi9F5dEixbeR1cxoyGrIashqyGrJGlzGjOVqzGrIazNGjMaM6dIKCoKgqWpnpmmvXNqoKiqkK5HF6ZvLoknUVeYduBozGsyGtyGrIashr4fVjqcd8a2emZzN1ZI1ZU0Zl0cDvhlW98pL6s+y56Q+b6ZpZp1OpYB5vTwePa+bU19HXEuqzLy+nFXWPO9m2Ho5lw18P0rIszosAAEpIpZQASwUIBYFgWAlLKAEBcdUoVKIeU9RCufMnreTqvSy1gpQIUlAABKAIoSiLAAICgEoiiTpHDuHM7GTYZNYZtKZNZWbQmXG+J33eq4d0zvauL0OXQ5GaCAopFiAoApFAIFABAEUsUcuhzOyczu1k1hnNRh1qM2iM2ispsPFPWsw30kvDpHNo8/py6rvHrI018VPY8foNHCO2Y0ZjRnTtmO3m8FfYeDU9TzQ9Tzj0Xz03YDd5x6Hn6jze7x+mtHPnj1MN648vtp8/TXeuOqiLJXm9Gdmvl9XmOp6PNZPT5/TL4/Z5/QFkopFgAAAAAIUCWAAQAAAFBEUAAAAABUz1yTTqdUFARRFHIzQAAAAAKAAAAAAAAAABZRLAUAigAgy35tlgoQlAUAqJZYBKlEUkURRJ0Ob0OHcOZ3azaSM2gyaqxm48/m9yvFr7CeXXRLk1hh3oOHY4mkji9Snk9cMdkNMNITbIaskaMy6MxozhqyGrIaXIaM6aMxpOR05p1IKlgAlAoASKgoAAAAoBlrknfXPVVZVSiABHLN6c1KlUAEBVhKFJQgqUJQAAAAAAACoKgKBACgllAAAAAAoIAAABAACwssoILBYqpSUJQQgAAAFAACwAAIBYUgEok6hFpy6HDscTscc6jJqMmqMmqsmoyvYzajFrIyugzajN2OLaQC8q7cE7yuVem49nc4tdHRy6HLoZztlxNYcTQZtBm0pk1GV0GbQuc1Jm0GbSHDscOy8NBnehzVICuR24GjKGzGmrIashqyGrKmrGmrIazMaziGrMaOKdIKAEJQFABAAAKgsBYUAEWUQAAAAUAAEAAAABUCoABSKIAAACKIAICgAEsiwFBKAAAoE447yN+8NdLFSVChag5VmxYWUAgAKAAAACAAoABQIFACUAAEolAIlpyolCKJOi8zsZtYmbQZtBm0HHO0M5qM2sOHY4djh2OHY4dl4tiLIvbOJsyhsxGzEbTMaM4bMobMaasRsyGrIasqaMxpOR05pQoAAAAAAAAgAAUQpBAAAAAAAUBMN8k67z71OhQRQoHJc0AEABRCkKAAAEIKAlAUBYKAlAAAACUAAAAAAAFJZQQoSVBYKlURKlAUAAACKRKEolACEKUijm0QCdDlRy7hw7q5NBnNRm0GTUZNRk1JldC5zWGbQcOxw6ECLIvV4hozhqyGrKGzIashqyGrMmjIasi6shpneE60z61NGY0Z06vBe3ArK5ujMaMyaMxqyi7Moa3GmrIasRqzJrMxozGrKndzGjgduS9IOkFQUABBQACFAAQVKAAAAAWCAAAWCgUhUFIVBUpAAAALAWCoVKCIUsABYAAAAAAAAAABKAAAAAQBRFJAoBYRUculcuicZb8GO/GllLUtEsqgcjNAAKIAAoiwiiL5rN+cuT1OkvLqJHQ5nY4mgyugzaFya0xusMmpMmozaFzmozaDOakzaDNpwsdjl0Tm0EL1c4asejRnE1ZU0ZjRmNGZdGcTVkNWQ1ZF1ZjRwO3A7ck6QtCAoAIC2CACFQUKASgAAABKAAAAAAASyhBUFgALBUFgBCVUsqOO+DnTLWrYsqQtlUDkZpRLAAKEFQVBYHHOnms72y3DyesCHPWB3p5/RQSpYeL3+fazp5fUISkpOcsLPdfP2bCUlIA48lnu8vp8x6aSigAAAAIWKAAAAlEUkUsURRzOycTQZzUZTYY9aFzaDJqM5qTJqMmsM2gzaDOaUyvZeL0OVhbIdXMaMhqyGzEbMRsxGzGmrKGzEbMRrchqzGk4HbkdIKlQAFAAJRx3wme+G9FUBLKAcjNALACoFgWCgiieL3eezP098nh+j5PWQSmXSd8cc13rhsdYb+c383q81Ye/w+2r5fR4I9PoljjDr0gSgRYDk83eHv1OfPmPZfBuepx549bx+wCUAAAAAAAAZndmKbsuq7ZdnQgcnHHPWk9PHcBKAAMjV4fdYEoAEPOm+fGNe55+zVUoAhQJYAAAAFEWBRzQSiOocuhzOyZtC5NRk1Ji2Li1GU2GTUZ8b5plrj6KOrXDsnLsvDsYNGbm0GbQZtEZtFZtBneycXovLqnE0h5+9SEHTiLxv59bPN7M6dcxGuNVr5NR5fR1a4w9SNZxxD0Y2tWUjVkNWeJphl6NHp8ep1xtiXbOHO+Ox5/X5PVFRFQtAACAoAAE8Huys08/elmWPq5q4e7CXZURR4fV5+7NeJwesZ1PH7PNZt3UTxe3GuPV5tyqiBSChHn9GVaiCZmsA56FFSwc9eCz3XyeqJ4d7U9Pn9JKSkAolgWFSkAAAAEBQQJVSo475Mtc9KtlqxUBSDmmaBKAAAABYLKEFAAAAAABFEUAAgqwBRONBzaEqopJ5t+TSOjmdjh2lzmoyajKbDFsTFsMmsXNqTJqMO9Febn1jPL0jy66jNpDi9U892GV7h24HedkurIl086tc+dTSZDVkjHvu1m1GV7GbQZ5+kedLWvHOptOWXbijy6615/V5/QefP1jy+vy+oCCVQECwAFgAACAAIABSpOuUz746ruzqpQsADimaQUAAACwAKhUoAAAAAAAAAACAoCwUEoAAef0Za2LEoAAACUACFAABUFILCWLaSoABFASpQCBQhYpFRKAUlEURRy6hJ0jmdjOajOajLH18nlerqsOtUZTaGTUuTUZNYZtYZtCcO0vE0GbscuoEHVzhqzhqyhsyVrzxynXWPVb3K1o4GjgdOQZM3ZjTVlDZmNHA7cU6cjpB1JQACpQAAAgoBCkQVSUBAUBYKgWCgAAAIKAAlEpAUAEBQAAAFgqAEAWFAoJQBAEsFgqCoLAqFsAAAAAAAAQqAAAAIIKlBCwCwLAAAKSkw056ruy1KFABmrNiiLTl1Dl0OZ2OL1TJqMmoyugz52GLYZNRk1GTUZXQZzUZNRm0GbQZzUZtBxNBm0Gd7Gd6pw7hzbBYLeYduBozGrIazOJqyGzGmjOGrIashsyhsyGrMaOIaMqaMhqyG0yGrOnbinSCpQsLAAAAAAAABQABCpQgqCoAAAABIqCyglIBYAAAAAEsszstaWWgKgqDkZoApFEoEFAAAABUFAlEWFIAFEoCFQUAABKAAAAACiURYAgBRFgUShFLFEURRFJFLFJzehzOhw7GbQZtBk1GTUZNRi2GN0plNaZNBk1GV0GbQZtC8TscO4c2wqRO2ZdWI2YjZiNplTVijVnK1ZE1ZDVjTVkNWVl0Z07cU6cjpBQBZlZa7s6qdQVBUHIzQBSWABZQlAAAAALFICyggsCwAAAAAAFgWUEKgoQFAqAAAAEAAAqFoAAAAAAAASUAAAAUAlABCgQSoLBVgAAAAAEKBKIqIoiiLCWjlaczocuhw7HHOqsprTJqMptE83Xar10rl1ThpDhoM7izdblDZjTViNmQ1uFNpj0aM4bMYbzIbMaashqyGrIasobMhqx6NGcNWQ1ZE1Y1dWVNGdO2dO3A7cjpCdIKgoAUAQpEoAAAAAWoBSAUEsFlAEoAJUIKgpFUCACywAqAAEAAABQABCpYAAlQWCggAAAKgAAAACsqWdV1UsoAByM0AAAAUgACwAKEoiiKIoiiKIok6HK4prPMr0Xz9m3OOhNPJ6wuJpOujN5/aY3x+mu2zLFsMptFyajHy/QysrVGTQZNRldBldBnexw0i5tSZXscNIcNIZ3QZuy8Xoc1C3gmjIashqwpsyhsyGrIashqyGrIu0yhsxJsyGrIashqzGjOnbiy9OaWFCwIWAFABAAAhQAAAASgFZizvri1bz0AAc2M0AAAACoALFJUKlJYKAAAsAAAJ8r63m1OvH7NU583ozPR5u+l7y9HhLr3Ea+XVfNvz0d7JFhKAl8yejjry16ziOdvJ66CURDDs1Z6DLr59fTVKIUBKJRFEoSgAlglFgWAURQlgAAAlEURRFEUnLocTQZuy5tRjN4YtkYtqYNhi2GLYZNRk0GTUZNYZ3scOycWlWQ6vENGY0uKzqZK9Fz6q9Z00nMO3IpM2gAAAAAAVCoKgoBCoKAAABQnn9KznogFAnl02s6BLBQqWQAlDnoeXr0Wzz3cc0gFYb+ZNMfTnWnVh5sPdhZ6hnRBQEoQLKICwVBUFAlgBYCyiAAAAAAAAAAAASgAQQCksFgAAAIoAAAAlAAWZ898Vpeeq56dICgeea3NyajOajK6DJqMmsM2oyajNpDhoOHY4do5nSotObYCHTknVzGjMashqxG7Au7CnemBNmUNmI2YVdmNNWNNWQ1ZE1uI2mUNmQ1Zl6kiNsLW2c5LLTVkNZkl2mRNmQ1mdXu5jtzSoKlBCpQAAAAAAAAAAAAAAAABLCoKCCAAFgAAlAACUABCigTjjvitLLSqgKBxYzagsACwKgoBydAJQAAAoJQAAEABQBQAAQoIoihJQolRCiUAAUEAUIoiwSjm0RRJ0OedBm0GV0LlNoZTYmTYuLaGTYYtRldYZXSpk0Gc1Lm1iZtBm0hnexw7HLqCyL1eB2zGlxGzEbTKGzKGzGRuxGzGmrIashqxJtMquszGs4GjMaM6dXilvNqpU5z7zrTrnqllSiWKOBKBZYAAALBYAFAASgBKALBUJUqgAAWBUApKEsJSLUAFlhQAAAAAgAFSkCgAAAAAgKAAABFAAAAICgAAAAAJQAlhUAAAAARKAEUSdDlacuhzOxxOxw7HE0VldRlNiefj05VerbOb1Tl2lzdjlml0ZjRnTtxTtwO5BUFSgCwVBYoIVBUoCAWC1BYCoVBUFsICrzQlAACwsBYSpVABAABCgBQAAAQAAARaAACKAAAAAAAAAAABCgSwAKEAAAAIACgEqAAAJUqyoCgTnPTOu7LZepRLJQM1Sx1CLTiaDNoM2gyugzmoxbDG6jJqMWwxuoyajFtUwbxcetKmLaGTYYtouTUZtYmTUZtYZtRk1GTUZtC5NCcO6cO4czQZtBw7HE0HDoc2iUF5HSQ7cDtlTVjTViNmMN2I2mUN5jTVlDa4jZjDdgN2FNmI2ZDVlDZlDZkNWcNWVXRnTtxTpBYFQLACWAKQKAECFFCFSwAAS0RCwVFUIBznpnWllsWUolIOFktQVBUFAAIUhQALAAoIFQUhQAAAAAAACkoQoAlICgAgAAolgsACgSiUQoliqJKEKSgAAlHLocuxyo5dCKIolCTocuhzOi8OxnNSZNRi2GN1GU2GTUZTUZtYZtBk1GV0S5zUZNRm7HDscOqczoRQQdOYaM5ZpcRtcRplM69Nx6s0vENWdXtwFjNsUSwUABCgAAAAWAAUlBKACUAAAAAAAWABQBBFoAAABSBAAFgWCoKAFAAJUAAAWFqUAESkLAAABRCxSAAAAAAACAAoIlgoAIsFgoEsAAAAoEA547lWlUIqrFGbK5ujIasqaM4bMRqyppcobMUbMbWrEbMhqyGrIashqypqxpqyhrcRrchqyGrIashqyGszpozGjOnbkdXgduKlvJenNKhLFCCoWpQAEIKAAAFAsBUSwKgoAAAUEAJQCBbKEAAEBQBCgAAAAAEKAAgFiLCwFgAAACgRKOONPPWunPdgHSFqDgZoEthFEdCLACKBTm0RRFHNoiiKOXQ5tEURRFpy6hy6pw7hzaOXQ4dkzaDNpTOajKbDFsMWwyawya0xulMmoyajJqM5qMbqM5rTJrDK6DNpTG6DJqMmozaDNoM2kOXcOXQ4djl3CLAQ6uY0ZDW4l1ZE1uA3YDeZDVkNWcNWQ2YjZjTWZF2mQ145Jsxq6zOGrOnbOx24HbinTkdIKAQoosASZa5Vp3n1Z1LCylyajgZpBQAAAAWAAsAoIUABKAAAAAAAVKJQBACoAigCCrBUoACAAALKCFQVKAAAAAAAAAAAoIlLCpFEWCyrFEUksApFgWACUsURSRRFEdF5UknReZ2jh2M2gzmoxbKxm1MbrEym8XJqM5rUwz9OdTqqrqnLqnDscQzVlAAAJQAAAlACoLAqEqFoCCoKEBQABRLAAAEsAAFqAoigAEABQFElAgsVQBChAABCpQAAAFEKgssKlAAJQllIsRQAhSLFqBZQQsCoSwAAUAIAAAAiwooAEmenFWldOadAA8zRm8Oxw7HF6HLocuhCnNsQVZYKgqQ7Zk0uNNWUNrgXZkNbgNrgTdhTVkNbiNbiNmJdmI2Yja4E2ZDVjTVkNmQ1YjVkNWY1YjZkNWUNmNXVjU1Y01Y01ZDVkNplTVmO3A7cU7nI7cU6c0WCoFhRUBSCyiWEqCwKgUCUgKhagAWEsFAABAgLQgKCCUSiLBZQARKSnHfFdJatlReelAzGaAoRQAQUAAACwALBZRKEAAspCkKRRACkUJQBKCURRFEURRFEUkURavKiKIpIUiiKObaczocuxxehw7LneyZtBk1GTUYthi2GLYYt4uLaJnNhk1GTUZNRk1hw0hm0pk1Gc0GbQZu6cTscqIoWQ6cxe7mNGZNLiXZgjdgNmNNbgN5jTVkNWQ1ZU1ZSzXjiVreOqqE6656WoMxm0gKQAFAIVBQACkBUoikKIBRAVBQJRFEoACFIVKAAAAAAAAAAAAAgAKACVKAAqwWCUAEoAAoEBQAJSShFECqACWApFhYAAAAAEqJYpBKURRAACnKgESqnPfNRVkWkaDNoM0udAWACFhUKsFAAAAAAAAAsFgCkAoAACACdCWCgAARQlAJUKAAAAUBAIpYolRFlAJRQASoKgAqAUQVYKlAEsSwWgBCUAihKJYUAAsCwAAAlBLIAWCpSAsAsooQRz3nVstgpbzSg8t1Z1k1GTUZXumTUY3WmTQZNRk1GTUZtBm1hk1Jm0Lm0Gd7HDscOxw7GbscNIcXuHM7HLscOxm0Gd7GbSHLoRSSwVBUL05h3c4asqd3OGrKmlyibMRsyhtcBsyhsxprcKbTIbTIashrcKbMRsxGzKGzGmtxGzKGrMaXKGtxpozhqzLozqduB25pUFsAAqwIC2CCFQAVCgAKCEABSwAKIKOHir2Xwe2zqWk6lAOBnQAAAAAAFAAAAAAAAAAAAAAAAAABYAApFgoQABRFEUSgCRSxSQBQAAlEsoKQKCCnKiOoFElpy6EUSdDl0Xh3E4vYzmsM2oyajKbDJqXFrTFqTK6UymoyajJqMmoyalyajJqjJrKzaIzaKzaDh2OXQ5dE550hxl6OK43wtm7MddcDRwAzoABYCiAFAAEUIAKgoCCkKlJUKAAAAAAACwAAAAAABQgqCoAKgALAUWEAAAABQSwAUAVBCwKQoAAUAlAABEqVRCgIKAARLFWUIolQAFIIJaAAAABJLK57z0ovCdVVAzuTN1ZU0ZjRmNGQ1ZjRmNLlTtmNGY0ZjRwO3A7cjpzSoOnIqCgFICxDpBYAFQVKAAACFAAAAAAsFQAAVCVKCFQLABYFgVBQoIAAAsAAFgVAKssFBAVKkCgLKAIBQSkAsAAQAAFAAAAhKOepWWuWlVCdXnpSjIZpRFHLocuoSglEdQjqHNoijm9Dh3Dl2M72M2gyaUxbQybDKbQyajG6jK6UyaUxugzajJqMmlM2gzaDNoM2g4mgymxMmoyvY4d0zaDO9jNpDNqM2gzaQ4vQ5dDi9DmgSiyHbiGjiGrGmtwG7AbsKbMRsxGzEbMRsxGzEbMkurJWrIasamrOGrIasS7MhqzhqyGtxpozJozGjMaMxo4L24R24V3c0duLXTkdSDpyTqSVxplpXchOrz0oHAzSCpRAsUlAAgsoigAAAgpCxSUBCpQlCUlAAAAAAAAAUlgsoBAIpQBEqUBSVCFFSOhFgAACgAAAAAAgABRFEUQpCrFEURSRRFLFgUSdDl0ObRytOLaczuEdDh2OHY4naOHY4d0zdjNoszvY451lefR1SdEnToijgZ0KQCoWAKRRAALBSCwAFAAAhUoABFgsFQUhQEoAAAAAABUJYKBUFIUAAIKsoAIAACUAAAAAAAAllEUsWCwVAqFASgABKAAAAAAAAAAACFRAAFRVggGXefdWW2WygGbhnXbiGs4HdzhpcqaXGG8yGrKmjOGrKGzGmrOGzIazMazOGrIasqaXIaXIasaazOGrOGrMaMxqzhqzGjOGrIashqzJozq9uB24Hc5HbkdIKgoFgUAQFAEKAgqACpSLACpQAAACwFCAAAAAsCkLAWBYAAFgpBZQAABAqUAggAAKBArPrnqlEtADgZ0AAAAAAABKAEUSglEWkWEqnKiKIoiiKIojocuoRac2jl0OVEnQ5vUOXQ5dDl3Dmd0yvVTl2M2gzaDJqMmoyajFsMmpcW0TJqXK6EzalyaDNpUyaDiaFzvY4dk4dl4djh2OXQ5dDlYUJXI6cw7uY0uY0ZDVkNWI2YjZlDZiNmI2Yl2ZDW4jaZI1ZQ2ZQ2Yq2ZI1ZDVkNWSzW4jaZKvWGho5tndgqDgZ0AWAAAAAAAAAFgCkKJRLAAAASgCyiWFQLAKQBRFEKRYVKAAAAAVCIh0AsKhQAAAAAAAAAAAAKgssALKIsKACUACUlAElABKWUABSLAACKiKqKIolSCkiqAyXqub1a4vZOHQ5GdAAEoWAACykWApFEABYAAApAAAAVAspAFhQEFlEsFQVKAAAAAAAAgAAEWLQgKJFFAAAAAAABAUIVKALKACFAAlAAAAICkoACAoAAAAAAhSFJJRQHFlq1allAMHTN4vQ5dDl2OHcOXcOXVOXUJOqcO4c2iOoRRJ0SFCFqRLeS9XgduB3c4aXOGrIashqyGrOGzEashqyJqyGtwG7Eu0yJqyGtxGzIurKp2zGrIashozGrIaXIasxozGjMuk4HdzGjOnbinTmpULQEsJZVAAlAAFQWBZYiwVBULUFCAAoCUgAKAIVBUoAAlEUAgAHHXMrRKUUBwjNWUIKAUgAAAAAAAAAQCKBVgEUAlABKIoigABKSKIoiiKIoFJKJVJOoShFEURRFEUcuhy6pw7hy6HLocTUZNKYtS5Nhi1GTUZTYY3UZNRldBk1Jk1GbQZ3scTQZtBxNYZ3svE0Jne4cuhzaJOhzaItWTqEURRFEUR1CKIoikjqEdDPvmVszp24p25HIloAACCxSAoBEqCoWpQAAEARVAAAAACAoAEBQBEoAUAAEABQSoKgoWWEsAFAAWEqBZZQsIKgqUJVRSKJUKhKABKACCgAAAsFAABLAAABQAALAAFIABQJQE4stdShKAP/EAAL/2gAMAwEAAgADAAAAIfDLPDDDIXcLKIbRcWZQTX6y4DPCPPHHOLDAABBIAAAhBCTVQf6w89//AO9sEUVEEEHy14DQETZ76LZ4o4oLqIcO0djy3zizzjbd/wA9tdZBJhB7++WvJs84988k888IIAgAQAEMQw959DPfvT/vXPNJFDZ9t+aB1JBRG+6GCKi2K2m2/CzVrzNJFhssKDvZ9ZxBLfjjNsA8/d8sY908c888IUI8MIA84884FrDDDTXv/wDeby67wxXXKBGQQUZgvqlvonjtvr3/AAv1M92kEGQMcP8ATPBJxzHf00g0CetY8c8881c84s89959M4w08sQHDPDDDT/x13OoVRO+2qCmS6AEAMuay+qW+4bp02VBxWyKKHPPss7nLDzTigw8ooAmtdtR1lt55NV5N9t95vNN//sMGLDDLHvf9h/utnxr0quq+4++6Y4m6yG+++AJhUgH9NAkMI8erD77/ADxcacSeY8juLnvddeXQecfaZXZcffX/AO332X1GMMMfff8A7vT+69Qe8wQWyAy22288CS6+8+ohBscC19//AP8A+PFPd3EDIxxEVk59ussnXmTBzTbK44Io7ij3HDHEHmFX2MMMNfP/ALjDG6/jSaVIYCqWi+dAoCOe2rNFJtccCQw+2+u40ee6vb3/AL3/AMtPsMIJL5KIr47rBGHmU09PPl3HEEJrJDiQwDb66IIL7qnTCyOlCx464xWyCTa77b4HXjDwIoD6YJbL6q6La6DD77I7DDBgp/8ArDsuXdB5G0zjBBBDyqSSyyiW+/HPrx/dRhpyD1lrqdtJ511xNUAMc++2iBJhIYaz/eiayOW+eaOOC4AiGEw/4TdGu+c6g5hZjeZp6MgAAOsFFenDFHB08s+ICuAR2qObv2ee+iKCi8X/AMdMOPPCIaT9dbwwgikopgikjgjikqqphTGLHLSrk6+YSegIPbToEIEC2VdUdyible24zqq08TXdfKjvBbTbUWcJHNaPBGg2zOhHnuoMOvkogggrvvjjnjvMKbPnmsoimIpvlvqhggskhNDHCot7RhtivJKslnBntfU//LD60w0VFAHHHPBTdbVZ2Q/8gwff/wDLoLZK5Za5KrwC4jRqr6KIbCAwrrLDCIJZ5wAyghCQBQYBTgDIJKLKoMawwxOHCMcfn80GD0jCyqoJLiwAJVFHDBoIIIILACwIqDzDCDCAD6RSjDQiSCjSzATigxSTTyxwtHTSAQAIYIoMMoMMMNNcsOcEMNfGHG2GUgYYYqaCRmU0gxCYKIIo4YpILIIAQwgJaZ3bopIxLHrry001SLxDSHCSh6+d/wB4GKeDCO8q6jHbzz/jDDHTDBxlNJZg4t/OmFdJf9EssWOySSGiOG6Si6gGaqOkGITcZrfzpz6695ouONAYUsWmLTDFIj3fPai2C2znf77/AL85yzw1yQfQdNNEennqwxY5aMJFAAgggisgglvriDuEgEAlkvtMFX601vqnKogk6mwNCmPDvbTm0/P6AMnCgwwww4w888041y82xcUTBXACBSWa6XBNEAAhgsokmtvvvrMEAAEEAAsoghogsosIAHpABHNMhLpWIjlASbEDC0FvCw3fz0yww6wwwwwwww0w8U8veZ4QZ7EACAPDgmgnvrghigKADDBGvmIBDMqnp7wEASEAQNPOdPOEMPLOENLTTDbYcwdfZRwZUf4z13TzzTUAwxww1QQV+27QBOFsrnvjvrjjkokroCFIMv11+f0nJQ7IFuMHHPLJpwvOhU7nCGMcw5jGEBySdsReTffbRVTMdcZZVc4zz1zy376+RENFsuIPupksuhigjoCDvvlnyjguxnrniNrosNXIJqqlAklDpmNrSVamEBV2kN3itO+z/fcfAXWZ97w0dTYxww53dNEHFPMPjigjkrkqnvgBBgvqsvussusENCBEMIQQwQEADQYccDMPBHWJuFHIONAPAurRzh11P/xy2O2Y+0aZwww+3QKMFLDMsshjvhrMAr3HYS/tFDYcfaVUfRJTXTec9wzzHaRby78wR/69/X7y888/UdTW8456U445x/ZyJFJ94FvZrZmOLBCMAggoggkHABfbXZdffSQUSLJQMIfXcTRaNqn/AM++MMPsf/8A+zbzD7jDPDDzDDTDLjHijHX8sPan0X0RvIk+CljAsw0yOOC+OOAEAN5x999dxhltyEkSIFJ1rBdSDTzT3zzzDXjbS2rPH/rj/nD/AC2z0cUT70w/oLPFKCJQAQw+fbwd0/COKAMopvvqNLIAYRTQUSQaVdh+wyrZh8aZTCAdDSPYSSEidn/e64ww4wxwQac87aWcfXUc3pCIBJFggojiggAECw+DGHAAoiggMEONMfZTSHbWUSenvgkjhtHSQfkO511SHut87QkJb/8AsEu8sMUn0FG20EIADQRjDCS565b46oqrAwkt/wAEIs8DK2PNZhBV9599tJBJJNNd1wQ999pDFoc8wOd9+ePOo6tTH/jrLDHDF1PFBlNMMIAEAAAA0+e+OCiCAgAMZrnkQo08CQ8IAEtxxVhNN4hJ9WHC/jQ40IL6JxqWSuW+CBBVNM9Bb3r7/LLbxzTzTjTpQhopFB88AIwM8wAiEsAAA09H8oswAx4gQwx9cF5dF9xlRd3NnTHbQjTczh0I8daQ6gthZhBBNJXLHzvvDbDBDDAgAAEAA0ww0wEQAcso4cs40NIzv4YwUMxhQwA999919hDFND19rRD1PPDufJxhxMIQQSi0Flrf15trvLbHDPDnDDCCCABADAwggEUoAkAAAAEAQsccJDIoMo8U9lhE80ZtNtPP/PLBZhtNFx9xxZhxhBRxxxBRhPfz/f8Azz5w410+4zy926995U89WPNOLCCMBDJDACDPPPLQZLPCALTXSSccbeQXVxYQqmbVSfSfbQSYRTXdX8zz5/8A8/v/AP73/wCw4w/+/wD8/wDfDjTTFrBxxZwkM888A4c04CACOwdHMosoAVt19tNBB9xJTdvr0NRQUwdtRBRdhlvj/XjTDDDDHHDvX7PLPDvT7XjDzLDTPdFFNN9EcM88ssoiCCCC2SMZ5c4coA9d9d9t9tJxbB1NI6mY5S6d5h9d1B1r3bbX37//AG3341zw8z4239++562w1/8At/MOte9PGBCRTj444454Y7Ls3xgSzyH2m2WVUmIOcWVXM4Gz+OPkulBOUluutpRz6IFEsMmKgc09+v8AvHfaALT6SSEx8y//AHV/RTEnnEhkssvmnsj2TBGNAPbfddffecUcabYTf/2y8+wqqOMD/Yz9mEurYWYj9zH3e7Wc9/8Af/8Avbn/ALigADAAAAgHPPPHPrnqoksklssJUSjDDDEZbTffdbffeaQQXedfRUWTbWUccQc/1+VVUcaZbkpIXwYtE6y8w234+6xwQBERDDABHPLAPgvmohjjnvvPPjcvHOPGUceYScYfTSQaQQUUZQRQRecQY4wz7qg6w4x12feVfWdeYx//AOd2/wBhPXLDRxZd1R5EEHk8sOKCIGW2y808+VU88YwNNNtttptJtFZhB5JZBx9x/wCb0+/f0/8A/wDrrDHDjPLLPv7/AG8940/f/wD398M8MEAARCDRzihQYhryy57iCB1+fFACgQz3n3mEEcvfn03nHU30O8kFPG8MOEPs8MPf/c+e/vPs8sc+83e0cNn8vd8800VnJjSx7zzzxizrZ765757wxv25bKAxHGkFHnENOcP/AL9tVPSSavFleq9KDDnX7bX3f7zzkdFf59N1RRtBdVxF9RtNE0yUoSq2EY22GGq6y2G+a+c8P+SHjNN5ZtjpBNBFJD1hVJ/hz+Jop/8A7GmSaXX78vnvMoEKN+jG9CBAADPAWccAdHPKPJMrpggvHEhjklqjiohmuJe7li38SQwwwwQ49f8A8881m0Pg22mo0VPb5FTSFvPfeMUkMcpOPMrPOIADDBpOTyHCDD7yKLrao45YJ77YoIYIIIbyyMpLIYx8cmEMMMLqaLrLa976wh+8UmMObAJMI794++/N/MKLwxmjsWBdCARmU85UowiIAQ7pr4rKo4rqIYoIJKIJTh66hzTz/wD3vPDTLPTLDDbTyyi77736++me++66+yDzzzXjjT/v/vv7zayM6Nb/ACz+ILMMEHnBiDHFhNODmpGsurlgPM0tPDMPw840053/AO+uvPcpoteu8PMMMMNu98c88sMN+9+8csd+89/f777ziDXrLIASggKQyBoDwjQDQIIIYrPL4qBhuugAAC4II7rKJ77q16OZ6IJIkFHPPKe9+I5+8sOMPfNuPN9PP1201TrYAwW1kMkAzCJawBigAAABoSoqK45oYoILzJeQATzpYIY4IJbLIJTrL6oKqKU9j06diML0cvJvLKM2jwwTn232zCQD4wzzgGOERwyWh1SCAzzyAL7RShKIrLY56jvQ4yDyJNY75p6I5oENX++oLy8dXtn0x/ycasU3aYABHCABSDyyyzxAJ60BDryMQXAjjywxYrBKQx6wxgwLY7a4qR1/TrDDB5/7rf77jIPX0sfoLZ8lV21MWWeE+Pknbnf/ADb/APoNdaQTS9hzeVEdmSxYntONPPPHIBgFPAnusoAsgsgggpN8gAMMPvrvvvvhnjsuipvvvvqlugsgjhSAkgFJVSkt09345yRz/fRETNTTV7aNl/Q8upgqIOBHOHKsikMJjgggggFA9kCGAAC+su8pwmjiiggpkusvvjjshvgqggksspAgtvv8/wDdX/e0kGF/+sMrKLm0kcLo5rQgDDxywIACwCb7IpprBW1orIjB1d/+NOOpMOd/4Crp5po7b7LTooZJ4YoYINvKL/vPc9u7b+tvfus5JYOvOPOJ475jKgAADCz4zwBZ6JIYbz2eTvfwzDRAc975rLrN97b7IbIJoIIpIdvuf946e+d9d9d9P/PK+Z8MM9fccsu88s9PvLL77qL4AITzzDg444Z77rCC93X/AG84ABDCGGSIABFxZ88uCKCCqSKG6W2+++6qGDnvKHLCCGCCzTTjDr7zjPTvna6Wu+6zCGYQIBkgww0Q0kBpEMj1PPgA+4jREmqMMzbVr3n2+CCCCOCS2iCuKCCe++f/AP8A974Y5Y4r777K7aYofL757477777qZ4ggK5IADzDHxwT7gH+c+MgCwzzCzwCSyVzDcNN+8bqb3M56RFf7Y/Oq47fuNfbc92777bfZfZ7/AKb33fySa66yCKOWCW+OCqMMc8sMICQpfGpBkMUws84MMMcYCJfrd26lJe6Z9CI81F+6CW+e32++WCWzy2OfTDXCGyDz3N1buCWmKe+GOOa2aGoAc0w51wAAYvqwA4wUwwwMssAwxOC+Dh1VREsJfKC2qgCIHFe+++6+uOKGvFFfvo/++6mJeiI9hdyCGCWeu2Wy2AocksJEo5w8ccfKQhc8AsE+sEtEIGDfOdx/5ZgGn5H/AI6ABfOGv/kuv+toisAXesaVxwvc84s/rkxcy094llc+sYjOFNCPLPPOgAlCUwOGfPICIFHHDNKDPPEgsggssgi+jggsnLWnfTssso81I87XnKZSY8gci7SnZygrjkvHEw1AfRgSAHHPLAGMggvvoI0IIHMIDIAEMKNJiAOAAEAECgBC8PLAovsvbssuskghgvvjhr2CQQcQkk8ZUc4wUccdXy+3wze1TBBFPQkvlkrhltNxPPBPICBABCAMGOMAAAIDEBBcCAQPLjrgMsgjgoikwkk9vvvvrjv/AO74KIMNec898576rbrLKIQzzyAI4oZ7bboJwuAjwwDyjgSxyiAABDwyjyRzBDRrBzyghSQy7IY5fcvf/cdUcdu/9/P/AD/3b3/jzj3/AEtohijjjPEPIBjkivrtvrjvv/MPHDFLGMIDAAAAHDAkNBPMIBDAMIGIMMJPuktn/wDPeMPLLLLPK+MOPsMOENOts98//p7bxFogRxg7TV31H6LqYbKPniAwyBTiTyghQAhzhjxAxRzDTjzzyygQ4P6AzzzL/wD3/OCCCCCCyKDjDDBAyKCGCfPes804ogEAQyyiGiqeeiQIgXk0c0AskwEUoYwEwAEQwEMIWOjKIw4kU1HNVwQ0FBTzz9+O6+iWqCSCLPPEgO8U8OiX7hRAAAEKCCmuC+6S6OOCCWosoI8w+8EM84c80Mwcw2MMIcQPe6ziJdtUzBUsJDPNFvvGzvPvj+im5Tz/AJ88dcdFDRQRTSQisOlnvPOuihggiggoiOYMLPKNMEPNDPGJCLANHIHPPNM8yME+JrXkFYax6hdx3shgiksoIgFPnnMsljDDHPLAAYUTABPmvvskrutjk7phmo7CKFMAGAEJPPPJDDADHENPPIIU5qlwbQFoGAOUbzh/hRwjgijqHJDDAlPHKHPPOBNPDOALACAAjurnvvgmgjggkjqxCOTDOEEJPJMMFMDPvCJNgQd+/wBz6fMvo4yDONfPaNkVa158d6zpz7bjTTjTD7SSjzQgRAAABQwD776aIKIoKIIaCPhTEDCwxzxwwQQCxzzzAgIAEM67oAAYLLJjCXOMc488OMc+8c/E+xR0BRAzTl9oVOW1l2ABiAhTDbZpLI9pJIYqqhsyhmLLDxSTzyxTwAAjTzywFgAhZwziK8Q7xQADKZ7/AL7L++++++rSAAAAwQAUDuiqOOSsQAUM88sMuuCCS6yy++cgTlBFC+wwwwMQwoQgMaGMIPfeEcmMMjiK4i00cv6SzjDXbWG8+zvTDEAQM4MIACCS2qQgAEAU8wcE80OOoQWCCCkSEjpthW+s0Iw0IgA8gwwsu5EpXh0+H9FB5VCtZXVNbbTrLP3T7JDHPXZthFNpFTjHPPqAKCUMs1d584m2wUKCCIOuMxj9h5SC0MM0UgkUQQg8gcMUsUY00s884g4CVUc9/wD+17fYy0+1o4+4zyz/APE08/8ArRxM89hBhRBdFJtmCya66aSSSB9jxN1wwsYUgAUgEMgIs84gQAYA0AMMs0s8gBUwQwMa/wDXb7zQQAgiQQU7ikl5284whGPEJFCMAEsgBrggtrglvkgvLe4rAcMOLONDvpBuCAOHMOABLLACLDGFPEIAaihWUfuvs38889Onp3XU888s8y4/MmIEQABACMBAABEADOtlrtionHd4lXTAPjNvsAAPCIFIDHHOLLquIOthLLXeUUY0ZeacdfX52x7yb+8UYVRzfVVUSXbMbTVfdeQSXFOSFMOvmvltvlNKxBfcMOHAkMONENLOBAEGIMDPsNPCkAPOQ+QWKCDLfdfaxz2dwcVVfYQQ44A0u8daMEbSRRTXMMTTYDXErilsGBVHGyNAGAGqgggNPPPPPDHDTgvDAwlIOlojnXcVDMEMs48BA4z2AFISQRSQUVYBHFCAAIKNbQ+dDKBHDXWQPPvkritgAA+IBPPPjnoiliBfKINCSxbMLJTcaYwtvLQQVRSdcx2xSPeSddTQdfSSScaYOUBELzXTYyfzDNLVOOLd8AvEqktokhxfGOXPGPIsAjgDIPLHLkoPPKKOMvuslBLHHOPutOfeHqESZ7af877JbzaVb3dNU378dxacQcaWTe89IMbDjupmsvuh6MEcAPBOPNApDNPGPAmuHMPBAkoIgBBCNIPMKoEMMNPLCQYPHSSdJHww4wwAPBIEYcfIIlutHDLjlAJWfsgjiisj34TT8cePGPdzBAEIHOPPMFLGOPIAgBPMLAAIGCAJEBEMOAZePJaQ8ENzz/T+XLCAFXAASwc07PLNMPKAIFvrivmpEH5dSx8ZiIiuICMPkvtOcIJGggvNNHADPLPiATReBDCPKIffaVaT30/4wxxSQR856dZMfcb5/cPdk5TfTPPIHutKPIezi3w/fvvpFNHPAgksIAHLHKFLLOMNLNPHPONIPPMMNKAcMfd7z07SzDyfd0Wcy0cp4dw40QqHa7zXbYEApLlDHCAV8LQ5zVtPLsOOAAmDvDgLBCJAsDDDMBOHOOJNPPODDDPDPNOB7w4wUEXfOORXRQywAGAAh+tgCAABWouJOOOuPPMNC7bN1DKuuutsPKOPvsHICFAOMOHFCnPDCHMNNANIMNMIjMJHQQRbfXXTQAcfebff3TeLAOi/PKEHMCvrJNutvPODAS0TD1ADghstrHNJKjoNAOoitMFLLGKLMKHDCAMEMVbSwwZcUdSQabedRdefXaQQQZTbUvMv9ceMNHLOcfbcNnLqCHBzQDysAjqnmoADEskggLBGqJCCCJCEAMBPDGILEAwcADSQGbOcdbSQADPNPDDzfU4YcSCAMcYBBHMJKPHgEIHnmipfzVJywemvplmqPvohrvMAAhiAANrDBgiEIABNOMDXPDBBPDWIAHOMEgAgFPHNLU8NqDJACEACFAAAEAAAAAABDvvjGY7u/wD1o5KaqxDrYZ7YJQQ7qCAhZTLYYIb47OiABwxDTCTLf77SQwjQjTwgLTjZaKjwTzxwRi6zzywSgAABwgDK57z80zff16pb6gwwAKoTCxziarriQ567IZqAAxyCBxQjUe83kGXcyXj3CznFygnQ4I7ARlHWmFmE1X23/wC+samS8CCCBjNSt19iSyE4g2uKCgUU44Su+cw8SCWOu6+ww40oMcaw0N591Mg0MM8IAE0c88MMU8Q0IAgSIgBtJQuOKAEMSwgQmzzLagx9CCS+2e+q2IAc+e+244qAwOq+2CMQsMIQAkAyG49FJB0BcmUAgEM4oQiQ04wggGAAQQwA5AYqjGEAQgggEEHRDE4s8uuOCGWa2ayuGGbLOvuCSuuaQsWGaVBNAZ9tGL9NNxBhVJAcsMMRAA6cAgQQQCeVtNMOBBAATTyIEMIAAQwJFDF2E8OqOGa+CCKyKOe6DDzCOeCqCQ0+OKTvpRV9JfrXt9F5NNF5lNNRpsA8YQmEkxRPPTfVgx1lvf8A5lHOENNBDDV8wXugvgguvmtoh7ziuogw2tohvOAuLL+oh1+APEffOwzQLXdMPLTagTTSSGMJDwQUQTUfbU1ALGXT3/HPPHOOABICgyX1jv/EAAL/2gAMAwEAAgADAAAAELefTXd8+sv454r9/wAUl8M2EQ8+lX0edUVHH2HkF3nEPGmSHm3+sPPuedqd3XG333HBnYCC0Sa4ovfdusPfOwnlNNbIz2kVX8FzR85qKOeu/wD9iCSMqv5FgjztBBB119Ndt9hRtNAEByuOuStSOy3nPDV9t+aFxXDxC2O6+CiGO36IK/M13PPAMgnvBudmOeGe1d1tNs0whe/978zrtZ/J1p1Bx15JFFJFIWCKGfzMpLHT1BR9PZEM4lvpVuCGWKOiiya+ZWBOu/8A369wp5Dp30RQz7nX/wAhzDQJK5s1/GEXR0HV3Eyzwx21HX1G357Pvet7E0kvJl5Q/QDjxjyShABw7LZIoJKocB+NKk3rY4I8OtwzetPEmeayyCcNDLP+8MWQyATCATAD3nmoQyrb3EspPdMf9293e5tLQ2n/ADDHIPZtRom+6Gy++SxItxkJxsCj3Df8co48wSri+GCwRdRqA777nD/TPDXZx5NBVbztp9kkse/nv33hNDfWkMaMhJBbvdjf3/V8C66KomK9YJlx08OEwyiwimg9s+gRwimEBhDJbmq3Bx93t5M084GSPPudt9HfpNbP/vPTHn/rmIzrhdKNFrnDn30jgiOW2rNn0AnBBTDb3Hvp0bTPSuQ8PLPlH7nCCMAua+nP/NQUSeeaCKcogA8bXFe+6MA2/WywC7AoVggt4Z9zvrB1nws++2meDMlTFrlD3/zm6ieTTHdnDxjPLg+aVjKd9A07UOCKvxsdbrHNwoA8w/bXLWQxtXVbHvrlCIMWC7bVJBEMlnBIYa+2iDlgbzrMAjPXxqHuvWCyNP3Jf4LmptyFWw0zxykoHrLr6D7pBV3aqNAou4t08wqATLdfMgJOujvLDRQAV2W6A9tFwYex/wDX7Vz/AHu9mucss8N/FUmG05G5oiwmLTuwoJUk61NuJPelkeBSaKR9PbDKY6LWo4B2l1zrv1S5/Os9tOubc4Wp7om2OFmnUHXN/wD3Lv3HD39Rd/TH83bnfZ1jWib5ZX3XLhl7pFp88fQ0oMBx1TXbDsg78J/Hf6jfJPgVBUsqDaKKCa28RfpsK+q+zP8Ay73454sxf/7X9+Uhw6zV7zyRTWw0QVWZ9cQSUZUR9V2xZewz663yj7WVkb5lpuhyVYdPSAFFks7hLomqRLg8z88//wD/ADT7dJD7zzjjTDpjLTP/AA7z20+3+85zwfWUVXTnGebSeQ527zuixnovj6Yd9Y941fVRdXVVOruknjKD0UMumrvo1+/9aWXcdR+836VT5wQabfffpeU9vMUaV1eePWUR/lotEU/89m/7T+/u4xzw3+de1/T8deQ1XMKc4mnTW+8Asmpvu5/10w33w1xb9bRQRLOlT+qc3VhV/euHdhVDx1YV72ns7CYhqvp/8Dxwl72546/bhn93Q3/Q5MOGehol8094CtqiML187/z/AN/vV3eG/wBDnt9Dbsi7xwJ1sVRANgjlP1R64pJEu12W5efJ8lj+f/zjvr/vjfLXPHtHPh0hswMJF19oaGiNxH7PPXbnrHbhTLXLTjrDVDD3/T3DFzT1a7Tfv3NAIbz0sjh6DOLNXEt+PX17fLHDnbzDDf8A0TQYU8ZCUVQQ3ibmv6fTy5xzm513/e6z9341aRSVsKU84VT1zgxeBZeZKccd/wDGWlHdwgXJUSa66IWV+0FkmUF8EHe04HlP/wBbPDZ5rI2OvX/zjH/DL3D/AHfVf8w7zUpRJpIq63gPyVUsUfQ0IwA53w2J577Du5Fx+9k+vbRRfTc28abOxSeSaQZ0/wA+8t0n/gprH8+U1sdu88ufv/F/dHH1d4s8Ppf001/mG2/DEuL5odYQy4LiVDSgZkLY8Y8/MmNCUIM0UCemd0FHGesP3PeccSk4Js02QJMYMdWFUO83POfdWm3GWXXW/wDt7brPQBCERhlw8swld/B14zOdFdsK2jnoIyXrhSRx2RtnbEBht3ZzztLU9qmWEAzzDnPPl/ThsDai4tzvWOKyqS0wpoAQ00m6PKBc5VfLv3Bm/r3xH7nH/PxNJhHvTXGP7XRb6/LhlD3t4yZWhNy6OoMDXLjDpTfDO+uejmyG+44pRwNRwgQoIpNrviueWTz+CjfyDKqDzLDjPjdN/wAYYdx02Pw1fogWDcoRwrJY558jnzuvTw0z/wA/0Mc8NbrbLbH3FXzbHlLPZKlekkwpKNPbe/8AuGjLHH64tvXvbv7ZFntd9X9FH7s+EUoUkLEt7zHTrVLEPKmoM/bXLLXb7j2tkcuOicIQxWZNDv4mGVdD3KLGBkqQvZJhm4Gfdv8A/wB88csvHH3nul10uUyCSTxirr647o7xrpUDE8en3+u8GvdtP/MV1CVDGW0jg0W+EmEuDxBD2hKWcIKb3VKpnB9sO/dPf9UW0F2201QQjATgABBJLI4oJZJazwfFDUOa3GqnUQ5KLZf8nWBDX0kV322QPf6211+mdH9P15412xsPIzLc8+OtvM8M9MceuUTzrBQDLSjT74KK674ghADWGQ1p732EvM8PcpKqiRzhlgkEEPgrMgDSrFzlRKC3ENUYZ23JPK1/e+8+ccEeGFs/PFczmDlnGbgAjgyzzx4hDwygh+Amrp3HLuNPNa6vYTbIDwzF1rdW9/Vj32mwznUOIkg7D7GVHDx3lese/Nv3GEcGHa5Z4wADTByRBQhBTgTgDQDzWzkAH5Z3HeIPMPrKF3Xl3+UXfmagaVRqjC0jZxww3MN/yIsinqOwRTd/cP8A/wA74lRbnIEJTIQOIIBNKAJABPJGDAHHDFydazncb9qor7xaHcXf63y01bbaZ3z873BXTXeZTbbTXFb34877/wAtp5ppuPbJPdeNPGV01FzTziSAywRxyQAAzyhTuJmPqQwb44YzqBnWk282CeTyFzQxHKbyGB13n3f8MPvN8vfMMc8sfZ9/Mdec/uP9+9Ue0nclkDRyASCDQwhhrz7pRuTFMLgEf/G5nX233glNXQT8q3hceQCyw2D3E+NMK7YNvvc/vN/ofIr+tO8eN/8AP37ndXnPJP8ATmAPKECFPvvgghjoM5pbv3QX3/1wTaURmPpZTjYSr6feRj3QYVgdR1y/aBWzy6374w4j4j861/777w841854USWedaaVPMKBInvvrnsghgVoYx1ceeclnoQeRQ0nqQZMW2oeuKpR8fvYd1+36xbqgM3Dh4jV5K71z2+29no38hnNp3kPb70YVWPjvLnqsusgpgga/TV1ffeTRRTdSc0oiPYYlINDBNm055NeK1/5FwLv47RIeyECQMxM5z93/wDuVsNLSjjDrAbxLzzjRy5rKbpJ44q5Stf9lXE2k3GnX3W3HXm0EGHX+vvVcOtZ4883e/cVhhzxLIW2dGPJ29udsv8AjDBPbHV6grWgsCGc4sAq+Wieayy2O0+sVPVjFB5BLPFN1tBBJhpt99pVRFxxRB1DzjHuqDr7X77FRFoUdY0+vPLZX9j/AA207WwSeSfTeKJ1DLOthtMutptCJHGQf5xcBQSdfdaXTeSQMEVTeVTTRd+Z89+Yx8486yw99yzw+/z+/wA80n+cPXFO+v8A593ggEQg0kYQI6keA0me8oQ7JNxd/CQwdhdVtBHLnd99d51dtvvNNzdzrDY/Hz7vjzHP7fvLJt51NhjRt5xzt5FZJ9xJVsEMoWgMgUUsmaSeqSiyI8llbgIeydxt51lpT/bff79pV/eZhr2WuW+BH5Rn7bX/AA73yVmZGPtY5cYWw5WdZfRaWXKIEABkjrDEpgvmhiisgtgpNi6/I2f+dWbT2VZSecdxTXSW/XO6U6vzzzCpHFn54nmNjClGOcg0dmBANjOO4zeXzFPKImKolkkkENriviijtkmhuJ11wJzcxQ537zV1yTw//wC1l1MB12nHsk+kswevlvedvHXsIczuuOB3GBzzCS6JQaSwDDIBpKL7bbor6JIrbaLr76pRDcuzjT5eemF+MuYZp5L4q9L6wheOUmNNYD5MI4+IOMMsed/Pncbv08r8BzZSxcqzDADriwIroroJb7o5rIZ46rb6gQY/vP4L/vOc9P8ALHD737vjOeOjnnbmSyueaymiKa/PfLvzHvTjTjDzPKEwAPbPvB2MwIE4qoGM0Q2sUUyewuSemWwIPbrzB9nHjDDzXfzz3Hf/AIon6207/wAussP88H28sfvePMOctfe8vPPvrazrJzv44ywTTT4gBjrizAhjAII4qbPKoayRFL8MEGYIK77KJr6LSPcq55pbaTnxPIF/c6ykcsMMNcP/APDj/wCcw535sLIBFcYxw3AOEqnPFNMABOBhCsqisptnungNEleZPIlglrhilvisSSpslosp2RM7atPaeJOaVBzjEbVNBBOz3TdIDAvLLHDDfQ7JIHTNeCKAADMAosEAAkjoMigvDZy0QAPr1pjigrsrgADT21lnPlAy1xc4Hl0yVI1lrnnypgEovrrrNFuEBzkojHu+1BOIGMuFPnMLLnOBIFtrIJmlDeay7YQIp7ip/jOsjzbdyxjup2IRXbyeC7i88hpin376z49xNnuLao28WsDVpfKYhQghmvvokNMlKPohjmHtkrvrjkIccAOcRklruqvAIlnvtmiornrnvitgngVAnnLNYRnj3y98p2R+rGFmS9TmX/X3EHi9ukvHpMDtMAOgmoAHjhkuvtKNc5ilfZnwgh0r1qviussmrklssjjshvsutvrjjmAtugjz981d97SYQXz/AP8A2ueFRxbOq60cIMsMQQuMIs4um2yuukfdDw8EAN1hL7vHG7zPv+SWq6q2COKMKyCaeWSG2y/rW6DPf7DXi6LDf7nXyuq/XDfHSeOsqc2AICwQCwAsWeiWa6ATfeHBGAwMWhTCCmMMNxwM8wGSeWeOIc7z/vPee3ff/Tf3LPTPSjmnHfrb/HL/AE8z4371jsspngPvLsPIAPusuonjlGHe0TwMuDO9fvpolno3b68spAiktkouuhiutgsgghk57yhy4iiiis00789/68z0z96nmggrj5nNDOHZEBBBJGHPXfBMd60wviAlc3jiCjMVeZaVSADjlsjlqhlsiussotni97/3nhnpjivruvhhpmp8tvnrligmspmpNOrEKLgLAEzKNIoIWz/cZsHLjoEAEBHKEwhT/wDPH5qIO2ZI51mb4s9YLqN9uPIvGdL7r6eYPrLPYfv206L6barL7a6I77KKjwxzywBT7C2M5vfbIhATBAwwxzvOUPbh54PN4p9EAqIG5D5qoKIcYY6q5j34jaM1/u5J5NfUMmnKDwa674IY7o6ACYhQyQ3mACixNPKo76C7QwCTySZIksytqwIyRNuDYLBQ27s1mISBb7pLLKLP3GNPQk4rZqmJSLe7zoIaJ75wjxIaDbwTw0gAGAzDTf3rMLITBiIxymjra5oBOzPG538eUf8AXxhMmB7jskGzmuO2njdg9hTNOObYDrYMj7rvfX625PTiwO4c0I4wAgGsikpB6iLYMsAkgA4wUocCCk8M8s8wcHC2iCuUR3MdqeuefRmRzlh3CV96Ph2PKHRblwJlbmMzPzgixzIAYQQg0kC6C++ghWC6RBwEUU8ss4kIcA8Ai2uUIylMwmC2SM4muOGOee++GSOG/Y5Bxxy6jVNJzHNJNN9/DXTbenP4oUkBOG+++OWG49fkygw8EMwwwQEaw400wQOgkFqK98SkM0yEKC+Ca6zuCjai2++uOvbm+CiDDX/PPbeaieCGMucmMsAc+6CGe22CykhrkUwMcU4Q0848s+oQ0UwYgUMKQUQ4gwiCiSqSCfzLjp93jx7v7Pfr73T3X/z7Hbbjua+WqMMKysQcuOSOCq6iSiWRKcikMt9IAwEAU84scAE8ksUgEMQcMoUIM+OSS0tPzHBniQ8+veXz/fTDtPT3rfL1xHyWCifEYwoQOghpJtGaKy2G9CYCMw8oQoBsYh8UgdZcwq6Y+y2AU8ggEeRgeAE8cvPLdOCSCyS2e27/AOz3+jCOJAnyzoMqhNHBBDMslromspuhGPFQ5LtMDpKPIKOMNHCIKMtOKLGAQsnujthyx6zLDp86UQQwHutotqgsoCz7xojNADCPKRfb7HMJHvqvpgvorhhsvvqhFcFODKBPPDCLLAPKknqBoMMhMi+eLiGApTT8ME6Dfy0bdhz11k8smOYSy24czS2Fv+fTd/aglEpmvABptlprkuvroHMNkAJiPJMOAIHJCfNirABIAEHYwEbRPl6Lr8TyAipKmwhgiksMtAhDKHlOFLugHCGPPbUfIFBussvjivtqo7hqvqV1qhABIrABGBPJHHIFLMOMJJpb3HnCXeMvlHoGKwjl1MajokrqHLihAFOPKDHOLOHIMBPBHCIMnupmmouvjsns1gkc0g0MDLmqJPONdLkCuAAhr6c1/wC7DuP+7K46kdtsK8Ql1FJ88qySpjC7gCAgYQBBYCjTizxzzwwCYoKr744IKI5ZB2uB9TwwhaxAQlnkjDQjRijL33B5iILTbDx6BXV+lQ+8PPd+MtM+GKw2ByByQu2SN2+eNUSARghDT6IoIZHJZLba6wmsC9oIzQVn1GwixLDyiyQo8T57oIDKi8ahRRiQpyAsPcP77ap4JezrgwDADCr1J5TzC5BARQyxxjAII7bhqJp4ZyCUI3sI4ADhyggRjywJjAQ7V1AxLYzCGSqpBDQT0qYv+8WGby4INOdVTyzjSgQ776YoQzjzyQxzxzixhLJSBL7oKRJBF4GN75SQxyjQRSCy4Ywy3QvXGRyX0UEEsCnmW381M+OW+Mtst3+NlOf/AB0cnDPvxxY60sYAk9Rx806GMkCeCMOmcNB0P3iO1dMMIVdFlpM0gIUkQssI+wwIQg64zCkJlBTTHvjJT98j15//AN03cz/ww59wziGbcRUSXRTbUmujknrgmhqfabny8MIUEAOFbSUGdReGIMHKIGIDOEPIMIG5jrDMoIQY+ZTw2uNO/wD+mZqq9f8APBwEoQsIo0c8GOsKuiC2OCWmu+MRtpmzoAMwKCk4u6AwAMI8Q4Ek2iEUAcgMgMDkG5d7GKANtHR1q02FfNtLXyjDPT+QcAlsU8wQc40U8sYICCeiKSOMlZgrfIMMIkwwU8wIs4AQgs0wkUAk4woox5JZxhFFhN9pRlbLHPDtd/8AWdzS6Y185aaHZVRXdZSQUEFSGOLg4ppghsMFU10xABrNKjBOCmoPBPIPkIEMMGODCgsIXWQRJFLj0+ecT3bye76ZQXXbVSJWiQ5TIMbeZ03WHHUUUPfHgrtjHIdPCcRiiDFCFjHivtjvHHPLwlChBaKPGFvlFW+eBIHiC17vpQwWEJHYRSUTfaXJDlmigIOJQYe9DKBHDWbfDGsjshtrDNbdrhDMLGrtqCPaFHvvYR4tuK7acY8lCpYSV6Zb936V+mz4waXSdeRVQZVTIQvMLTfT4f8AEQCgFjbRUsz4CppL5oJf/VYfDCQiSIixCAgwyqzwAAQjihTgoxhiQDTyBT7fHKAbnlmm82UEK0EsWHE2C11FF9UdnMO11l90EDi2Dq7IprbJI33Z8IJgUjzpBTwQzChihhjCz7RCJCATywBQAzBSwwwwhw3lyDF3VD78MXGfjAQhT2HFzZRSoQzBziwyUkYLJ67r5PGjflc3p54NU6QS5oIaLSzy57owIQgQTCxDRSgqSSQxzTgEmRCWuGaC0NXd3t65oBVwQt3vFGzhLYBDSDBb64Lp5TD3w990+gISqLBj6r4xIVwyyTbygbZhyqhDSY+38DizCRjkVHWXmNMeF00HducXGWn3T0//AD5ho34ZVhFo00se2Ak8tRcy7R/OAEaoIg9tKqCAkgQkwIAQUsoUQ8U840A4AAgokt8pdddjNL5CJF919b9nBARzFxnPk4Pr7xBRAAmwCYgg0fTFLzhz4KSNzkIPJbOuMEMQIkQUx5wv7EcM8SYgAAUggmO8wwpT7JlMtRg05Fdl1V40IwoHaMwGyoNagwkAQOEIAcq344l6A2aCC4kEIIGMKtQw2y8gSy8Ey0MYCAYUc4asYKACuYPLXDl9RZ9wxlB9l79VNIsA2LqQsscyIwu4qWKAIEgJJpgRqy+yKqG+cMWGMy2mkCKg84cEo6cQwCEEM2aT79LLv/ZhxxB9Z9pZZNJlrZ3Td5d6oGfj188c+OnPNdEKsC40QJsVZYCCeee4iAIYqOOSe+e2U8soI0k8KwM00YuQBTo2XJQtMNR9Z1+8QaUwyd9fhTRJE0ePtIEoAsoYs00IQem625xVIHhPnj6iaAycKumu+w2+iIwQw8KEA+0owcMMMFcwskUg3qkAA0A0U8wkAo4dRS0sAkQ4EIIoE84kAIg8QgEOqyIVKXFV/q2SiomGIyGC2CCU8SmgKEiK2OO8MsdkQocwgCiggRgw+QA8cI08c4IE4KKW08UMYEc8+84s+6S0AYIAuayEJ4ZtN/CWKCkYY+kgK+mOSWqMEe8geMwiCuw80sMM4rD1PPPb9y18tCYJBQMlYwcY88lNF9BJj7tX3juCECOGUiO+VNQfXvDOumuMfMYw4YoaCCSAQwoasvAsC64Y048EQssO4BN5xC0Yw4A08AIwwEyOW8c0UwuAssnjDey+6kMI+Usgm3tGzIh9++ioEkaiC6iyKawqyOEcGaiI0S+coEYsMYcEYmBx1xAdgWA8A8ggcsO4UYMYM8oG2YE8H+E+fq4w0cMcwsPl+PxsAay+y2+uGSGGaanbOv6muGWM8YAqAr/pMV1tKT7dp9NtBFAAsY8h40K0AYQkQY2BtNMM15AS7DCkM8swAUwBxDmVQwy6uaGSymGO2OmOPL3KCyMU8O4wC+XzV5JBNV7BttNN5B9JN1tx5MwQAM848PP9pdBncL9jDbPYAoksMEoQplvGTyOOiSSqaqenPW22OzDeO66uomEQdGyHDksSt1A1NHCNP+EAh1KBVBR44Kkd3Z/Tnl//APSNAJQ/6RIAEDBOHGBDN5Mujv/EACgRAAMAAgEEAQUAAwEBAAAAAAABEQIQICEwMUASAyJBUFETMmFgcf/aAAgBAgEBPwD0p+qnqox2xjJ6cJ2V7N4QgtPmh9xGO2Psr1l7MGUvDqQnJLvY7Y/3L5QhCIiIiIi7yQl12x7+JCEJ6bF772tJHxHymoMj7KF54PdKUuuh0IiEIQhCIhCfpWLlR+mheeD7lKUpSiZSlLqo6HQ6HQhBohCEIQm4QnpruwfYQvPB+7SlKUpSoqKi66coQ+JCEIyMjIya67XF9l9hC8+xBoWLHi1yWnwX021RqCXXlSlKfIpSlKUvBohCCXFkIQnF9hC88H3nxTkOnxbH4RVTLwVJIyWK6bxQ8YPHqj4qsaQ8UoY/TxiVMrj0Ghf7Iy4pdB82pxq1SsrKUpS8ZqbfZSYvPB+mh+OFPkx6VtHlT5eB5F6I8tCzmVMs0yl5L/UngnVoxREYzyZNNoylM34444r5QlbQ9JP+caysrKz5FKUpUVHQ6EREREIQQt0c9PGdR9ewuxed6QomXoUThS8qLKGMTbMX1McpRrwPH7oNdRqcbzpSlKUomhNCa4P01+oWqfLrS9aZO8G+9RaXng//AALF6SF54P08VXDPD46nQjIxLrB+eL4Se+lwnCdpC8i9bBxjem03iNqpF8oxaR8SdKfGJMai1Bqbe11Gp30JXtTlCavaQmY+xdV2lKj5Hy6QbXxRk+mkxu6xVZ+RMy8wRm61ufckPy9JKUjF5R8ejJpdWNeRtf48dYdK/Sgh9rEx/S4+Hyy8iE+u6fh6S+0g1GLzpaficH6DFt8ULyY7fqRnxPix4pCxqbu2ZYxpf0zwWLSvp1/0pdVaxS6tj0xD1UPd1UVbqHpFXBkZGTa8i9d5YvFIbsE/Bk6xPoKIXk85Df3Uyde8MlOpnG6uCVYl90JWxY0hiv6JJPIWP20aipCNwaa4YpJNvStMhqEILHo3yg3wb5LsJCX6C8LxQso6Jyiaj1ekKN1DdmsYqZNt7SM34Wk5RD6xCwTbg8WNRJCx6jxibPj06jxhB4uDXBJvSRCE1SlFxX7fHyZ+b/d0+Qsi/gpRvwLyjLzp5fY/7Rk6dEZ4pJf0gunjc+26aiumtLhHr8/+HxG714Ibur0gurM2nEvC1jFg0JdBY1+R4weNgkPg/wB1eFLwcS4MTKUp4VKNlPkLIeVFnOh+NJ+0sGyP86WS+PgmpxeMxvoN9ibe7pPheTbfFMurrH2cVckZRPp/DNJrGGaXy6GQ8UsExJ1H1GuiX84JDFi8nEfB/JqE1GR0g8Wkr+THB5NkMZMv/nbrKysWrpauqxd+srEzH2cXB5U+RRulLxX+usPjjX+YY9Pk6YdG2/4fTnzrLc2zH/Yn3H1HYYOLJ6w8v9Oj8i2/feus31E2VibKUtL0mk524JaaITg3wnoYi9fHEeK/Dplj8WPF4pU+n9PFptnwf58DwS8Cx6pDw+/4o+phjjkp/BzSFip5IMnRCxqbF1M8UmoPhS9ml1ePnnfQXkXovl8l/jkOiRm02jLqlGJ/bBuKF6pny6pl60bbZOXkb6RGEXkzH3oQYhsRSiH6yQvXr4Jx92i+LMnYP1XwfqIX/gX668i9F6XUeCT6s+K/D/Wvfn015F31p6w8ofl6evpryQj/AFNJrzqeghd5K5IaX3kQ9JwxVY/9j4MkMOiY6ddNP+cHi15XOP3JqLU9FGO328fI81P9UNj2sUlaMyysMusE0mkNr5pkxf1W3IY/FutdBtvF3+iSxM8EoY43JH12nkp+Fp6/KMl9NfTeE+5fkxxuSRlP9UfSwxb+7wfU+m8Ot8nwcp9LBPHPJ/hdN/R/x9VkZL5ZTEeMi9Fi4v0ULv3ktUpSsomUbpjkkNt6esJi3l/PB8nbRZtXoYvyJ9Ev+n1H8mkZN9MS44YY4iWL+o3DOPHovDMkksZ5Pprr1/hjj8nKL6eEbvgWSbShkkm+xeF4TS016KF7lKXtU6nyY3ROFKY5q0xzSTgssV9Nr8iG6PnOM0kXaZfQQkJ/t2URS8IXV9ZC/aMW2LS5P1VvEXbf6Koq1SjEVaoxFRUVFRV7SEIXqwk6Ixxtb1jDNYrJzeKt/wCCWDH26Xa8PbfCQb/QJiELx61G38UtfTeKTbQ942ocyzSxUMsY3TFVwn3Jf9M58nyoh7xYmvi+g8sZIQa4XaTfhDTWvh0vySGo5xvqpCELx7Pyi4Y/kx+11jdybE0hdMqW80fHJnwyXlEFwahP4icU2sVGkZX8vWOHywT/AIZeXe4u/iL9ZWfLIrKVCWF8C/xPBVeCzxkfVyWU/L4JHx/6ZaXhfcPz7eIv2V4PSLwpfaxF+hYvVaLq7ntoXfSnljWM6c/hk0SEbZ8Gt9SP0WVlZWVlenxWm/bQu++sZljkkLlVkkh9GYf7GKyVce8Eur/4Yupt+JtY9GxeBKszwSSmV7SHzfJD9tC7/wBN/fifUauf/VySTPiZuvTyf2v8DlesHGiY5Z/GRJVmSTxbSnXT/wBEkLDBfRyb8sXRo+oop/XtohCE1CEIQeppkcpCCXR6xxyZ8GNNclqkH6CF3LwbfJcK9/lGOfTLIb1WPKox8mSybGoPjh9P537kh/Tj8kPifB/8Piz4s+LZmnE4Yp5eEPFpxi6HyXxVW14Zh+WJt4sy/wBMYZ9cFSEIQgh7voIXcnpXpOw+1dVmOcXU/wAv8Q8nlq9JwxaVKpEUb5eN30ULT/SP3X6i0tPhfVYv07IIe53kIxJyT5Uuru9lL9Yij7yMdPilyYh6pRr/AMKjHjBabLpleoPSRNRftUREREPg+eJjp8EPmk2fFDF2HwfoMXvvtrwLlOxgri0v6Zfb0g8WtLyjJJPppLqZLqhpreGCyZGM8axxbRine6xLvPV0xdqlH214Fyb5w+n0zHlk31/p9TKpIRBYv438D8UxVMfLZ9V/ZgfRxuabXgzyWWTYnMXtoSZm/ikLBLFXKPLwZfS+LapHKNNeVtdhJsmX8GorHqExMvPRcEm/Bli8dwS6ixbHi1+VzpVPRRi+7dfLd6QeVSR+IJwxyhl9RZJKeDH6nxoh7SrIkhr/AFrE18hvJmX4Rn1Xaw6VmDaT69WLJ3r+EY5v7r4m8o8EJY/Bv86xlH5Zg8U+rMuvjxvrpERD8wdXlbSo10ph4/p9TpkMveQhd5DFti7iyipW+b0t/LoJl11Pkp1Pl0nBDajS87+X/EfL/iKjp/BfFO/FlwXWdWXo1vFzqZdYhZRfEz/A++hC9JDEyrSKtrhRz8foKV8PyVfwbH3VpC7t7k2il14L+lvpIXenaQ3ypRdli1RP2Jq8X20IXoL0FwYuc9Ji4svpIXqIeoIfafBekxapeaH6mPGd2caXUIQhCaYnwZCl0+1eEIPjSl1PVx4vtIZNNbuli2+h/jP8b+SQ8GsvifVx+OUFi2Rpwzx+LSM/pfCV+UNE3i0vI49Tc7N1eN1NXjfVx43uUr5fSz+PyZj9THFvKeRZL5ZO9Z0MYs7kxXLNsqeavgy/3Mni8074Rm3lk22MrF1ZjhcoLy0fUxWOUWurcI04dV0Z9P6fy+TfOsQ9QZXuDL7cELi/RQsmrOGLaxert7WUdPkVvzrFfdf4Yvq8h9WYNfHLH+9hD0/0SELijzzb4rT4vV4sReNaL01Ul2PBSjfFD3PZRjzT7z3dQot3Te7q9uCQ+xdQmmyE9ZGOn3GuSHqi1dLg+C9B81xnsIx0+6uC4rT0xbfaYtMXF9hcX7CMdPuofFcFzfGC7L4MhCdi7en6qELx7CfKnnU3eDYtXleLITjBD9hCF4/QUpN3lClLvwUvZvoPi+SELkhkREPuIfZRFwW4iLcREMW32n6r5Ix5r0HwfoLi9vaHwQ/cRjxmkPhCcp2KQm3yQ0Ta0xFGXiil1e0h+mhC8cUtQhBoTLxmmiag9zc1eS3Cbfeoyk5JD9NCF44p8HxQ90pdXky8EtrhSlKXvNckiCHyS71MReOSHp8l2Vt9hiHwe3pcHuc1ti2h8F30Yi8diD5ovFFRVq9m+gn6FXJF5vg9IxFwhCE1dwh4GXhCE1O3O7NTgzxqEITjNQReHjvIxFxotXaXB8Vp6pdpbgxLV9CbTGUomN8qXTe1qd5GCp8WuM0+w+V7V76JplFp8VwhB8GLS761iLjCC4Iu2Lk+KHxXYQ+C2+2u2h8H2ltafdfCE2h6pOE5Jj1BDJpDKXuJ8lt8Zqj7S0tPnNzcIQnZvC8IIhODL32tQvFbfGlo0JcHyWl2bzbKJ6b7KXK6Q3ql7SW7tD1SDXGl9Nax7TFxelyQ+D76HyWnzWn7ePYohi5TS1NLU40pS84ThdPhON2tt9lvU1CE7S0u2nulKUW7tF4wnYnCl0h8L2EXtUmqTg+ytY87pEJp7hBabJuk5Ps3le6hl5Ig9UQy8HzekUXYnJi4vT0tsXcg/SXYQ+CHxfbXurTEPsP11qEJynB9texSlG9Li+N0/TXDxqlLtvSfC9paXsPiuL01wTGzyTSH3GtImkMukMXG6fbXL//EACkRAAMAAAUEAwADAQEBAQAAAAABEQIQICExEjBAUEFRYCJhcEKAcYH/2gAIAQMBAT8A/wAzhPcwhPy8IdPmdJ0nST3H0JHSPy6UuiIiIiIhERHSTOeq+hUpi8ulLopS5UpSlKUqyqKioqNhwhCEIQmUzhMoTRCE1zV9ZtEH2EvR0uqnUUpSnUVFRUVFRUVZwmUIQhCEIQhCaUyoqNhzsLsvyeoT2Oo6jqLoeSzo8cYnSwuinUXKlOo6jqKUomXNkOkgllcnlMoQma9F/wBaPlir+c2xYjq5OoTE62PG62J0o+DDxprQmXOluVWulKLEdQsR1FRUMhCEzg134TwWTe5bZzNoh0kIJSjw1GFTKanyUrMT4Nx17C2QnsYVzp6tkdWxSnUs6UpSnUdR1FKU6kVGxsRERERaYbGxt4eJvTNUITtwhCbkIQgttMIND4GnVkm5RPYTpSlLlSl0UpcqXKlKhvOlL7uEZHBKLxr+vfBhxJ6XshPbs38S1SRiFwKn0xqwTLusllYUuS0J3tzS3PBvp5lMoQjEnkxZPjJmH7GYbky7C4WVZdLex8IVWJ5NVpfhHzlNLRB5TP5PgQ+Mnkufb1FQmx4t5m+BOqmF3w4tTe6XqJ397l9izZ8E2glM3h32MO2hsbiKNzKj+EX+UE64XKp6Hzk5yJ0TT4zu6XZmU7z0z0zVIPmiN6R2kdolHThj304Vy8nvBiiHiaKhOulfwJ1ldFkmtN/DMWjpGnnDD8j4FxksMeTE68pRcZXfJPKrN+xXkxZPRDfNcmJwwr5yj6huHVBO5rzn6lV9l7tZJZNEEoTJeFOwy5zNaU3WQmuehSSyhCEIQnltxMw2FMLbRh3Qm7kk7oeTaSpVKNlLtS5WsbmTcn4JqkymUJpfOWKsfCMW8Rif8T/lD4LsYFEzE60JGL8a5nERERCCRETfJq+CvGffpS9hsrMLE6zHi4hd4J2l2E/40wtxsVubdLkmN7obE9U8FaZ5F8KPqpuJGGom9YlXSQjI5D41yIXNHfgwyC/Etd6YhL/G3sWlYsqX8LO1dDye4ssZYJrOdq91ezfAvjSxWHUimPldhO69vwDEndLbeLgsRhUQuGNUV6Wf8z5MVSglMS/+FbYnRuJmCzSnieKsbipPkxYojDiT2OpNwxuSfeeNYvgTi3E0/cTTNUIQm4kyNk0YrUjpIND5MKioluR4m2PZC2aQnXiMT4H/ABwnU9hrYTs/GQhCEINEENDQ1/JPJd+/+OJl8jayhhbzbhXphCEIQhMpk3NM7UJ5lKXxEssVcQlM8QqlWJjZf4i4XbaGiPst5twT9tN7oxfGSQxpxdnqSKvvVaXU0m2LJuMXH4eEX0RfRERm/wBkx/ZMVI3yjAmroZf6Fl/+C85/nIQhCEIQnZvYpSlKX188al31tiuVX4F91fItf2J1GIc4zxMa3WdjHlhxX2r571Ghca6jDlORZM3S5FernL5Zf54fpD4MG/h1aW0LEmVTy3qnYhCLKaJohMmT4JnNxiiWdKUo8cOv+jq/o6v6Or+jqR1I6kYWq9yr7KoMjvOb5MX0NRoUWJiixRe5mta5reE6BKamifZBKf6a/PnYnsnrpe1fw79UvXvvNw6p4e/t33m4xb70TuT4ZhszQmnouhtDfsn4uJVCwowKN5fJRDHwkYFGzG9hcLUuWXfjgWIqE726puVFRcrULjRUuRYk9FHiSFiT+H4Mzmp95k0TQluNcabnNiGFi57Tr2HuTYa2WacfA7RGPgVhiVQnreVzbhTFuYePBfPnTNk7cOkhM4/gjuTybFbnPtsn9sj+xUZMR8rN8oQ1WhfPgv0KTr8+EJnMo/snqL4Nzvrn62l9W+fzL/AP/C6Xal2MOJtJtDaRdqJ1CdymbXZQ+xCZ0pc77HErBpkchytjF/HCkRyJbiewrGoYVFmy7LLC7hrzqgnUNz8U92cdhISmWIfwhKIxcr8sz5ym/wCEhO5MoTszwrlP2D9kvTvn0D8el8BeA/bzLbVPHeb03TdT8y+tf5l+637V/XPwrpvjXxbnPEf/AILfYvvaX219s3C38w/8zfpbopS9q+Bdb7r/ADLH+Zf5l+tmuduEyvYvbuh/6i/xi7r/ABi7r97/AP/EADwQAAEEAAQDBQYGAwEAAQQDAAABAhESAxNRUhAhYSAiIzFiBDBAQVBgMkJTcHGRFDOBoSQ0Q0SAcoKx/9oACAEBAAE/Av8A9Vfn+2Pz/bH5/tj8/wBsfn9Oj9g/n9Z+f2bP0tfMT6snD5/ZS+fYgggjsSST9BXzE95JJYkkkkn7v/Nwd5kwXLE9uCCCOxz4yT8M7zE95zOZ/wA48iOxzOZJJJJJJJJPYn7e/NwVCqlSoic+07yE7KduCBPg3eYnwMEEFUKlSvUghSF9zzOZzJJLFiSxYkn7U/N7xUnsqN9z8/g1E+PggggggghSFIXh/wA4cuzzOZzJJJJJJJJJJ4Txn7A/OQRw5nPhJPan3v5l+DUT6bBBBUqVIIIUhfd8zmcySSSSSSSSSSSSfqX5+DlJJ7VSpBCkKcznwkkkknhPH83waifXYIIIIIIIIIOZz91zOZz4SSSSSSSSSSSSST8f+ZeDvMjjY+QiiKIvuoIIIIOZzPzfBqJ9PURVzfgVdC+8ggggggggggghSCPd8+MqSSSSSSST8F8+xBBUjkVIGp8D+b4NRPp7jCTzXjPvnc3onu5JJ+Cgggggggggggj3Ukkkkkkk9uDn2JJ+E/N8GonvKkFSCF1IU5nM5kqSSSSSSST8AqwIpiKI6lUFMN9pHuWeQj3IvNOCqWJEXtqYaS5V9yqkmLiQXeMtxxFhphLLfj4IKlSCCO1zOZJJJJJJPYgggg59mSSfc/m+DUT4qEIKkEEEKczmcySSSSeEk8MVtmiKrRq3eYn+xo/yMBvzGf7XGLEDfwoYrvkIx9S6ry+Y1XMciO7VkMR3IYkNQzPFge6oi8hz4Gvngr0LGK7umE7ueZlyomCURCeGP+Awk7ie7t8dBBUqVI9zJJJJJPuI48+wifBqJ9HggggghSFMRDBbyHMkcjlQTkgqd6yHNeFFXF4f/fMZJQb+FOw7yU5oNfZULDf9ymMvI8mp/A1LvHtorVThS73GWkDm98e2qGEr6mG6WjnQSqmF5KY3miCeXusT8JhzZO3PFVRBHcJ4Nf4qt+IghCCCCCCO3zJJJJJJJJ+GUT6c/vLBhpy7EEEIVQqZSTIrSpBCnM5j/wCBMPujPIcneRUFaquSR690wm1Qxfl/PDC5PeKoxJVTH/IYX4VMPk0xE5pwalUPxY3u3eRhtb5jlgzRXjHzy4PxIO/EmEtmimIrneRhWSBfIwFVVUd5GHZ2IqiT7hRFkxHo0b5E/CwQQQQQQQR7qSSSSSSfdKJxkkk5nPscvoT3QNQT4Be86BRnlwgggqhUdh85QoojIHMsJhQQQQLJhp5r2pJJJJMRe4pgf6zFVVdBiNTLMFvdlTyxkFUa26qovJDDbDR/4VMJEy/5E80kxHd1TCbVhiLyMFsJ/PucT8CmCkMMXniINSEQeq5yJwV6IscFWBHCYkvj4uCEIKlSpBBHuJJJJJ4KST2YIIII+hKK6zhvP4BywYafMX4mCCDET5DWQkFOcjmSkCJCFecmKqjGw0g5iiMcQOSUJHJYkkkkknsKkoVVBzeaOEcI3xVXg6VxuGMq2RqCtoYXPFkdiIixwRZFWBjrcLfQIIIIIIII4qJwj3XM5kkkliSSSfh3eQzCX4F/NyISJ8ZTnPai2J7qCCpBBBBzOfGTkOQSRG9+eDv9iKeaGCyJUVtsVeh8jA83GN+BTBSGjuSHNecjfL6RAqDU+AgghCCCCCCFOZzOZzJXQkkkkkn4tWd6RrY+hL5DG1T4aCCCCFIIPIXk6RVVUMJIQxObRrh7u6phN8vpSifHxwgggqQQQczmc+EkkkliSSSSfsyCpUohQRkHM58JJJJJJJ+gp9PghCCpUqQpCnM7xzOZJJYksSSSTwnhP2JBBBBUhSFOfCSSSSfiFE+vQQQQQVKkEEKczmczmSpJJJJJJPYnjP1uCCCpBHDmc+Ekkkkkk+7UTsz2YI+hKojk9291RPL4KSeMEEEEEEEEEEKczmd45nMkkksSSWJJJJJ+qwQQVKlSCDmczmSTwkkUReMEEfSMd3IS6cxObUFfDkThZJjhYsK6BrkVOGJzVEE5Inbn3eJOY1DL6iNj4eCEIIKlSCCFOZzOZzJUksSSSSST9UggVBnvIKkEEKczmczmSSSSSSST8Di83og5sYSmGvhtMX/YxRT/AO+KW8RR6ORtpPxmByc5vBXeL/Ax9kFxIUnlIx9hywYbrIOdzgq9Oc+788ZOL3rKR2J+gO8hHCQQVKoVIIOZz4SSSSSST9Ld5DPiYIIKlSCFIU5nM5nMkksWLISTwqlp4MlsoPbZBHcoUYkuVR68jBbKyY692DCbDBOWK5RvkZbTCTvuPPEcYnLDMBOUmN8kGNqh/wDkf8InsYsxyGvd807KmDzVzuDlGJZ86DnIggpDxr1vC/GKsCLPFWIostxGp7yCqEEEEHM58JJJJ+hSKIsCfR4IIIIIIIU5nM/4O5ooxKoYjbQfIVvdcMxOXMc7kYKeakVfOovfaqDEVEgxPxsUlB3+1F7L3LMDGa9nFWGmEkMThjr3TDWGnPEdAiQnB7oMLniqvaa+XqhiOq0YstRezhvVXqnYc6EkTFQRZ7T3o1BOacPaFdeDDSGJ2Pxe0fx8PBBBBBCnM58JJJ4T8O4bzX6rBBCC4bTKQqVKkDmSIyCDmd45nPhJYkkketnonGEXzFa2PIwPmvHGiph4cNThPPi5TAb+Jxj6DUhqdjEdCGC2EnUVTCcrp4YySwY1qtMD8ydr2n8KfyN/CnDHbzRTDdZOL3VSTATkrtfoMEEEEHM5nMkkkn36je3P2FA7yMJJlSpBArRGwkHM5isVXc+CqN54kkkj5XkckQb3sSfkKouKkwSSYrbQJbQxUdVVMJIYnFUqsmB+ZdeCqIs8faPyp1PlwVJMPuvVvHGWVRoiQiJ9LggqVIOZzOfCSSSeEk8EJ+ycVFVvIw2K33TvIw2VTjAqCMRBUGYdnqpUqQQYjVVoiLCHM5j3KqwNdCQI5VHTVTAmnCR/Nzeg53IRxdBnN6uJFeiGF3nK8kkn6nBBBBBBBzET3clixZCSSeE/GTz4TwV6JxRZ7aYiK6BVGYqOVU+MXyGpVPc5bdCqcHJLVGNq1E4wQVTQo3QhCEMTm5GoIxESCpUg5nM58JLEkkkkk/Tk99BBBCFUIKlSCF1OZzOZzOZKkkliSSSfdLiInnw88bgs5rRxW8qN/Cg49n/Nwe6Bk15j1hFUw1liDvIwP9iqYqw0w2OnkYd559m6FvhrfBTxdiQqmA3zevu4IQqhUqQQpzOZzJJLEkkk/YkEIVKkEEHM5nM5nPhiLLhj+4gzu4sr8yws3Rw58oYX4ULDl5wYXLEdw/Fixpwxl+Q1IaiGJ+BTATuyY/OEMNsdlfIXDenzEnUwbfP3eI6qSJ5ITz4T2HYsKNdLZFWcZE0FWBqzxUbiIqx7tVFxVe+GieXB2GjvM5IgmLbFhPcz72CCEKlSCFIU5nMkkkkkkn7FdgoqyNw4FYiiYaFEKIZaGWg7Ct8xuGqLMkOKua9VQRXaDmrKOMzoOlyKNsjYgROaKpJJJJJJiIq+Q3BEbHz9zjOqiDVlDH5qxCBvP2hf4F8hFcr5+XHFWGKYeGlOfzMPutUwE5q9T2he6iamAio3mY7l7qIJ5GMsNMLCrz4YuJVDBdZPcY74SDAwo73YxncoTzUw2VHOgbioq9p6wiqYCO5uXsT8LBBUqQQczmcySSSSSfhZJ4c/q0EFUKoVKkEEEKczvHMkksY3OP5LJ8h6c0doZg3liquo5eSmB+Anh7R+D/onkhi+UINREREMfzw+H4sdOnDF/Hh8V543PQwmxPuG+JjTp2Wd/EV2nDniO6GKlHtg+QmMgj0EenDFdKo0bCJwVyEyYKqr3cJ+OggggghTmcySSSSSezPGCCPsqEKpoVQqhRDLQy1+SlV1IUVsiMgVDmObYRqoIkKpI/vFnFnCtW0jXJBJJJJPB6w1T2ZO5PYxF7imGkNMZe6NhqIRmYs6GLiVSDBwkRsqROKrU8jEajIVBz6skw2vVbDVVHwpiOqg3DVUlRHRhuMBsMnUe5znVQRHMciKMdZV6cV5IZ3MZiWdCe5VYM7vwJ2J+Dggggg5nOREI+4oQhCqFSqFUKlSpj8mGBNEOZzO8ORVQ5j0cvyId8xvIrbElRXGAnNXL8zFW0NO6sdCURBnexFcOS2MiKL5CpLkYn/Re61f4MFIbI7zsez+SrrxfzapyTDcezJ3Z44yqkQN8jFxKwN8k7CYPensPdBZ3KRcSBkrwc+OE/B/m95zO8d472hK6EroSpJJYshYnhJP2k9tnNKuYvIldO3BBBVCiGVoZXURkCsWZKPGsVqqLMDbInkPa53IbySCSwrzE7yog2EREMV0MMNZahiJJmQNauK6y+XZUw8Sy8VRJPaFhEMLD5Wd58HuVDEWVaNUxfIb5GLiUQb5cVWBMRFXl28TzagnBRqnz+GgggqVKlSCFIU7x3jvHeJUksWLFiSSSSSftaCCqFEKj2SkCNVEIUxZ5N1GorUiCVJJLEjGVUkc6BcQhVeiuEXi7v4vRBERByShaqDfFxOidj2hYaezfmPkYbrCOlS3H8WN2E/Gp8/pEEIQhVCpUqV6kKQp3jvEu0JXQkksWLISSST9n4SXer+zBBUqUKFCsHMW0DUVpJJjLyjUw0q0sZvfjhipZ7UGJVR7u6oxUawwPmornK9YMxV8i3dMNeZn94nlJm91YMNVtJI1Z9xJJP02CCEIQqhUr1KrqQupCkOO8d4ldCy6FixcuWJJJJJ+uPfyMNtWp8D5DEzHq75EFUMNkuVxUqQpArFiD8LIQRtWKRXDUw1lvMxNGjGGI6UgandEYKM4SSc+MEfUZJT30EFSqFSpUghSFOZzOZKklixYsSSSSST2J+jO/CphMVzrL8vgsZ891PmMbVI4okdqCEFZJkpqZaIUHJCDEVTmL5jSCPq75uYSLaffvxEaIsoi+/gghCpVCpUqVXUhSq6kOO8d47xzJUlSxYsWLEkkkkk/R3fhUwcPnZffqpVXeYiRwcnMT6m9xL2Kir2VRF8xEROzdJj3T+87+Bn4U+hwQQQVKlSpUghTvHMlxLiVJLFixYkkkn6PXsKJ7uCCCF1IXUhx3jvHeJdoSpJYsWLFiSSSfg3rCHs7rPUxuaQLiOR6IKYb1XEVOGG9Ve5OGNiVQZza1eCjeeLImZPuMV0NMNkN+Dni5JQwFlFT46CCEKoVKlSpVTmczmcyVLFixYkkkn41RPi4IQqhRCpUr1KrqQ7U7x3jmcyVJLFiyFiSSeGO/umGlV/4NbPNTETxUUV6GByVRzz2f8y9eD2riPXoYLu4iacMR0NUwGeXuV7+IidjHc6URDBWcMdi1dHBXInnwc9GpIxyOTkPWEMJVcyR7kbxXEXOrxe5c9CRFnhh93Gcn06CqFUKlSFIcd45kqSWJLEkk/BOE+lQQQVQqhVChUqrsSBMODvELoQugrefkIkfIZ3UUsJVorWrzI9RRvzJSCSeMk8HLCKYCcldrxXFbMSOW2LyEbVsEXVV6nyH9/GRNOGO6eXUwWw0x/JE1UakNRD2nyanUTyQUZ3sSevFJfjqPYrvmYbKcP8A8hPrEEEFUKoVK9SFOZzOZKklixYkntuE4yTx5kcI+kMw6yvuYIQhCqFUKlUKlSqlXakOMW0fyNlGohK6Ej8NHLJFHSiGaYXdVZLyNlj1Ulyj8NUUTyQxfxMXqZk+RiovdcupKDncj2eERdeGJiVQ9nb3ba9jz9oT+PsWCqFUKlSCFOZzJUkVwinMgj7ExU/D/PZggqmhVCqFEKlSpUVqqkGUuojYKOmUIePYqpECckRCxYV5g/ic5SyFkLISSSSST9juQan2OojkX4d3fWrRGIiQQVQqhVCiFSpQqupVSFO8d47x3iXaEroWLFi5cshZCSSSeE/UlE93ZCyEkk/Hq9EGuRfLhKdhVExu/XgrkQa5HeXCRRj0cL5GFiq55JmNGunsyhhMq53Ze+vGyTHBzkRBmK1yx7ryFcr1hoxiMT4aCCqFUKoUKFOpVdSqkOIcd4lxK6EqWLFixZCxJJJP0JRPdwhCFUKoVQqVK9Sq6kO1IcczvHe0JXQldC3QsWLIWQshYkn3WJiVIzVMp2HzQ+UmFKvnrwXFW8cMdVRkoNYq8+o5XNQRrsTmpGXiNj5imGl3quhjLDFU9nbykxnQxTASOZRy+amSwa1Gpy7C+QmA7cZTtxlP3GXiamG1yfi4YvexGJwxFhpgNW1uGKkqxCtcZqN90rZET6RBBBVCqFShUqpCkOO8d4lSxYsSSST8Monx0EIQhVCqFShXqVXUhTvHeO8SuhY9p5wezvRqQ4e9tVLImH/w9niFJQZzc9OvD2hfDUw2pyMTvuqhD0Tkg3DW0uFTkYCoxHNXUxe8xYMN7aIYqXhEGMj3r3Qhgt/OvDFWyoxBEhEQcsJJiYyfIwsOO8vn2FWPr0EFSpUqQpzOZzJUsWLEkkkk+6TsyST9GxW+Kk+QqYa8hMOSiDsHnLSjhcD5ovMy8TUXBnzUVKt8zCav4tTvHfO8K2fkc0+RRNBOXyLFiyF0LIWQkkknsPZaP54YjoaYWHHeXzXgsKKxuhhKrcRWdhWov2VBBVCpUqVUhTmcyVLFiSSRFJOZzIII+juY13mNwmp7h3fejfdQQQQVQqhRChUqVXUhTvHeFRVg5i3mUQzuhnNGrONb5F0LIXQshZCSSftKCCqFUGp9VdyQwmfmXzX4tWNUyWEIQQQVQohVCiFSpVdSF1Icd47x3jvEu0JXQt0LFy6F0LoWQshP2Gn0qfr0EEIVQqhVChQr1KrqVXUh2p3jvHeJdoSpZdC/QsWLl0LIShZCSSSfpie7uXQshZCyFiSSSfhq9+32lBBBVCqFEKIUKFOpVSq6kOOZ3iXEroWUsXLoWQshKEkk/Ft97BCEIVQqhRChUqV6lV1IdqQ47x3iXaEroWXQsXQuhdCyEoSSWLoWRfn9ywQQhCFUKoVKlSq6kKd45kqSpYsXLFiSSfep7mfhoIIKoVQqhRByQgiYjj/Hn8x/jx5OJxMPz8jvHfO8S7QsuhmdC5mIXQu0u0uhZCSSfuOCCEIQqhRCpVdSFO8cyVLKWLFixPCRF58JJ4cyFIII+Nx/kInJOLklqmF/rTst/wDqCOEIQhVCiFUKoUQoU6qVXUhdSHakP1O8d47xLtCy6Fl0L9C5ZCyFkLIShJP27BBRCpUhRJkqQnxaqMxGvTl7jH/KvXsKkick7OGn/wAgeqp5IZvRTOQzmic/goIIKoUQohRCpTqVXUq7Uhx3zvEuJXQsuhddC/QuWQshZCyEoSST9n/P4zE/CpgKtXSez8nqWQzWjXT2XNRUgw1juO/4YiwxTAVVw5Xt4fPHcunGE0KN0+jQQQVQohRCiFChXqVXUq7Uh2pD9TvnfJdoS7Qs7Qv0LFy6F0LIWQlCSfrfz+Mx3Q0YmIjDBw0VJMthVunbc1HD7J3fMY2rUTg/FT5eZ45hPunXg9YRVMDkjnL8xHIvz4TPFTNZMT7hmNOLX3aOReL8RrPMa5HJKfHxwgggqhVCiFEKFCnUr1KrqQ7U7x3jvEuJdoWXQt0L9C5dC6F0LIShJJP0X8wnurLoW6KW6FzMQuhdCyEoT7jH5wg5Xpygw0xKwI13zUTtuciGGlnWX/nBywh7Phyqv4M5Y6pqnDFW7kYhjd1rW6jcOmM2v/T2icp0Hs0wp7S9UVEQassRehjYi3og/ARGz8xiyxv8GI+qF8ZOfyMxtUXi7kkns3+33WPiutDVPZFlV4Kf7cboYSUxXN4YuKjBqyiL2WYirjKny7OIsMVRMXETz+ZgOVyKq/RoIIKoVTQqhRChQoVK9SF1IdqQ8753iXFlLdCxYshdCSSfhPzCe9gghCqFU0KoVQohRCvUqu4q7Uh2pDxWvVUHo90Eu0LLoW6F+hmdC6F2l2lkHWe6LchMN+8RnqMVFVvIY2jEQVYMLm9XmI+PLzMLDrzXzMXDuhhorfNo5FckGGuUitcgjFxXWXyHqjWmAyzlepifgd/Bg/6mmL/sw0MRe4p5uw2cfaF5I3UwGw5f49ziuqxVMHBtKuETJxU0Xhjv/IhhYSM5/M//ACU/gcsIK1cSzy7+6nDHxKt5eZguswxHVYqnsyc7KJwsk8FQ/wAZZ8+QxiMSEMZ6pCJ5mG5+ZV3YlCU+oRxggqVQqUKlV1Kqd47xLiVLly6FiSSSe18xOMkliTmczn8RBBCFU0KIZbdCiFCnUr1FYq/Mq7Uy3TMnfO+S7Ql2g5VVFSBiw1EgxZdVE/6Nc1EgV7VRTDxKpVR6I+FReaCJuUelFa5PkNxGuQc5GpzGrZyu/oakJ7l/iYiNQRqJyQexHpB4jUX5mDhLN14N547l0Mf8KJqpVGsMJqvd/wB4ImZiuX5IYTKq/qe0LKoz+yFclW+Wp7N/r/6e0PcxEgVHxmKJzaijsRrVRF4yi+0/8KpaRVQXHSYHvRqCYb381IdhLPyE5p9fggqVKoUKFVIU7x3iVLEiKcyCPqMEEEIVQohRplM0MpplonkU6lV1Ku3FXbiH6nfO+S/Qcr6ryMFlOapzLFi6F2lkMNEbbqpjc4j5KK970XlBgcmQL5Hs/wCFf5HOhBjVxFVeo5qoyrRjatRDF8TFRpjNjCVDD/1t/gd38f8AjgiZvP5FUbjppBBjd/ERqC4SZcGAivWV8k4YqdxTA/1p9lwOTmN+yYIKoVQqhRChQr1MhplcokbhU8lO/qd8w8NyKqqnMdZWqkCNxUbUwkVqLyLdBrqeaD3o5+GqDsRqIpgfNy/MxcREYp7Lya4smpirPdT5jYa2CfstfMT7cqiiYTEXyFai8lKohiYSPQZhNa2CqFG6Cs5chGckkoU6lSq6kLqQ7Uh2p3zvkv0JdoWXQsuhboXLIXQshZCyEoST9UUT72ghCqFUKoUQohQp1KrqVXUq/Uh+p3zvkvJfoWdoWXQv0L9C5cuhZCyFkJJ4z8WonurO2ll0L9C/RS5dC6F0LIWQshKE/esEEFUKoUQohRCpQqupC6kOO+d8lxLtCyli5YshKE++cJ25JJ9xBVCqFUKIUQoU6lepDtSHakOO+S8l5L9CztCy6F+hfoZiGY0u0u3UsmpZNSfq11V3l9dgqVQqhQqVUh2pDjvHeLOLdCxcuWJHKISWOZzIUqQQR8bBCFUKpoUTQo0ohQp1UqupV2pD9Tv6nfO8S7QsuhZdC/Qv0MxC7S7dSyFk1JQn7rgghCqFRyQNQROxP1SCCCEKoVTQohRDLQp1KdSq7iHanf1O+d8l2hLtC67S67VL9C5dC7S7SyFkJT7ccN7NfpV0mPoEEFUKoVQo0oUKlepVdSHane1O8d87xLiztCztC67TM6FzMQzELtLt1LJqWQn6XHxThPp2I+OSeZh4Vea+fDMbevz4uWEVRMfEXnTkYWNdVSPcLjMT5ie0M6/RYIIIQqmhRuhRCiFChTqVXUqupDtTv6nfO+S8s7QsuhfoZnQuXQuhdC6F0LJqWQkn6a4T6a5YRVMFJnEUVyJ5qLjYafMw2XxL9hYY09nbyVde2iOxnLK8kKMYnkNZmOt+VPoGG9XPd0+LggghCiFEKIUQy0MpDLKdSi6lV1Icd4753yXlnaFnaFl0L9C5cuhdC6FkLIShJPwzvITsz2bP2lnbSy7S/RTMMxDMaXaXaXQumpZNSUJ+GVJMhvyVTJZ8+ZitajYRPMY2rUTi9VRqwOxH4iolRivT8gir807TsNWy5gx2JirVTknYxcWkcvPhi/63fwezTl8/hsTCc5ZR0FfaE+aKTjp+UwVellRsi4mNsMJz3TLY+nxwgghCqFUKIUQoUKFV1KrqQ7U753jvEuLLoW6Fy6F0LIWQntOG9hSSxYldCztOzHCCCCqaFU0KN0KNKIZaGWnUp1Uou4q7cQ7cQ7U753+h3yXaEv0LO2l12l+hfoZjTMbqXbqXbqWTUnivPGamidhVhDAb+J8efuMV0JCfMYxGIe0q6WohgLOHx9o/J/PDGWMNTCSMNvxGItWKYLas+DVUQz2amezUa6eOM53dRvzEwn/NymE51lavy+lwQVQqhVChUqpCnM7w5VGqd4gqQQQR9BgghNCjdCjdCjSiFDK5zJRdxV+4h+pi3hG6iI9qIiQTiEv0LO2ll2l/SX6GYhdHY3/8TMbqYzm91yfIwVbQsmpIniYk/JvDG5q1nxLm2VuifCYyLiPogz2aPNRMJqfIRI4+0eTV0UfiI1kmA2EVV81+rOTkMT6orJe12nuIHMc16uakiWVOaQJhJ5lU0MtuhltMtDL/AJG4XNVUqupV24h2p39TvHeO+S7Qs7aXdtLdC/RS6FkLIWTUc/Faq+Sof5K/Nh/lMEx8PUuzcWTX3OFiOVzmu45jE/MI5HeS+6rite5Wp5lsbaYeIrpRU59j2hVr5chiP5OVJQY6zZ+rO8hv2pCFUKIZbdDJw9p/j4eh/jYZ/jN1U/x9HqZWL+oV9o3If/I0Qvjp+Qz3p+Q/yfSf5LdFMTERXI5vmJ7S2OouZifi5IZWGnyGzh4hdpdpdNSzdSyakpxVUTzXiznjuXsYnfxUYOhGmAkM+rKN+4oQq3RBUutWp/0/xsMyXJ5PKYu8TB70uWSCCqFU0KN0MtChRDEwFdEKUxjLxl83DcJWeSkO1O/qd8fh4jlmeZlYk81kl2hZ20uu0uu0v0Uv0MxDMQzGl2l26lkJQlCSRPoyjfuNySkCIieXxsFUKoUQohRCiFDLXUqu4ou5SrtSHanfO+d875LyX6FnbS66F+hfoXMxDMQu0u0uhZNSyEk+/Ub7qy6F+hfoXQuhdpmN1MxmpZupZNSyakp+wEEcIIIQqhVCqFUKIZaFCnUqupVdSrtSHaneJcS7QuuhfoXLoXQsK5ojiSyFuhK6HfO+Q7UqupXr2IIIIQhNCqFU0KIZbTLboUQoU6qV6lV1KruKv3EP1O/qeJ0JxOhL9Cz9CztpddqmZ6VMzopdC6F2l2al26lm6kpqT9+QQQhUqg5oyVEahH0eCCEKpoUboZbdDLaZaGX1Up1Up6lKu3EP3Hf1PE6Hf6E4mhZ+0u7aXXapmelS/RTMaZjDMZqXbqXbqWQn7rUb8erkT5i47flzGPR/l8fBCFU0KN0KN0KIZaGX1UouqkLqQ7U72p39Tvkv0JfoWdoWdtLLtLrtUv0UzE6mY0u0u3Uu3UsmpKak/aiieYnxr3rNWiYU/iIRqHs6LCrqvvcXHRiwZuMv5CPaF+aFMT5v4YmJQTExneQmK5Fh6dufi4IQqVQomhRCjSiGX1Up1Uq7cQ7cd/ceJqTiE4miEv0LO0LLoZi7TM9KmZ0UzE6mY0zGmY0u3UsmpZNSfpUfBKfMT43CTxHzwfL3oz+zySPetax2I++o1EROXYi3tHPThid57Wp2sXEdajRPZ1/MphpTGrPabiNcqony7Nm6/RIIIKoVQqhRuhlt0KIUQoU6lV1KrqVduIfqQ/U753yXlnaFl2l10L9DM6GYhmIZjS7dS7dS6FkJQn6J8xPjcXuOR5ZK2Exayvm5TCxL+fn712Ex3mhkR+FymE9XSi+accXuq14/GYjZk9ne35+a9pFj2hRywkmA2VV69nGdXDVT2Vnm7sY7lRhkqjb/ADGLLUX6rHCCCCCCpUqhVNCiFEKGWhloZZQp1KLqV6lV1IfuIfqd/U753jvEu0LO0LLoXXQuuhfoXMxDMQuhdCyEoT7r5idqUJQlDMTRS6F2l2l26mY3Us3UsmpKak+8xmViPJTBxGJ5oN5Y6x7xzkb58cP/AHv4v/Co3B8Rqf2Y2E1GyieQxZYi9nFw1VbN8xFxMV1V8jFxEw0qnmXx/Ophus2eOPzcxoiQkGI6rFU9mxVfaeGO2WfwYjkyJ1MNPDb9rQQQQVQqhRNCiGWUKFV1KrqQ4753yXku0LCOXQ7xDtSq6lOpRCqEIR04QQQQVQqmhlt0KN0KN0KIZbeplpqpTqpTqpR25SrtxD9xD9x4m48ToYyPVE5eSmE93NqNMNr2TylSz9hd20u7aXXaX9Kl+imYhmNLt1Mxmpdmpioj0/EZuKn5S+K7ybBhsRidewjkZjOsK9MRqo0alWonZfya5eh7OnhzqVt7RHUetWKYKRh8cZiy1yJ5GenzRUMXEulUQwMHL58WSuNX8s/HTzj3GI+iJ222XHXROElkiZM57l7rTOenJWl8VPyjMRHfVa94T6PBBBCFU0KN0KNKIZaGWmqlOqlF3KLhqvzkRrk8lIxNx39UPE6E4miE4miDlcqKlBrsXDbFDDct3PqS534jMbopmNMxhmN1Ls1MRUvhEpqSYz6s/kw2I1qe/lPfrb/IXn2noqtWPMb/AJSGMuLHeYZuJX/WoxVVqT2cDmr14Y3eVMNBMOuErT2f8EaHtH4U/kRORiMo9H9fqvzE+t4iwxxhNrhoRwgghCqaDsJFQomhlt0MXBlvd+RmbrSXbq4l7vwo4q7cQ7U72p4mqHidDxOhOJohZ2hZ20uu0v6VMZVeyERSXN85QZ3vLFUh/wCsRifqoeJ+qh429pbH9JbH2tLY+1pbG2GZi/pGc79NTP8AQ4/yGdTPwtTFeyUe13Mw8Rr/ACFcieYvtG1smFi3lFSF7HtH4E/k+XZXyUwEjDThg88R7uHsyfjXqe0fkURUU9o/CidRPJPqnzE+t434UTVfe8tPewK1F80EaieSEEIVboVboUboUQohloU6qU6qUXcplruMvqZX8f0Oa5Hxh+ZlY0y5LCOxU/8AtDGYiOV0E4miFn7S7tpi2c2KiPdHNimZ6VL9FMxDMaZjS7dS7dTDxGsc9F1M6/Jhhto2BURfMyE+Sqg3BRFlVn6r8/rkT9KxHQnLzUYxGp195BCFU0KpoZbNDLboZaGWhl9VKdVKLuUqu4q/cVfuIfuO/qeJqd/oS/Qs/Qs7aWXQv0MzopmJoZiGY0zGmYzUu3UsmpZCyEoST8WvmJ9yx9EggghCqFUKpoUQo0y2mWhloZZTqUXUou4q7Uq7Uh2p3jvnfJeWfoWfoXdoXXaX6GZ0MxDMaXaXaXbqWQlCUJ4fMThJZCyFkLE8Lt1LN1JTUlNf2ZggqhVCqFEKIUQohQyyrkUq7Up1MtCqCJ2at0KN0KN0KN0KIUQy06lEKdVKLuUou9SrtxV28h24h+48TceJ0PE6E4nQl+iEv2l3bSztpd2wuu1S/RTM6KZrepmNMxupdupdupdu4smpKakpqT+wTnQSNVPosEEIQhVNCqaFU0MtuhRCiFDL6qZfVSnqUqu5SrtxD9xGJqeJqh4nQnF6E4m1Cz9pZ+wuuxTM9KmZ6VMxNFMxDNZqZrNTMZqXbqWbqSmv3QrUUdCDOyn12CCpRNCjdDLboZbdDLaUQp1Up1Uqu5Srt6kO3EYm88TceLuQ8ToTidCX6IS/Qu7aWXYXXapfopdOpdDMaZjTMbqZjNxdupZupKa/Zr0G/bMdiCCCqaFG6FG6GW3Qym6GU0yk6mUmqmX6lKruUq7epV+8h+48TceLqh4vQnF6E4mhbE2l37DMdsLrsMz0qZiaKZidTMQzGmY3UzGal26l26lm6kpr9QcJ99QVQqmhRNCjdCjdCjdDLaZaFCnVSi6qVduIfuIfuPE1PE6E4nQl+hL9C7tpddpmdFMzopmIZjS7S7dS7dSzdSyakoSnwzhv3d8/okEFUKoUTQo3QohRDLQy0MsyynVSi6qVdqVduIfqd/U754nQl5LyXaFnaF12l10MzoZnQzELoK5Bql2l0LluhK6He0O8d79poKj2jWiImnuKJ1K9SvqUqu5SrtylXbiH7yH7yMTch4m5DxdUPE6E4nQnE0Ql+0s/aWdsLu2l12qX9KmZ6VMz0qZiaKZiGa3UzG6mYzUzcPUzGal26l27iyakpqT+wz/IaJ8YvIR7PKycIIIIQhCE0KpoUboUboZbdDLboZbTLaZadTL6qZfqUp6lKLuUq7epV+4jE3EYm48TVDxdUPE6E4nQnE2oWxNhd+wu7YXXapf0qZnpUzG9TMaZjNTNZqZjNTMZqhZuqFk1JTUlNfuZ3kN+MdiOVasMhPzKqjWNXF7qck+hOVrfNeMEEIVboUbtQo3RDLZtQymbTKZoZbTLTqZfVTL9SlV3KVdvUq7eQ/eRibkPE1Q8ToeJ0JxNELP0Lu2l12GYuxTM9CmZ6VMxNFMxpmNMxmpmM1Ls3IXbqWbqSmv2S/yG9mfhn8mr/BgxloYjlVaN+Y1qNSO051UkZiteqonaw7L7S73CqieajnI3zEX3ftDU5aiJCIn0CCCqFU0KpoUboZbdDKZoZaGU0yk1Up1Up6lKruUq7cQ/cRibiMTceLqh4vQnE0QnE0QnE0JftLO2l12mZ6VM30qZvRTMTqZjTNZqZjNTMZqXbqWTUsmpJKa/SXeQ34tUlBuJly13/DATleea8E9onErHLs4yK6GJ8zBwaSqrz7K8kU9nTkrtVFVESVG+0tV0R2JReGJhXcnM9oquK1s+RmQndYphvc/zbHbe9GJzHuxVWZjofId3sdqafXoIIKoVQo3Qo3Qy26GU0y0MtChl9SnVSjtxV+4h+4jE3HianiaoeJ0JeWfoXftMx2wzF2GZ6VMzopmJopmIZjTMaXbqXbqWbqSmpJPvXCfGY7ZhJ81P8Vd5FWQI1Ew0d81d234iNQZio/jjr3I1UalWohjd57WGOiNcyvmIspw9pd3I1U9mbDF68HLCKpg4Nu+/5+5VUz3Kvk1DDbZbr/wVYSTAhbPVfMV7USZQa5HeS/Q34iN5fMjGd+aDCV11S0p8LmeJWPj4IIQqhRNCiGW3Qy0MpDLQyynUou5SrtSH7iMTU8TUl5Lyz9pZ2gr10EcXQsu0l2h3jvkP1IdqQuvwmNyVjtF4OiOZhtV0T5J2MZVRiwYaqrEMbEo0w2T3neZipHfTzQTmiLwfzxWN4N5+0P8A4Hpb2n+uCqWzcdNOOJ3noz3LnI3moxL4yzwx0c7FRqKLgMwmyrpPZ8JHosmGyuNyXlA9YaqmEqswlc4b7VZyJXl8K/EayJ4LjsR9B2LhtWFUa5HeSi4+G35jXNd5L2FWEVTAbPfUc5XrRn/VGsRqQnucTERidRuNizLvL3LsJ6ulHkY6fNFPFzk7qTAv+QvyQwm4iTZfqTkEagie48Tch4nQnE6E4uiFsXahbE2oS7aWfsLu2F12KZi7FMz0KZnpcZnRTNbopmN6mawzWamYzUVzHJEiIifhxeRVv5sSRHN1LN1LN1QlNTHVO63VTke083MQTyQcktVDCnLbwjxp9PBy5eMq/JRMzMzKmY9fJimW5341/wCGHhqz2jpwVYMFJl6/P3GJio3l5qNR2I6VMTuYmG4ctUVTBb+dfNTFS2KxpkKirV8SMYjEH+JiIz5J5jmI5tV8h7UR+E1E+FxkV+PVB7kYydDBwlVbuMNiKuIvUdKYj0aZDKwMblY6Nnz7Lnrhdz+jDYjWmI9GMkwMRXos9j2qe4iGGioxqLxxnImMyRVzlRE/Cnu288d3T31kmCUTg5Uakqd/Gcuh7PNV6fQVE+HjjCEEIVTQqmhRuhRu1DLZtQy2bTKRcTy5IZbNDKZMxzMtDLTVTLTVTL9TjL9SlXblKruKv3EP3kYm88Xcd/Uc17mqkiZiIiJBOJ0JxNELYuiFsTaWftLO2GNjOa3yhTAsq3VFUXERj5qsQPdmq2EWE+ZjPsiJC+ZmMMRyWa5PND/IZHzHYyVkwFYjebuai4uGn5kGKj8S6ryTyLN1LJqSmpKa/AOWEVTBbyV6+amN3nMZqYq1w1/8MFPDQZ/uxOH48RF0+fZxW2x0T0mDmNVWvMRLYjG/KDASMTE7H4vaf47D8Bj1lSr8L8PNBrkck+6w2qivVfmvYfiUjlxuzcnbXve0+Z7T+RBEhEPaEcqJA57MNkIezRT6CvBPrLsNj4shCEdiCD/Zi9GlU0KN0QqmhRuhlt0Mtm1DLZtMtmhlM0Mtplp1Mvqpl+pxlrvcUdvUo7epV+8h+88Tch4uqHi9DxOg9MRzVTkIr0T8I9cS7XIwRMVXWe3/AIXXYo/msojkU7y/jVwj2p+VTNbov9GazqZ2GZrNR6tdCtdzQb7Q35jsVvy8zCRGpzckr5lm6oSmvBuG1Hq75rxV0ORNeD3NanNTARar1XsqvtCvVEK+0bkI9p1Q/wDk+kn2jahbH2IZuL88Izl/TUz/AEOHvXESEw1ExqJD0Go7G5qsNMhkHs895J5dlyw1VPZ8L86n4vaP44Yz4SETmph4CzZ5+HHSPn9BXgn2A91Wqpgsq3qolpXT4+OMIVTQo3Qo3Qy2bTLZoZTNDKYZadTLTVRcFF+amSv6jj/GTcpDtxXE3kYm4jF3Hi6oeL0JxehbE0Qs/aWfsLu2GYuwv6VMz0qZyaKOVuI/mi1QrhfKyFW/qOGuw2pCGYzUzGbi7dULN1MZZZE/MSEQwPzO17DO/jW+SfQV4J9gL38SPkn2BCEEEIVQqmhRuhRuhlt0MtpltQnD+awK/D+SqomHiP6IJhV8lUou9SjtylXbir9xGJuPF3Hi6oeL0JxOhL9Cz9pZ20u7aX9KmZ0UzOimamima3qZjTMaXbqXZuLt1LJqShPuU+wMNitRZ+a/ZasavyEa1PJPgo4QQhBVCjdDLboZbdDLaZaFCnUqu5SrtxDtx39Tvk6iO6Ev0Q753tSHbivUhdSvX9qY5ie4zU2uM5NHGa3qZrepmtM1mpmM1M1m4zMPcXZuQuzchdm5C7dULJqSmpKakk/sv8xPewQQQmhVNCqaFU0KN0KN0MtuhlM2mUzQym6GW3QohROpl9VMpNVMv1KU9SlF3OKLvUq7epV+8q/eRibzv7jv7jxdUPE6HidDxOh4nQl+iEv0Qs/aXfsLu2F3bC7tpmelTM9DjM9Kmamima3RTNb1Mxpms1M1m4zWbjMZuMxm5C7Nxdu5CzdUJTUlNfuv5/XIIIKlSqaFE0KN2oUboZbNplYe0ymaGWzQy2mWnUomqmX1Uy/U4p6lKLvUq7epV+8h+8jE3/8AhGJuPF3J/R4uqHi+knF9JOLo0nE0Ql+1Cz9hZdpZdql12KZnpcZnpUzE2uM1vUzWamdh6mdh7jNw9xmM3IXZuQuzchZNUJ6kp9iL5ifcEcYIIIKpoUbohls2oZbNpRuhlt0MtuhlNMpvUy01Uy/Upl+pSi71KP3qI3E3kYm8jE3IeJqh4uqE4vQnF0QtibULYmxC+JsLu2GY7YZi7FMz0qZnpUzE6ma0zGmawzGamYzcXbqXbuQs3VCU+hr5/sPCEIVQqmhRNDLboZTNDKZoZTdDKaZSaqZfVSnVSi7lKruUh24h+47+47+p4nQ8XoTiaIWfohZ+0u7YXXaZnpUzOimYnUzGmY0zGl26l26lm6kpqSnad5/s/HCCCCCCCCqFUKIZbTLQohQr1Uqu5RZTzUReglzvkO1KruKruK+pSi6/tS7gnbnr+1Dvc5bdplpoZaaGW3qZTepT+TLTVTL6uMv1OKdVKruUq7epV/6ilX7yr95GJvIxdx4m5DxdUPG1aeLq0nF6E4vpJxNELYm1C2JtQtibS+JsLP2f+ll2F12KXXYpmehS/oUzPSpmelxmJopmJopmt0UzW6KZrepmsM1mpms1M1m4zGbjMZuQzG7jMbuQs3chZu5CzdSU1JTU5feTuCfRI4QR2IIII4QJC+RUqmgqIMVj05IUTQqmhRuiGW3ahls2mUzQymaFMOfIymaGU0ymmU3qZSar/ZTqpl9XFPU4ou9RUciL3lJxOTkxFiSrt6lXb1IxN54m7/w8Xen9Hi7kPF1Q8XVp43pJxPSTiaIS/ahbE2f+ln7C7/0y7v01MxdimYv6amZ6VM30uMz0qZjdHf0ZzOv9GcwzWambh7jNw9xm4e5DMZuQuzchZuqEpr9ju+oLjMRVT5iYb8TvK4c9clf5gwGVev8ABjvVO63zU9lV0OlTHWuG4wExa91EG3/MhZseYvtCfJqqMej0lOGArp5/PhLn40t/4f48/ixFn3WSy1v/AD4qCqFU0KpoUboZbNqGUzaZOHoZTNDKboZSdTKTVTK9TjL9amWu9xV29Sr96kYn6hGJvIxd6f0eJqh4vQ8XoeJ0LYmiFsTaXf8Apl3/AKZd2wzF2KZnpUzfSpmpopms6mY0zGal2amYzcXZqhdupZupZNSU1+huE4T9NVjnYj6p8xmMyvNYFdLP/wC4yrW/iP8AbirA1qNSEPaVmG9RjasRDHcqJCeajMBJ6IYrkY3/APwwGxhJ1F8lPZ5WEjk1THfDYMHDRjU17cpwe9GJz4eRhY2ZPL3bsVjXI1V+GnnHwsEcY4QQhVCjdCjdCjdDLboZTdDKaZKGUnUy+qmX1Uou5Sj96lX7yMXeRi7jxdUPF1QnF6Ev0Ql+iFn7Sz9pd20uu0zPSpm+lTNTRTNb1M1hmsMxmpdm4uzUs3VCyak8J4OE+n+zJ+P+TEw0cqNj+SjYiOQmBhp8hWuw32a2UUtiv/LUyW8tZ4Yq2xkj5CqrYa1OZld1Z5uMPHRrau80O/ieXJDJe1VovJR2HyRPnbmvuPaPwo7RRFlqKY/eexs8MXlhu/g9lRIVe1g4j32ny+Q99GqphvR7ZTg91WqpRVVm5yz9mwQQQVKoUTQo3Qo3Qo3QohloZZl/yOaqfNRFXQS3Q7+pC6kLqVXcVXcVXcv0jKxEVau5KNbVO0qns7ZVXrxhPdqkpAmA9OWZyH4KKiV8y2PsKPf+Py0ERESE7OO6GRqYTKMRDF77kw0/6MbRqJw9peiYat+anscTz8/l9tuE9zKfTcdYbGo1IaifEf7Mbo0etWqpgthtl814qxirKoQn+S1E+SfbbhPceLqhGJq08XVCcX0k4uiE4ujScTahOJtQs/aWxNhbE2F3/pmY79JTMd+mZnoUzPQ4zfSpm+lxmptcZqbXGa3RTMTqZjTMZqXZqZjNxms1M1mpdupdm4uzcXbuQu3VCzdULJqWTVCU1QlNSU9wrEV6O0+Id+FTCbVnUx/wf94371VHYzE8uamExZV7vNfttwnvY9zHCCPcQQQQVTQomhVNCjdEMtm1DLZtMtm0ymbTKZtMpmhlM0MphlNMpvUy01UyW6u/sy01Uy/U7+zL9bjL9SmX63FF3KZa/qOKO/UcUf8AqKVfvUh+87+4jE3HibkPE3IeLqh4urScXoTi+knG0aTi6NJxdqFsXan9k4m1CX7Sztpd/wCmXcvJcMR6/pqZi7FFVF88JRHsb5YS/wBGd6XGam1xmJopnN0cZzev9GawzcPUzcPUzcPcZuHuMzD3GYzchmM3IWbqhZupy1JTUlPsp3kN+0o93CEJoVTQhNEKN2oZbdqGWzaZTNpls2mUzaZTdDKb1MpNV/sy+qmX6nFPUpRdylHb1Kv/AFCuJ+oRibzxdx4u5DxdWni9CcXoWxdELYm1C79v/pZ+wu7YZi7FMz0KZnoUzfSpmpopnM6mczqZuHqZuHqZmHuMxm5C7dULN1QsmqEpr9GcJ8PZJj6SqwJ9YjjHGCCCCCCqFG6FG6GW3Qy2aGW3Qy26GW0y0Mvqpl+pTL9SlF3KVdvUq/eRibiMXceNuQ8XVCcToTi6ITiaIWxNpZ+0s/aXfsLu2GZ6VMz0qZqaKZrepmNMxpms1MxmpmM3F26lkJTUknion7QRwggggqhVNCiaFE0KJoUQy26GWhRDLFYJOglzvHf1Qh+pDtSH7iH6/tSogn7Xr7nMaZrNTNw9TNZqZuFuMxmpmM3GYzchZu5C7dyF27kLN3IWbqSSn7NLwT3EEEEEFSqFU0KJohRu1CjdEKN0Mtuhls2mW3Qyk0MpuhlM6mU3qZadTLTr/ZlJqplepxl+pxl+txRd7ii73FHb1KP/AFFKO3qVf+opV/6ikYm8ri7/APw8TceLvT+jxt6HibkPF3IeNq0nF6E4vpJxfSTjeknF0QtiaIWxNqFsXYhfE2F37C+JsLv2F37C7thd2xS7timYuxTMXYpmehTM9KmZ6VMzopmelxmptcZrdFM5nUzWdTNZqZrNTNZqZrNTNw9xmM3IZjNyF2bkLs3IWbqhKalm6oWbqhKak/ay8E+mxxj3ce5jtRwggggqmhVNCrdCjdqFG6FW6IUbtQy2aGW3QymaGW3Qy26GUzQymmWnUy01Uy+qmX6nGX6nCsdvUo7epR/6ilX7yuJvK4u//wAPF3J/R4u5CcXoTjekti+kti7ULYm1C2JsQu/YXfsLu2GY79NTMd+mpmehxmelTNTa4zU0UzW9TMaZrDNw9xm4e5DNw9yF27kLN1QsmpKak/S1+74II4Rwj3UFU0KN0Qo3RDLboUboZbdDKZoZTDKYZaGX/JTqpT1KUXepR29Srt6lX71IfvIxN5GJuPE1Q8XVCcb0k4miFn6IWftLv2GY79MzF2GZ6VL9DM6KZidTNb1M1pmNMxmpmM1Mxm4u3Uu3Us3UlNSUJJ7C8E/ZeOzHCCCCCpVCqFE0KN0KN0KN0KIZbdDLQy0Msp1UVq6qc0LO2lnbSXaHe0JftJftPE0/alSOf/6wqgr1TyQa96+aduvVSOqlV3KVXcpVd6kO3KQ7cpD95D95GJvIfuO/uPE3HiaoeLqh4uqE4vpJxdGk4miF8TYhZ+1C+JsL4mwu/Z/6XfsLv2F3bC7timYuxS67FM30OMz0uMz0qZqbXGZ6XGYmima3RTNb1M5vUzWGa3qZrDNYZrNTNw9TNw9TNw9xm4e4zcPcZjNTMZuLs3IXZuLt1Ls3IXbuQu3VCU1QlNSUJ+7FOdhvwMEduCCOEEEcII7EEcY7cEEEEEJoQmhHQqhRuiFG6FE0KN2oUbtQy26IZbdEMtuhlt0Mtm0ymbTJZoZTNDLQy2mWnUonUonX+zL6qV6qV6qU9Tii73FV3qVduUqu5Srt6lcTeQ/eQ/eRib//AAjE3nf3Hi6oeLuQ8XVDxfSTi+knE0aWxdELYm1C+J+mn9l8TYXfsLu2GY7YZi/pqZi7HGZ6VMxNrjN9KiYqaKZrdFM5hnM1M1mpms1M1mpms3GYzchdu5CzdUJTUlNSSfia96Z+M+YnZXmZTfuCOEduCOEEFU0Kt0Qo3ahRu1DLZtMtuhlM0MpuhloZadTLTVTLTVxl+pxRdylX71Kv3qVfvIfvO/uPE3HibkPE1Q8X0nidCcXRC2JtQs/aWftLv2GY79MzHbDMXYpm+hTM9Kmamima3RTNb1M1hmsMxmpdupdm4u3Uu3VC7dULN1LN1JTXhKe7+f7IxwjjBBBBBBBUqhVCiaFG6FG7TLboZbdDKboZTTLQy06lCn8lOqlF3KVXcpVdykO3EP3CqqLzURxYuX/kuhdC6df2qVOfGP2uX9sV9xd2wuv6al12KZi7FMz0KZnpUzPSpmJopmN6mY3qZrepmNM1mpmM1Mxmpdmpdupdm4zGbi7NyF2bkLt1LN3ISmpKakpqSmpKakp+xq+8gjhHCCCOEEEEEFSqaFU0QqmhRuhRNCjdplt2mWzaZbdDLboZTNpks0MpplN6mU3qZTeplN6/2ZSdf7Mv1OMv1OKepSnqcU9bii71KO3qVf8AqKVf+opXE/UIxN6lcT9QjE3kP3nibzxd54u48bVDxdyHiaoeLqh4vQ8X0ni+kl/QnF9JbE2oWxdqE4m1C2JohZ+1Cz9hZ+0s7aXdsLu2F3fpqZi7FMz0OM30OMz0OMz0uM1NrjN9LjNbopmt6ma3qZzDOYZuHuM3D1MxmpmM3GY3chdm5C7NyF2bkLt1Qs3UlNSU1J4z9iO+x44xxjhHGO3HGCCCCCCqaFU0QqmiFU0Qo3RCqaFG7TLbtMtuhlt0Mtmhls0MpvX+zKTVf7MtNXf2ZaauMv1OMv1OKLvcUf8AqKVfvKv3lcT9QjF/UPF3p/R4u5DxdUPG9J4vpJxfSTi6NJxNqFsTaXfsLv2Fn7C7thddimZ6HGb6HGb6HGb6XGamjjNb1Mxpms1Mxm4zGamazUzGbi7NxZu5CU1LJqSmpKfEO/YSOxBHGOEEFSpBVCqaFG6GW3Qy26GW3Qy2mW3Qy0MtploZadTL/kp/JTqpRdylV3KVduUq7cpV25SH7jv7jv7jxNx39TvnidCcToTidCcToKrvmI5NSU1OWv7XKgjUKoVTQqhRpRplp+1TvL63z+9neQn7YOE7eWmhRuhloZbTLQy06lOqleqlOqlfUpRdylF3KVXcpC7lIduIfuIfuIxN/wD4eJvO/vO/qd/U8TVDv6oeL0PF9JOJ0JxPSTiaIWxNqFn7ULYm1Cz9pZ20u7YXdtLrtLu2F3bFMxdimYuxTM9CmZ6FMz0KZvocZqbXGb6VM1NFMxNFM1vUzm9TOb1M5nUzsMzmamczUzcPUzsPcZuHuM3D3Gbh7jMZuQzGbkMzD3IXZuQuzchdm5CzdyEpqSmpKanIlPuFwipx5/RY7MEdmCOEduCCCCqFSvQqmhVNEKt0Qo3RCiaFW7SjdEKJoZbdDLbtMtu0o3Qy26FG6FG6FGmWhloUTqUTVxlpq4p6nFPU4p6nFV3uKrvUq/eVfvIfvPE3/wDh39x4m5DxdUPF1QnF6E43pJxfSWxdqFsTYhbE2IWxNif2XfsLu2F3/pl1/TUuv6amZ6HGb6HGZ6XGam1TNTRTNb1M1mpms1M7D1M1mpm4e4zWbjMZuM3D3oZjNyF2bkLt3IWbqhKakpqSn0lxiK6Rq4iL5DXSnYT7Xj4CCOxHGCCOxBBCEFUKpoVTQo3RCjdEMtuhls2mUzQymaGUzQymaGWhloZadTL6qZfVSnqUqu5Sq7lIXVSrtykP3kP3kP3kP3EYm48TU8TVDxNUPE1Q8TVCcToTidC2JohOJohL9ELP0Qs/aXftLv2l3bS67S67S/Qv6S/pUv6VMz0qZnRTMTRR6ovyUZ2U/ZyOEEEdmCCCCCBUGt6nOSH6nf1O8JY73T9qlE/Y6foSidhP2sUb25foWftQs/aWdtLO2lnbC67S67S67VL+lS/pUv6VL9FMxNFMxNFLoXQzEMxpmNMxpmM1Lt1Lt1Mxm4uzUu3cWbuQs3chZupZuqFk1JTUlCU1/YhvYTtxxggjtQRwjsQQQhCFU0K9CiaFW6FG7SjNpls2mUzQymaGU3QymaGWzQo0y06mWnUy06mX1Uy+qmX6lKepSnqUp6lKruUq7epV29SHb1Ku3qVdvUq/epD95GJvIxN5D9x39x4m48Tch39yHiaoeJqh4mqHi+knF9JOL0PE6E4npJxNELYmiFsTahbE2p/ZZ+0s/YWfs/8AS7thd/6ZmO/TUzHbFMz0KZvoUzfQ4zU2uM1ujjMb1/ozW9f6M1pms1M1mpms1Mxm4zGbkLs3F2bkLs3IWbqhZuqEpqSmpy+xE+zoI7UEcYI4R2oIIKpoVTQqmhRNEKM2oZbdDLboZbNplN0MpmhlNMpOplJqplpqplpq7+ynVSrt6lV3uKu3qVd+opV/6ikYm8jE3nibzxNx4m5DxdUPF1Ql/QnE6E4nQnE0QnE0QtibULYmiFn7ULP2F37C7thmO2GY79NTMdsUzV2KZvoUzPSpmelTM9Kl+imYmimYmima3qZrOpms6mY0zGl2mY0zGamY3UzGamYzUu3Uu3Uu3UuzUuzcXbqWbqWTUsmpKalk1JTUlCU1FVBPuCPpcEdmCOEEEEEEEEEEEFSCCqFUKlUKJoVQqmhRCiaFUKJoUQqhRCiaCSiqW6F+hfopdpZCU++VX6l8yOzH7V/P9sfzduU1ORPGSf2k+fbomhRuhVNCiFG6FE0KN0KIUQp/JT+TL6qUTVSnVSvUr1Uqu5SnqUqu5SrtylXblIduIdqd/cd/cd/cd/U7+qHf1Q8TVDxNUO/0PE6HidCcToS/oS/RC2JohZ+1CX6FnbS7tpd20u7YXXYXXaXXYpddql/SpmelS/pUzE0UzOimYmimamima3qZrDNYZrNTNZqXbqXbqZjNTMZqXZuLs3F2bkLs3IWbqXbqhZNUJTUsmqEpqShKakk/bq+f0OO1HCOEdiOMcYI7MEcYIII4QVQqmhVNCqaFU0KN0Kt0Qo3RCrdqFW6FG6GW3Qy2aGWzQymaGW3Qy0MtOpTqpl9XFPU4ou9Si71IXcpV29Srt6kP3kYm88TceJuQ8TceJqh4mqHidCcXoTi9C2JohZ+1Cz9pd+wu/YXdsLu2GYuxTM9CmZ6VM1Nqmamima3RTNb1M1vUzWGazUzWamazUzcPcZjNxdupduqFm6lm6lm6lm6kpqSmv0pfP7NVBPjo7EcY4wQRwgggqVQqVQomhRuhRuhRuhRNDLTQy26GW3Qy26GU0y2mW0y2lEMv+SnVSnVTL6qU6qU6qU6qU9SlPUpX1KVXcpC7lIXcpDtSHbiHblIduIduIduIfuO/qd/cQ7cQ7cQ7U72p3txD9x39x39x3tTv6nf3Hf1HTPMRya8E+00VF+23eZCFEKlepC6kO1+0GtRvl9tu/bFwn7YOE7Uu0LO2lnaFnaFnaFl0LLtLrtLrtLrtL+lS/pUv0L9FL9C/RS/RS/RTMTRTMTRTMaXQuhdC6F26mY3UzGamY3UzGal26lm6lk1Lt1LN1Qu3UsmpKakoST+wThPcQQQRwjjBBHYgjsRwggggggggqQhVNCiaFU0KpoUTQo3QqmhVNCiaFEKIUQy0KJ1KIUK/yV/kp1Up6lKruUqu5Sq7lKu3EO3EO3EP3EP3HibjxNx39x4m5DxNUPE1Q8ToeL0PE6Hf6E4nQl+iEu0Ql+iFnaFnbS67Sy7S7thddil12qZi7FMz0KZnoUzPSpf0qZnRTMTqZjepmNMxpdupmYe4zGamYzUzGbkLs3IXZuQs3Us3UlNSU1JTX7DcKlkgakJH2bHagjswR2II4QQQQQmhVNCjdqFG6FG6FG6GW3Qy26GW0y2mWhlp1KdVKdVKdVKLuUqu5Srt6kO3kP3kP3nf3Hf3Hf1Q8ToTidCX9CcToWxOhL+hL9EJfohbE0Qs/Qs7Qs7aWdtLu2l12mYu0uu1S/RS/pMz0qZnpUzPSpmdFL9FLpopdC6F0LtLp1Lp1LoXQzGmY0zGmY0uhdDMQu0zEMxC6F0LmYhdC6F06iuE+/Y4R2o4RwjsQRxgjhHCCCOxBBBBBBBBBBHCCCCCCCCBychE6neJXQt0UshP7VuE7EEftW7yE7X/xAAsEAACAQIDCAMBAQEBAQEAAAAAAREQYSExUSAwQEFxkfDxUIHhYKHRwbFw/9oACAEBAAE/IeBgjams0ngY/tYIxqvhYII25J/r53ydJqXErPfsW7j+7Ki+De0tpkkkkipzJ/uC4tKk8JBBBFFR/wAjPw74wtzBD2HSSSd3z/uS4psXAQRRG65r+4YXFMWXAKkkkie4X8UbEyaJJJJJJ+FyONTwLpAqrZL+KYokDghEKOobEMxJ2BJJJJJJPw+6aYESJAgQJJJJ2I2IEnwkUikY/KPhuekoDkICKlsQQQQqdRDIZDolkupJJPB5FC2HtwhGiiLGGhAgRc+zHWrIlSl2uSSTRNMN1NZpNF/Fc9JGNmIxm248DJstOxBBCoYbHgkZBkqt5BBChroWCBHWhPUvUIZD0PowMDDWn2RqpkSrIxIaioQJJJJMOGn5nn6Ekk0w25S2crFw3Kz8HnXFII2IIENCI1I0dYtahYIehiMNBDAi59kPWpIkT02PGlV00STRJJPzvMMdRDo6CXUklEkk0STSKTtoFwWdfFIIIRgQ0GhEgQOomTqEPQixFiCERXHUx1qSJE9jxIkdoEkkkkk0n4lizUgYjAlEmBgJIgdRPUetU9BL0qRqSqJoswid9Nc6Mm0/ik09zBCIIVESBEhXmSGxGgjQRYixhoYEIhan2Q9SHrUkSyRM6d5+CSSaSSSTw6pJKjiOZG2ksSRONjIdGbcQNIhoRGtMiAkFmFwT5fIWwHcGS4FCMduKQQQQIaEdCNEa8yZOhIloQ9B9CLELQghEXPsh6mOtGJLoS2PEjWkkknYndPAp0wGg3bphJDwCiQLgefg1y3qSSaSSTsTsTwrQjGv0kgSnvVOWG6aIiJXsJ7mNiKIESOhEjseRMbEMh6EWIQkj7PsxMSRLY6rJRJNWpExAxJehOySiSSaTu2c3B8m9QInUT1oLhFOdBYJaVYER1Ek0kndrCGYMEzVHwJS6GHZhYmolEdRqIdZ2MpaUncQCkpHRSWJIZTbrLMatvjIrAjoQqyJEWIsQjA+zqJEtjqomkIgyFEtSBiY6EvQnYEkkkkkkjYswviSCCCFQiQInWS1LhC0zoJaEtjzUkc2BWnIqTkiP2jR9RkPUKscRsuRL6DDhzIZp8iDfyObRstxQgeCPCayQJZIrEBeGiTEpjoeItKmHzRJmIEBOTkakG624FJxxcEEEBqQolqSIehBFPsx1MSWTrxqSSSjAwIRCoghkDExJZz+DybxPDwQRSEQIaEaZ6l6hGmMkzCYYkFgWFD9RzIw3kJqIGy0HgoFzxzQi6hszQkmiSqw488UQd64jSBfsMhrRGvXJFxmIxMxOTMMSQ5Ixnm8hxoMauKGJGbk5GK6EhFbdM0zQuOdZJpJCvPBDoko9scieEikEC0RrzJEtBqx9EUx1MaJEq8SNaSSSSSVSaInd5dykkn4NmB7jG0gggRLRaIHMsSWiWtCB0DQnIXiacshyj+ZcxkajGEy3mzGo6CZGSL1EQTnVipNuUjw3Vi9wmdyMWmkjCRYFlu0UpEMFFCUaBMlnRDQOQNkMkjl8gzZ5GFxqsaGdiPULzrcNAvEngZox5RjVMVXwEECBAjXmSJaEDMDAi59mJiSyRLa8mTSSdnLVJAiSfImhjqfZCXM6vgkIPhvmzAt+xIeXmYEIYIkNCJYIF0C5zOQIUM1hJEiRhDE4MzEl6EslkvaBGwwYhBUUwLFFwDWA5kSJl5MdQIzvU/xk7OYwo5DJiI1ZC5i73J2odCIkWAQIeQeHOihIQpBDJjhMEEUggghSjsCZIkQ9CCCKSyWS2ckbAWAxGPOkPQhnWRIkSBBNFxzQjAeSzFzR04CMRpvmx5wQlCjftSJLYgggggRIkmDmQQjcGOkNQkNoaBBRqOUoFBzBOgk01AjC5GDkJjgUFAplOU7fE1mELBrIbSGMCSJ0TFkhjng3FyFkomWQloIjegpJVGkwLhY24IIIECNM9SZ0UQQyUUpMS7nCmdBLSrDZiSSaSTWSd6uPoMuckJQoXA9yYC83xiTG2WKFoiKRswQiBAgRp6yWpFCWTUQ8VmMhAwkWLElPViJqEgfMNwJt9zBS1pWL7oTBxMb2CKMEQt7FIIECwR0I09ZLUuEVM6aBtpXiJCBJJJJJO6nduaKzqPglbaDrDz4WERI7GNnmKHIVgkicxghE3OokyIEkTKMNnSSdw+PycagiqCJEjR1k9SWpFCdBL0pRjTDahJNJpP8ABxSCGhDQaDJoNyEUMSW1CBPHvIy/FwQQQQLREiJDqLxeIP0pnQS02LDZiaJomkk1kkn5qCBEhWuVGO0KSSSeEybrJJPyUECJEiRo6jrJ6lwjWRSkWCemwo1EySSBJNEkkk0nbn4yCCBAiOjIh1JZLYEakkkkk7E0yOuSSaJJehiQyWp1/BJQ1k93CkaUevBNERFiiCBAhTDY89SetCKjoE9BLQ6dm4EdnJJpJJJNJ+KhEUQIkKEJ6kiBFCRLQkhQ2FNMxJakSBG1KJJJJJ4yJ8SIpOEPI1Qhhzp1qkMiE5iBIk6PdWJAttNwR242MJOJI6iLE8JgQQQoRI1OsmXiK6dFStpRCaz8dBFXDZJsSW7idRPUnqXSD9SdBOgbabHjqRqSSSSSTSdwxGRCI5Cn0DDdDE4DCjPrkhO7RLiuTOjx5Ge5BbrGED7YW7S5C1bEzmVZkmX0FkqzBOyyOmVVF8zq6J42CCSwIXzGYSkNKUDrJECBLOimNMakk1n4ZlITg4pBBBCIEdCNTrLxcIpzoJ0E9K0NS4RomkuGmJgOE4C4+ZfEE76mNJZtSG4KS+Y3QSTm+Y0y4IFrISi5wf5xCB3OoxMIuRjEWlWQ64vALFLYeExf8SkCMZ5ZDNGYkhHDpxytqSdqd+vMRJry4xIz3UUhQidZPUlqRQl1FSkkknjmJQxCJUL4GKQQQQIEdCNM9SetCC1oFKCtaMxEMUBNKB1Fk8EhoSIE3Njd6rAK4SBWhgLDmUl4ZnWRNcJIxp2qPvsaMWHN4CVrmZFksyAS5UQsjaUstllhSYZchbDNFOxjYYFJK2pk2PA6MaBjvTYXBiCCCEQIV56kFHQS68CaJJJJJ2o3UEIyHOC3E/FQRRAtDTmMTUbZCjqJ6jOccG7zSp6DoJ0E2rRpjQeSR5BImwX72TSaDEuTjSOBuqEnIzE5seUl5kBtsKnZOvmxGiZ6OjfsIBGMDPE5PaSSL26ZHMVqhraD5HFI2oIEa8tSNsBJJJJNJ3CYMUVJJpNEmJiQ/mYpBBCIkUFv2xIdZ1DGmpHqSogPIuRL0IUT0yqzUmXMThrkJisgkQWQqD0jqYIkRi9e0SOBDVf0d6JIELxVyawWCdCRSQz/AORrH/MQs5fEQQiERI0dRMgQJ0EvQ6NjyiFDYwhJiQQiNmPk53jSszFmO6VzhHUXmQQQEtZCCEYQrlyIHUdZLUekfQiA0P8AX2QSI5Ex8jyOY1JsfcSfyDG0CUhxZkxIChk2n0QogSSTSfjIIIENCJGtIWKgt10uiBcIkdaJVEkkkk7Ek8ElwTTMSNsWJyNi0wezI2a3kCEQeKJ4tZZCYFuIFmiyiERi1JIRBAhoNtGtUl77FpDrOonqRR6CWS023IEkomk/EMQW6kikCGhHQtUIn2OonrQRrIo9JOgsM6XTAiRIUSSTtuVInCeQnkclR4HKRoTY5G5chWkWGwHwW9IxguYt4hjjMDCz1xJMUZ5mYhbFugkYnPCuDS14JoqxTQY3nHkTuIIRDStQonqXiKc6Ce3ZJJJJNJ4xZ8dBBBClAhT1ktSNRFLpJ0DbjIc+wyLnAz0gQIuVknoTFWNyIGDbJmB2ookZYmMmS1sswh46JGk8xsFzZBl89lZaCexjLm4zNywFuJr5pZYhgmkZqzLEKUgxVzCkkQsobSJGgc0dVuIFSlOE6VlEJZIZBYUnbSNxu4IIEdKTQ6yepcq5Ei6vEhRJPCrMXxr1qFKZ+hC5ZLJoHMxHweZDfBJ0BqFMobzcw8yYmfMQhpwQy5BL5CRIkSNSFkQZumIbJ2mwM2yJZ1KxIkloj6OiiZ5qywanmGGMe0mbwHpTNhrWomNNSxITodUeRgWzdOpD3yRt4EeLM+zqxqXMBK3YhZZApFs2cHNTVik+DgggRIUdZLUgISJbXpJJJ3PMWxJJNSeDTx0ELQgghEIiRLFCNHWS1JUYrJaVuzCUoQa9UINqBZzkF/UIoTqQJMSKwZRWGceY4EM0FnSklH1KVmfKaxesiEV9XtsVu5G2GTYZZBwsSIB6xkx9RghDDpAPPMRBKiXMUAx5wQ3AlfATvIIGhEjS31LhBnQS0pjsSSScSUQJMSVaEYfw8E3ISxYLY2UInyBCvj0hjYYjXCihyQ0MsW2TaMzpIJdZCRmhaVYhEjsCSV2EJtTJJpHEIWhyiuYiYT6MKYmLghDixs9ZhABfQYDXqoaS0leP/wApjDMaSc2OomUQqp5GJ3kwLAVZO1G7RVzMmxCq38IgQrz1IEizmQ3UmFJphSaz/EwQQQiFoWi0WCFShRLUnBOZgE5EayKTcoFFZClBNYhOEKblkCbNRmMIa4kPR/QywtxCsqJSPkE5VmRlXILa2bM9uSFc3mqkOw1gGJHhZkkkd5mNgMOSzMTqtClPrlsRbiQ2WExSQMiWqIjPMTkaIW9bSFsQFu4P0F0E1ELR0vYiFE1JJJJpJJP8VbAnGZNi1wsiNiKIjXQt0pLMSaxDlhDeMNizHhGZMygSMFXIRWiphqIRghYTiImDHNEiehCTXIguJrECSShbDYMa1RVpGLRWc1wYJJHRQt4GW7jYDqLHcXVaS8h2Tbb/AHDLTIPczSt/BBBBBBDQgR0IEDrZ1E9S4XSLCB0CegsHS6IECBEiQpgQJJJrItmf4mCBHQb+RbOsfjJIxIwmwMWFFBYG2lZo00Ka5IGANLOkxbRJgIkpBkyJlCznIlJjsEItRIfUPMMk3qLYlyY0kkmRuTRYCpmPCxILdTxcEIgWi1QgQOpkheLpCaHRUSejrQLhEjTAlEkkk7M/wjcSTNyeFYIIESBAaMSocxPRkwHLMXzJ6UpvBSEQIMU8B/KBL8DItBzZiT+bGrkI1goMyNpzbkeQspFCQaNjDLsJx7C2ZJGH8WRWBHQtFqhHYhr5dR9CdAxXBLQcSJB8yAlphUkn5lj5Jc3CIVwEDhJZKmR4ERwM66EtSUjcN4eA+DyTkX2xLrKYhKBaiTCmQ5dTIsR4HZNdWGJDpgQtD6+Paic895BCIaEdCBaIETrJ6l0ukU50lgnozoohQlIkCJCiSSaJJ+EV4Ghyw5OBkwGewlNDUiEhLYgggWhSQJHMIjWmMMsERoJxkVxTAj5CRPZdITCgi9stwhxFIOa3kIgghoRpQpROo6hgv0V4inInSWC0dFECBCiNMSFEkkkk8AxQsuBeOgNln8t/GTeRCUwphN5kkkkn4NuBvLMmZg89lLgEkJE1YsyxJW4bJu0H+fhZgTT2oIIIpBCIECGhEgQInWdZPUvkUbJYLRPSrEgR1IEKJRJJPBtTnv2JFv8AhU9ZPWsVw6qOigsEtCWjoiQIakdSBAgSiSVwEiSV/VGkdyU0PxljRyclRyozY98VMCkn1OAuNfcS2olM5vF1bS4CE1c1Ie0zT4qKQQQIViFPWT1LpC09JOgtEqIkCOxJJRPynBCIaFqsxudTJVERYfQkzoLBPQiRpQEpEgSITLXASpoNbtIthZjKwZCXmmyFOBZnzYYq1kFtnMSj6GMcnyx3DyLDWL2EG2Y1E8nAtIWRGyzpMRKhIsSGEstixSdFk5KqJTwRcIyUS6Y/FQQQQR0oOllWIQnSWidWBGiBJJO/yIy7iSSeOikCGg10LBbpdQ4LMkpzA8RYWRaksihAsSM3RMbSzeIyhgyQkWKRIgiJElE1JJFYxpm1UnYSVkCkJoT5ngQsEMIB4IhJGHvb5jOHyBOkIxgLCrGRiN9RdATMBUCE1NH/AJfLQRRAjUuuklcyKU6C1WiJCNEkk7GSqakkvSiRDJa/DwSGPFvaggggWi1UokVDuLlBfGSPQJGMlTT0Ygw6kUdQNIyYyv8AKHyxMwyQSRrHEZfQJbrEQkJXIDCTFyXMWR5iRTDGNm2xjZ/waCCGhYNIgdZPUuEGdJaOmlgiQlrRHyE8G1z0rgiiOgxW6xE6hu+YnWQ9MxL5xvINZNU1AD4ZkjppShp5kXi4XCOpEhqQIUST/BwQIaER87NJ3KZh5cHBBCGkPgnUV0WRHQtFqoROtnUyIXC+RqqzUNLRnS6YCQvF4SkSBAkgSST8fl3i8XCJEgSSSSTxWfsTyw3AnOJ2IEJa8nOi3FmZKRmJxGgkY5Dww5p5DRDRzELg9hsb1mSecGStSUJ0SqvRsTMTGkiY9Jum0mJBDDmyKLPm93FIrFIIIIQ00Ilkt0mh1EtVJdLyodBYprBLQ6SJAvENSJGpJNJ47Ju+JaLRYrXWzqZLVUS4Rromop1D7EC9UoEaJRJJOxNFLiJ3aIWOss0TK6kTkwxV+RZmaTHoIjnYdW4yNLBaM5DKaRthQhyduZew9mdKGtLI9sFllYzUyMXpDkZKQx+q0lmNy86TJk3iR+y7pb4iEoSj4SCCCCBAjoWKUaOsuF+o6CwdFEaY0QJVZ+HI3EEECwWiwWyJDVnUoLpAfSTooJaMbDWcjhgPkxpCeaEoTYikzkeoLOCVAgHJckO0/cKGB9HZZIkZWM0RBmvjIHOSOfmIld6h7Hu7kMZ94FrOSEubIbhJiZxlthMPmYIrBAgQIDvOsvEUZ0lg+1MSNMNgnbewknYEkvQx+AgggQ+eLMVJowFs8cBL5GknzE/PAxcDzUsEX2qIb5xGoVCRLUwIRbnMh0kIdGxi5QiQ1IECSSSKnLExRBJPsOMShEQ8htRAaZ4cthgm1lvp+YggghENCOlCJ1ktS5VyLBLTYbwC6ZENTEgQR8KpSQbzmRt2pmxJJRswRSCBAiR0oWKECJ1uiukaj6mKFkN6R4QJU4bIgMm4FUpeZfLhHUhRJJJJNZo9mf4CCCCBGg4jVEvhnvmlZEnw4RWDPUWSLCCBAjoWCyWqierLimuEa1XnRUaeo6WQ0ZYYtUul4uECUSSST868vi6RuJxrPy0EEUiiBaLJbLRAhqyeovKiRrEg6RboJajpdMKV8vFwjqRIakCRPYn4V7z0OheL1KGpEiQomkongk2dyy+Hn4ONiKQRREiWKyxhyOpkhcorlMixTWDpIi2CKOpAhqSTxEbxBCIaFotFst0YHUyOrG+qrl1H1J0bCw6S0xFcL9KNMKCyyfzsbEUgggR0LRaLBYImHmT1oL5FGyWiWhEgRIEakkk7rOxbUk0TwkUQI6EnItUmE05ZzxwazTSG5z6jGpTUH0J01vWOJSR0ZYdO8Xi6XCOpAgSTsyST/MxRClarHXQXyKNksHRRDUgRJIGNJrS6jrrQuIjYlK6sUkRyqpB6E4CKsZ89EIsFosFktUmXW6a5r/YEa0fUnQqhXo7hDR1q+XS4Qokkn+XggghoRodZ1D1qFamJRHAxuG4EpSODbLluEfSEyk6xIESEthodIZLEJrMuqLVGSJp7yKwQRRAgWCyWaDvZLUXlDdPoTpLOxgI6hJeleLxeLxHUgQJJpP8AFpYxcXr+Q2hnYxicMZGrmNHMUsrZY2HzzFm1HMp8hGbjWasWMqekLESSUJbqeHghEIiiBAsFgsUI3I6sb6i/rfYH0Js2F7LUdLIUbpfL5eI6kCUSSSTxU8WxZxcWqDUwRCUDW75iXyEjJCNrNCZixGskDMk86BuMpHRWdE2wXVAn4TAbgSJKck0aDAQztsc6GG6kk4c1zgKTNxPBQRWKIIURLJbLFCBHVnWE9QEaq9msU9R1CGlTvlwvESBAkwJJ+B5t2uSZdYhehfLpfLyIakkomkk0WCubErnS1F1RQtaNSNta2x/I6J9k0ajMGZA2M+0GGng0CpDNYCAHOsIGuXY4p/rAxzwYyOaYxvnyE9NMYjwTFR5dBil1exOyx58Isx3Q0ZITw+QfyVqaPUsZZdxbDJCbJy7ODWcMB0nP4SCFRDQiWVRWiyQIUT1ZKra5RJsFgnRjWIkCBK1JJ4F5t0msVLA2clTW6TvC1mT1l9U+6h5YYCqS5ijSpE9R1CGqleLxfFfwJYEJKOBBmzI7jFoSNIjedEQoxDEZkwOcVkxxjzqO8cxjE6jz0A3PkhwpaYQbuQpYPIUabnVjRzYlMZQ3OvHIXrQuBSY2s1i1QxKgQxk05JYCVaiT/g6LMI9zjzOlRiiZNSqNKKcaIaaExm48lC3NXF5Oew1ZsTsn8fFEEECJClEaHXQXCKFgtnQKgiRI0QJ2XUkgRIE9CdHC8UggiiBaRZDashJVHC51CeswSZEoRSHzjqROlVVZzOhkwJ8iJCEihIUDeYjRHgxVE5BJktCsV8xOk/onjGpIXF3JJ23WPEsxSkZExdxYlkWBry+VF0hIHcDQMJ5JYjE4wxMZMmgNe5NgiHmFkovcSl1QPPnYwuYPcEZiDo3BmDwQl1RLNiP/ANic5zkYutTyGqlmxHgevzsEECJAjShc6mXKqdBbJaGcc1giKMSER8ZBBBCiBaLBZQ3cjSgNyhi0w6xel5RW51I+pqIYZ5R+MSI6Mjcvl4WuZzWaJF8TkEMoGjNVDTxGxdB0p8xKtHOIxEUQt5GE+WYpNyVKVqSWGAeCHO2bSOERuMQgifIIm6rGMz62pAlvfJGP+A1uIIIIaCQkL+FgggggR0LBYLZbIEDrF5jZvlsckFAPDhBj5DEaExQj8i5j8by2T5uR2oFOA+jJ4jSHWqyECZvIdSNaLD9YKgryIErUkkmsk/weT/NYpA8A0T5YxfBKEkklghGWUcxCzFukx2Vkaml60dQ62XGxOupH12BHcnWIaOt3y+XS8QIakkkk7p5/DZ/7HFYIIWhDQtFgtj0izShqzqF4OrIjUj6FjYlU9RHUR0IUL5cLxHUgSiaJWxPDZ1St0LslrJl0s6hdLpfLhcLxAmk0n+pgggggghECGhHQsFjYA6yWtRrlE6CxSWDpIES4XiGpJJJO65KVsyh0OohEEUghELQhoWEW0WyzThqzqE9Zei9cuo60WULRVab0lrI6jqlwm51il5CGpKJRNZ+QTBLAufykbUEEESBYpw1OtlykuUzpLBPUdLIECFKHA5ExZKmDcOoiQIcNFIpBBA00LRYrFaOsdbJlf1NjSPoTpWwmZayOosPsXqSfmWReRAlGHHpL+FgikEUQLVGFIxvEQiKw+OgggggiiBAtFimsjO4zqEtZfUcB1ob0osqWHmoHUILk6d4vF0uIvITROzOxJPy0riuWhbEJmjXw7Yo8sXxUEKsEECGhYLRbLRAhc62T1F3QwfWfQm0s0F6Rcx1COjqt6gti4R1JROzJPwcJnisnx9/NML1XOmEnirYRUhInKjbbSzNadCQlCT8FBBBAaEdC1XCzSjc6mS1FwIURg+tE6UWVV+es6p0stOlfLpdLYukdSBKJJJJJJ2p+AybV0bJ2J+BW85IU+YeRlQjXA7kUmRWbeSRHz7bTJJZMhTscFmQTKMhcbKo2I3lwqKwiERRAiWiwPRLNZWqx3M6xcUUHMjXTNpa2FNPUdDIaPYuvFwvEaJVcKzwNVXUxIix4WLXF0TKGj7Fh0LxeLtFZF4hqSjDhEI01gxLcoEjlGIi02gSt0qwElpGBtGaEMJ+47yNpwxD5iW3BZswElglsSc6RpQMFLnhw0gTUAeeVj5zJinOhBK4hJPBQQQRRCIU2iwWyzSiQ1Yri4qtGo66bVNMdJqF0vFwgSiayZKESNoZUROgwKHFIIohECJHQsC2LAtFk6pc7qK6Lqs8LzVJOyqtwXZnzkdR1hCtCwLIjqiUSffAbqpjfIklxZNw7mmAWVGPMllg5keuXk4qkwjFmMEhUnngQjiJTbAjZzePBrZbhDpwhZVVOaD+MokN8IikUgghECJYLVKB1lwvEHpII2cBSJ6kCJCpjxMEEUghEECGhaFjSWDQka6sXNMi6Lgsx8YmcGBARYRbngZeFzGHNjqixHJKKYxL5BbNm5gsiGo/ZVGjubkhJJLlxDpWZL4RAZlmS3inIgjAlXAEuQsBvAiJJ+FsAtxHxaZTYQQQiCAkNJYpmXLC7liy2qhLwWA01DE6c8i9LqjjSOtH1Jsp2gajifWQDr071FFGgEosHmMrlE/kE3JCVWdhjAMU8KNwPPIY9JumhBiBYoxhBJy2JpfYMqFBcTgo+dDTF8hGzFIIIIRaLJZNUNnINp6poqJIaVkIucSvOOcPOOXtSpTFzDWToJWbQRCzDpY4Nlwv0VpRXiUSJ8BCc0aMyS2FlskpY7fJRCH4vNzwK+FyuhfzUbUFhHrhbU0lmMK+os8/ZHydjCTiyRDQjoWEWwyWSB1jQAR5f/RZJQoigoD6iCqJBRGaJJIsl0XBMusdSjcL1BfLxeohRJJKpJPwGUXfT/KsajiRaknBRtQRSCCI9BFosFmodQmcw9ZRIOei6iH0MAnoQ9BbEhnqLmIaM6tG8Xi7TXCOpEnYndPgLgtxKJL06h1uxadO/RLQ0lkWReJRNZJ/rIEltQRFYIIoSJEIjoRpWCwWy2WajqF5VKAWlmtUqCoEdSAaIlodSinQiNRNQOpSCKkC0WxZLYslghHVIavueRmHmLkv6CxOkdYh1GulT4KQgVh07xaluTchbCTUm+7n+TW2lwMUgghECNKBYIMhcwQIaEcdCIIIpBBBAgWi2Hp6J6R1yH6U0guzwIa0qU84tTzM1KaQIh1OxeqNYF1ENSUSSTXDcr5hLbjjFFhi47MAhMH0CyUajPgI3EEEKkIwIkiWkN/IWhaFs6nchy7hAV5Tx6zpdibC2LCpl9Qocwsdh1OxeprAsi2IkonYneTulwiW/S+TBsh0SxOZLJ/CIEn9YjeYKSxRoTEWeUaz9CwSFosJbyQ8wJdRJgTzW3DVErXfwRWCCKQQQRLSIaItUVgbuR1qCZPlMXxBdA6FAWlq/cUkSt9h1CDmXC0LIsiGpK1JJJJ4KN/HDizcaZdEkEK5ZhJITJbxk8ccgiKEbDViyJIIRzyc47UBmP/0bmXuOhSUbLaM/TZY0RnezvYI2IIIIIogRLBYLarBbpRudYvS7qLZHUibSwqrXJPWdQsMul2ksC6i4XCBK1JROxO5WxO/Ys3HMDqzQ36UDkQv/AISM0kJvpHysyCepXCnLB9CBM6wMa2xtpErmhL25DObstn/OB6TeeC2MBZtwNvkQn7mt5Gy+LjcRRG2FAsUlkskNCTlQhc62T1F6T1F3WWAtaFHQm0j2S4HWI6PYHul8vEBMkkmkioxZthJJKLhe2IO8XqSzLQsy0IakrUncwnmRZXJEEnLLcZCw8m8Xy5NJtyyxrhfE4E2bnEMkZjp1srzMBNPA8WJ/JYCjSYOhkzHnXqdyJUmSLdogz4pTR0q5pGm0IHJNv4yCNmKQQQIEdCOhYLdEyS3EurOpl5RXCNSPqWUOLEZnIxkJfkiagQ1HULZaI6CKIECGhYQ9MWBaDcLZ4Ge8I/sSrF/Ii27EaXY62H/DMwGFiOakljRmbk8zqzruToaw+x1e1cU7lF+ElOULANXcacXTIXzZsmrPwzkKVbnCRejrZeyBNxsaeWzbAjL1ZmzK5+CpRixkmzfKjUiTjw8chmY7ieRMuBZLZZnN0GiWLE2DBqPkkTkkh55GrGHrNcvio2YrFGiDC4fBQRWKIES0iwLctU+v3PYFveo+bfchbEP0WHYj8h1UJ7oZTMtSfXaQ+q7kbMq0tEhQR/gR69i9Rzco9E1mPSENUTMZ4EYBYvFk0ndtwSc1v1w3QLZVTxDAROvUZVISnMeG5GYy1hxs9bujvPLzGpM4HTeGYVQ8xgOhAmTxCy+GjevdEfGRtQTax13iQIIENC0i2FaITTFGpQbA1HM0iRQkSiMn1DI0sdLHoMGXYJCaZWfc8LLsmWLGkk4AaElWs7HpqVNOfQ+wPZFuQZ/6o8OfbNdL9HkRBRAQ4/oUyySJs68mQBy2E7UWTpsy+obMUN50x99DMDUCtaCYgTTIOViEjofJse6IpHyGPRKEoSWm7hPkdDcxSCBBPgsTQlIiWi0LQtC3T6vch+lcFwNtHYbslzqIP/ZRgigOasvkMLxs8bGfV5mURmIjGjiVl9i+y6W5ZjsQ1wUt8xKJY8xbCYEb/wBwRWHvsT8gxlMT25+TaQlfEwQazEIvpm9jAggisEEC0WBbDdmolZKiyQ5T3IVIF0XNXI0zoElbFvTXpLXRXB1S4XagWxfRdLxDUgTxLooJR/SQbTayyouPggi1ECJaLBbprJaLBboQ1Z1i9LovaOMdVEiwiwrbdE9ZDmxadK8XKC+Xi4Q1G0NliSBdRcGEdGdLJegtGWJaFgStT72p/gZ+Vjgo2YRCIIVESwLRLRYG/lWojGQilHWOqR8hGhC0r9FqW5a0i0Trdy53F599jWl4JfNTaKdiNLsYOYnWLFOW3c8TFzv9lx3NYMhedFjsOv2qpblsWxaFoQJRO1PHT/OrFzHFsreY0wpGzBBBBBFIIIIIECwWiyLamsC2WBrcj+h4mKP/AFGZg5zyofIXsLWE6qT7gs+4vcMXMJF4UeqNWex4FR2JYliWBK1ROxNZ3s/yTLEbDQkfLoIrBBBBBBFEXyIaFkWlUrBpSR/Q8TrMXx4ERDJ2EvyklYPvi17nhZfd6krXYdQhznsXX2orAsS1LAlaola/xTRjIyITqxfxcbcEUQiCCBAhoPTGBlLAdArJ5me0PC69lx2PKiNDseJE6zYFqWPc8DLvuX1D6st9gm69i5R2JZliWJbErUn45TKKkfBz/CRtRSCCCKQQQiGhYG/kLItS3prVOOr7joCvK1dHsTrFgWtaL+igHUoXhEsS1oriLiJWpKpKJ4OSrNGLcT/Pxmn4CCCCCGhHQslpFsWBbLdO8NdWdbJ0ivapwXWiQsotKndGr06hHUdc649kLGjnThoybyeibCdKPoY0wJ//ABiNiCEQQQQR0GhgYDebkS5D6PoWze7jrkwdDK7FrOw+X/g9ARy9o8KJO3T2unc8rHru4tTSp0ul5p+j1h1+2ytjblmS8hZlkQ1RN0Tdf38bKVEbqNzFYIIIIIJi0htwmIogQ0LSLSHFkLcsS2Lemtls8zIaP2eFkzdGi57HgRBydiPyEfhJUWB7gtO5Bn/sv+5qUr4EWu06/Ywv+KK3qXWBblgSv6eLimNebqJ2P2AvOD/673DXewQRWKQJpUhQ0msmQQGrzRaRa7CcFlSWP9LncQ/cTfrXxuuxj/8AB6Q6r6Ooz5ugWfcaf2a7UORx/E9KK/2LtDY0izLEtiVrT72J4SfkCqSiaU9iBcBjaCTV9nMsFtdpb3yJoJWu1OJwlzuISBCeXgQ0mng926sOJmkiXEwQRSKQQIlhFsW5aFsNgw/06nc9iL3iQ6ZYOc86PCiy7HiR1VqK5y9y370i1Y2XOo4fmW+w63YuO1PYlmWxbENUWBK+Js4qRRoXCoYnzELIUSE4n/AMdGzI2V+A5n0HPIMtl0xYxNmD0zBCbPjlsLINOiXG6gbARJiJ0ppJZktgtduefRCxJJ4FZJzgfetT+NwpCIQkIkRsLZYFtTWC2O+RXNkdRMtBy5pLAjR7Uk6A9NFvUi+JlAtQLLLxfLYsiwLYhqQ1RK13mQziZNZpJhwbJmcBJCwTktwiCNOLeSGUJNPSsGohFk0SXu7FckRIBkioK8QkmqVSfOSESVLbDcsMQMhegmdBhEx4EmKXURSp8RO7e8zchYpqcjms78IxTspnh4IpCIRCIIIaEdC0WiyHp0Fmj1CC5sb66BcUkH5odEtrYHtSxbgXKTdNPyjdh9BaDhqVXIsQwalZDI0oQkXN4X2GM2Iw3nBDOMW8DX7ZD0WALXBU6axdH6KBhFCEpZBSAkkklRovqxQkkslluE0kImKZ4pEGH1ayHBiwfs8HkhblMmI6fDF88UZaW58Lcl0W4OZiTNBF8zIdQ8YtmbYtAjN8tj6Ar7JMbE7z5EIIjG9Ny+MqeVPM9YpIWX9mDp6cS8hX4OCCCCFQlZClWBVg8iE9dL9yezPYHmZF+i+rjyGP4EfzPQnkRrN9i47Uj4yQzlroEz/CIrBC170K2GkphMEpGaPqYEWRepDYjkopPGWFEtpw/wCkMsp5c4F/9oHHAmJJvVaiEbHtnmw25MBdETmJx/h1JgW0GQ7KSPlmZM+ZQQRc83qPAA7dApAsTnwiOjJIaNDA5im5ImzJyZrCRI5mrGoMGwalQSWvskRks3i2PT/SMBkrYm1XIz2Ixry+JELcSW93jeiN80JLFjQluKNPIMYmFHZDeaPgqCFtwQQQiEQQQQQQQQRRBCqLSLAsixrgWgmDeEwvQYfKZDudz2J7A8DPG6U9YXPYvuwvWI0ex0+xGHiJh1SLNNaneLHuW/cw8f8ARzXMmxFUj/6IEDAyGYrASkghOArnY+pZYTcktIE3TOMESJHOMwBrQQLUs+5bdyyJWqJuTsY7lL3kiNBjiPUkswJg4gRXRYnXJDuOFiw2bt0EUTjk+RPyzGyIJQtjsLsR4ciVxWRRTdZgGw6wlwIwMQFjtK1pYExZg1IlojlGnE57IwQ73Tj8A6FRJNF8fFIRBBCM8MCUoWRAhEEIgQ0GlGVl2JMf8h6bsWhZ0C0LU8DLb7lzuPOzwMSSxKL3PZHiRC/8DyonUZGB6yIChgtRWWwnzMVnqISVq1iQosSugkhLXSgvIi4+x40R+IGMMLEFMXyDPzBiPZFgYaoStupP66jEwdCjnqLZYQklVbjWIeb9kP8A2IMz6NbskaFYdOlCOjgSGt0lFyBYhHhs2iQydTIf1LR08eQNZl6DUPJ8EL+Bf5IMleozNo0cHBBFIRBFIIpBAhEItIsixLcsC1obD7niY/2SGnvmmoxZb2YefsXPY8KLHsedEjYpKw7nlZd9y67ifmUfxPTmOxY5j/8AEyLmNWhLCKGwPbC04qFmQZTHJCZmbEmY8MWYpPghzoQtqaTvJ+K/3/r81FIRBBAlZKpaLaLYtC0LAekRMmZ+K6nMtZjrFu/mzJJVQrqj8qI0exH5iaGtqr3JOko0k8CL7LlNaFgWReRDUwJ2Wc3ukbpcZPAzIxk+RYnxLaWrMhVu4IIpBBFEEC0RLWxALRAR1Y21Ui8I+YgcPNCdNyNFnROpEaReEtZektfwU/3U7xoazwMAiaLYi/4Hpix2lvsOr2Ndux5lRWtYj2FGk5C0LEhqiGqJrJNJ3c/xs/DKs75jpJbcEEEEOpDRFoWZblt2NFSwHoywqXjBabGz9Ef1PZnlYn/c9kIXHK57HjRrf5I9RGl2PGi9mRk500r74su4vaPMzxMWpJFP8CP4i/FPQj0uwUOb7HgRZFkW1EtD2lKti3JWqJWv9QxhZi243cbMbEbcbEGGxBBBBBBCMKRSCCCFRHQjoNNER0RbFkekLctiwqakHiZ7kh+54HRqgxc9jzIshZ9iBvGqVge8H+ue8FzP9F1Xn8SIfmeoLHYeJHgRZFhXu9ge2IaC4qZmP8A6Gak7McHHxUbmN3FYIIIqgiiBDQa6Ith/hUCwLQnzUhyDudy53nsRr+p43QWhSmkBS3Y8qPTEfmPCjUrlPcHlYua/cue5qF5UR/Et9h1exffYustyyLOqFeRK1XwLoIT+Hj4SfiY2YIIVIIrBBBBYLVC2prcsS3onePcEf0PM64l8Pl/5I5/8EaBhyfYTopz2x5WeZl+SRQKPl2HWFrvsXf8AKawLQWmLyJWpKJ2BNCrNZXwmH9ZGzBFEUQGhEiR0I6FotlstU1e7nUyZMyfisbrG0IjUqG4LgmFzwE//AIwxVKEqlsw0bnHZncztTsT8FP8ASOhCZiJi2LQx6Ja7jwMjr3HuSH7HmZ43sW2LU9i57Fl2LHseRCf4zzIn82wcPsj2xZ9yw70xL5u9KZk6f8aI/gerGvPtnqz1Za7S8+1W1oiyp1kS4VMyxLYWgJ1Ilak7nH+oKqBbEbqNqCKQQRSKQQQiKIqQRtBBiMdJOCGhYCKlpYIdmrPQsi2PRUS2LMsRrRQl0lg1J7l5PsSBedkP2JTlfdFfCngSmwMicmMfpDC/4I0RAHlR41QSGqh7s94WAj/Redz3lWXD/wAyH5EPxrALr7HnRYFjUg9we+JuQlaow1/heUQjlv445tXgH0pLkhDUzRyibiM9Rci2VOaTwEtWjuIu1U3zHyo6ohZxhErBNaJm4TdiNbSnY8BP2Y/4JYmAluUvO/8AgzrBBBCrBC2IpBFIpBFIWhHRFhFkW3Yn5e1Obc1oZ/0X3cer3Gn3Re4SX/U9sInRLzI86oC7tE6u0nmZk4CtX9nmZjZu6L3vUPD8z1p5EdfseRUtlSrEtSyLAla/BZaJoTJ3uPGsanMEfAyWQ7n4SIHBji22Q5fBKJF9eAlF5sY15IQWYsIenj/9GR/m1gO5Qi+gnoxByYMzeDMAsSxe20RLzouPmcCxUjaRtinjCMt3iQHw0Jc23BGxFIIIIIIIVSCCBBAtFtFgWpbj0hZjdyOr3IufcR0/sUX/AO9fG+PIiD8niVDrVplt3LfueNl3Tx/E9QeBHU7HW7Uq0xa0qXkIakohrTLQlJComT8VmbxWEluWjkKbFYNJxdWO/MRISUKLVkTbGEpdIVY+zGvhnyQ1c6RZiul5EQODA+e3mYc1qCVClk3AjSSxC/KGSbmIgaWEkOn3svDMYMmF4hcbMciNXVUsOhTNz2L5SN/BBFIIIIRBFESJEgWEWRaFoWhaoR1fcd3cIKHyiNIYlry6L+kT8PguTJYuDN83tISb0G83PCthbtLmyZgSB5JLwbEnBq7yNHItAQkQkTsOiZ4TuCyfXgSlpJbAwQ0rZv8Am7KRMjEbYtmSk7mdiSeNelM2gt0uIhSe8smh7Nb+qpSLZhiksSP5vJQhLaj856QmtQ+wPenvCz7lv3PIy87ntEXBNZnhCH5kPwPQHrDC/wDE8yL77MXqVmsyzLctC0PeUb3RZUT3hYFxErUmuNWxzTDYngpozTVnBErmxZkrVZOSpFOiNGYC1hGXfk2/jMN/kdKqtmDAgggRWSCCCKIqQyCCIIIsNI6SOhHREdEWRZFt2rQWhblkW9fNJf6zq9zzMbv+p7APld0iDyMftk/0HHXbMCi2Hn7Eestew1+I8iPGjwIudtQHvD3Jcwud3i27j98vu48Ue4mo/wBKVm9Mo4hl/kegPWnoiyV99mXnYxv+aCxEzlo3sD3RY9ydAtu5cRP8TmULgcPjYpBBGzBC2IIpBFEUggggggggtItCwPXHrD0hbFkW1Fdd2P3XSUf3Hjn/AGPKyX/vR77sXHY8SEtHseRE/kJHGypHU7hZh+6XvegSo2A+vF6Bd7C87HlRbVZvZHti07krVE34Wd/kpkTotrHez4uPxKElvAZNJ/FRuYIIIIIEEECERRAhTHQiN3JFiWxYlrTMVo63ch+pH9Rt+9Dwguzyo0P8ngRP4thD9n3LbuWvc8DLzuT5lH8T0ZY7Dr9iXm+1FamJkLEuItCGq2GUYVVwUmGnwMbiCP5KKwQRSCCCEQQQIVECJAsU1kWVFboLdOFzDeL7jLh/9jaEYeaMS/8AAWj7HjRYdiz7bbb5cLhwi/ucomwVZ4OKSYcDPw8/OyTxuQQiRbMWvY127UK9OgnNhQPeHtD2h7Q0E7kNUXEStVswQRsfVYI2J2Z2p46flJ388WSEIFswRIUdKOlENEWkWx6auValmWhYniZ4mWO4h/R4mXC9mQ/Yl+xPZqIxxadpf/ojyog5RGn2IAj8B5keFE/iLhsCyLFE+Wz3h7ksO542eFnjZ5WX/c90e6HT6nRaH50R59g9QQZ9k8KPMi+7Mxl/4PCqNO5K93uD34nZd4tD3R7ItCGpK1JJW7ZP8QXOpbmOFikbmCKIIoisEEIhEIgiiCCCCCCCKIIIpBAir9SGiLAsC1PSFrWssR6PYf8A4GWX3YveGr/qeNniY9HeIGXQ/QGPn7HiRYCFJ5UXDaFkY3/qa/ePeHjZ4WX/AHPYUufMPGj0R6Ut9p1+xcfbYBEn5B7oty0Iak8ExcQWYqp8NG6lfAxvI4SKRsQQyNgRRFEQQQRSCCCDGWR6anPRlqWdHaMaYfc6/cSa9x4GT/fY0+9EeJHiQtE/o8CJ/DSKmta9yL9l13L/ALki6pALfYWOw6vYvvtS2pYFuWJYi0xcRDUSan3sOdGJiIW5l1jhFwE/Pxw8UisEUimBBFEEEIhUQiGwIFpFhFkWhYFqQ8qC2dfuQv3PIz9UJuahsXti9qgb0+4kfosO5Oj33ccfK/v0ECrAuHwrO/isLj5/n2SJYiVJJEq40hkbzDgJ2J3U/ErYj+MkiSHGRJmMyy+hNMgUbGBf++1mca0i86POjwIWj7HT7Fidjzo86LaqCLni/VPbFn3LDvSND/R42X/c9xVbbB5keVHoCP4HrT1pY7TxI6nYfpF99jr9tj22BYFoWpYCYFsW57g9oe2PeFoaDIaolaolak1knZx2Z4aaztRsTuFwc8bjIUJRSKsrVEGBhWKwRUhEDrGwIVEDPMkKiBBBFSCKYIrBD12m2haEdBYR6IicxLPseoPWC/GIisy3G7kNKhJX6Or3Ot3PEy93F7uEP1Z5GeRjl/2oENU/fKB8h+wosz+jzKlWHYhVlf0eNEfloZ5RYoz257+iPCzxsvu5c9zzVWn6oaLm/QwsV/R60h5vsXXYTebtT2JZHvhN/wClCWm7loQ1RDVbU8Go4rpsTwM7T2xIRu6SdmCETtY76KR8LBFIWxFYIIIIIIRBFEECBogggipBHREdCTND1VczWQWno0kdc8zPenui3vbF2Vz9o8yGvWdHseRGX/zJCfNnuz2hYdy37nlZdd0XPciOQx/E9eepH6QtZ9i4+x5lTWhYnvqNaliWgmtS4ib0nbYyhbqaRSd3P8XFZ46CCCCCCNlFEIhbQI0wOkWiyLUsCzLagsHW7l7uEq5vuO/uPOz3NcR64hy/yIsjE3FayMZMSadh1Ox1Oxb7N1FZpiRsxWdxjSN5G4W6x3S+LXCRxUbMDRhBCEhBBG9jbxrG4njJ3C3s/DLcL4xmdCIEc9iODmv1u53E7+aTwkfJxuJ+BqksWxebWQNcPxPWlvtPEjzIvvsXXam8CrXaFlXgsxCWxbdy27loWBcQmtUYamGzBLMdiazvY2cNzK4hfxPKKiVFuSKI2JFaJ0EdBpoi0F+cWhYlmWhZFoW9P5GXHdnX7nkZ4GXe8et3i6XTfZB/9Dysn+xP9KPoV4yDn7Hri67HjR4UR6iNDsRo9h+meFE/lJ/CTq7RXibhZMXIexPYnvT25h8zqW3ct+54WXfcer7qkMSZSKYeZHoCH4HoyT8HiQ9V9i6+x5ExejT2gqJHuBAeyLXuW3ctiGpK1JoncTvZ+FW6cqJ0T4b6III2MKRsRswQRsQQYUikEEEbEEUgggiiCKIIEhFEEUQQ6QQRVGwGcHIi+SLTsemPXV4rctCy2Lbed6kplPdHkZP9jSBh3I9T2PGjyIgDwofqk6uwT1izRWt3Cx7ll3PKy97lwRUZ40Q/Ah+B6Ysdp1+x4ET8lPZlkWh7wtyz7luXEStxG6nZyCGJolCrG1NJJrFZ+ee1PAQRs4bEEEbEEEEEUggiiCCKkEUQRGYaDTREdCwi2LQsC3LEsUlk63cSdR+wJNe4jr3nkeweIqM3gRAR6jwgz5ex1onVsBLGyEfIW3c6BhqJC3U7WG0trD5ONzj8RhxMUghEbMEEEUgaIQ0hTRByLdNZFoFo6pNJ21Wd4p+LneR8BHzYiSRcPh8Bm4ia4bMEfy1lGQQKsqkk7pbGFFsTwc0ZhsLh5J28Pg8PlIplMpNcBbKnYfchynueBkf0I/oeNkv0pa/TrcXdL40MiPUR6jp9jp9jxI8SG+QyC5qNqiPYHsD2Rb9zzs8DLnuXfcue57pV8ZzVpwZ9g9EQf/E9OerLXYWe0t9gvSLj7HiTLrtS+RFuWBYmmHtj2RF/2PZHsj2haFuWxOpFxCck3JJPvYis8dPy6qHiO4TjSCApFtQRWDDaisEEIgghGZBBBBBBBBAgggi9SCCCB0Iogggggg6CdMdEWEQ0RDQWFO9UeiLMtOx6o1VHpy2LYtTQokQbuT7ll9zq9xK5957g98eBnnZZ3qxr1PYuexediNARp9iPyC9OpNwWe49ie8PeUhYdzzsvO55iIxnzpDzIX4p6Us9pedi+7HhVVLIwctER03/Q9oe6LTuWhcXckmjpG5nfTvJJYMVzCU0zIiVD3yd1h8ZG6gisDmsbEUQRWFswQQRSKkEIjbCCKoD0iOiLCLAtz0R64sy0o7Gm8DOudfueJkf1I/uT/WlrlC6cy1hedjzI86LHsXL2PMjzI8yJ/LR29mEYloWHc8LPGzxsuu5LWdbZkHf5AgpFCMCR40TvsfhMSeBj+BgjcQQQRSCCCCCEQRRFEKIRCII2BCiBhjFEMTMpdD5QdRcRHwJO8x46fkHwMcZFMlMIyJRHDzvI308fjWdzPxU7ClwjMd7kHFRraYbpMxrNJ4aazwE8VP8AKZGZhVTpiWvc9oL2DxM8DPMzV/2XtKmEgiMS9CekJuT7HV7HX7Fx9qV2mnC56osiblLauZBy0qzLYvIsCVOZKriY7jHajdxwC3kbM/Kc+DeRmdYEgVIIIRCqjYEEEEEVIpghELSiBaRaLYhoLPsZ2DsWRaFoWNQ1Uy0v9FzuLncR/Uh+ovZE37kjkeOa2BKEwA9EXfY8iPAjwoj1HjBH5iPyHnRH4zzobR51Yz5ssj357ceofdCWfc87LYP2jyM9pSp03cHrD0RNyJjXX2L7sYNLsqNaUxAe6pVsWXcnUYa1jbnjJ4xmZ9RPdRu1sxwEbMUjZwpBFYMNiCCNmEQRSKIEEEEEUQIIqRRDIZBDIIaTTHmkWHYsC0PTUiXNSzHpKfxs0U+55mezH+7Tlvf2JxZx9QaTGH/yQn4MuXseBHiRP4aJDs17/tT3574007mr/ovu5cHtEYlA5VX4/mR/IX4RqhY7DyI8COt2Ov2Lxd/wewFTblmWJFyloW5almWRbFkWxeRaHJNDy2Iiiph8A97jVfEwYOe5jbnZjZjYggikEVgikEVIIRBFSKkKkSNMaek6KY6FstkdC0iyLRbFmitFkLRRaRYQxJAQJj1TNiUWvYTtexcIRhuEuKnfJk/DTwUb6D4WNuNlkYqEqJSRu00n53DcRSNif5ScYqS5FsT85FJ4SN/PwL+CnZeYQlRUgsCdSIak3RK1ohSdzD+Jn5iL72N1l8C0VREVsi1prIqTRC3Shr3ENe4h+h7gXvGHmJUglsCMy19HHoPKDyg6fY8iJ/IT+An8pOs9Zk4jONOgftC17iXr+zxs87PMyHm7l3VCnTaVj6Mj+Z609IWuw63YuPseJF92E+rKxLEt6xFqeyPaFv3PbFsXF3LAh/OnVxFnsxv4HtwQQRRBBCpFEUQqIIIogiiCKkEEbDBBAchH6EEdCwiyLYWiHpix7GNSL1RaluWFbbjueds6/c8TI/oeJngdJSBdeVPEjxIjT7HgRGj2PMifyk6iy2j7M9wWHc8TPKy+PI6NIYn6k9eepPAjxIuPtsN9aAti3oVuWpa9y1J+QsCVqu5K1R90ncTupJpO1NFuHKqtieFw2Y3scD9bD2YphSQTDHagjagggisUgikEEEEEKiCCKIIogiiBAggQ0I6DTQsENEW0WZaFqWpZFnR2FBYLRaLB1u5DXuF7hH9CH6HkZ4GS/cl+5P8AUb/rsBkXJfU68L+j8KIGAuy6LsjVIJgj1Eegg/ODwggWRZUCRGLcYcEmTvcKLfTWCOFbMkcxnuMeHjfxusNuCCCCCCKQQQQRSKxSNiCCCEQKoC0iXkJVzYm18Hi9mN7j8YyQhE/w07uN1mQqLhoI2o4ZfCsn+V5KI2MNudnAkXBRSdvGk7K3c7ufhMP4YVLcsu49PQ+F1e8TLouSVCdWi6hEIlEPQHrDrdjrHX7HX7F//DzLYV9iWZalmWdKsSyLYuIhqiBK125JrDpJNVSSflXvJ+MybaCNkIojZEEEVGiCKIHsDHQjoiOhDQhoi0hv5BaIty0LLZGyslmj1e55GdbuQ1ZHXuI69x4GSX/U94exp1yXo9YeFHhR4wR6SNPsYP8AgT+I8qJOdXaSaZWD7494e6LPuWnc8bPOy470xUoZCi+FEfxIfiWew8yL77HV7GqLCjs9hIizHpC0LQsCVqSSIjZW1NZ+SqgNGzhueXFQRtRSKQQQRWKRsQRSCCKQRSCCKoIIIIqQQQRUggaqQ6Y6IhoiOiLUsz0BalqWhZlmWix/p1e5c7jzs87PGz2dfC+LguOxHrPKDzInX2l3sLo0hgBadQV7Ase542P2jys8LLouaRIpaqKIQCJRoRYZ1ux1uw7x5keZHVMU6vY651zqdjr9jrnV7HWOr2Or2LbHpMjozqlplhlsLawTHwE9iVwME8LzF8LG/jdRsRswQRSCCKRRFEEEEEUQQIoggipBFSKI2BBG0C2wEbiBGkeogYNKW8JtSPDLhF8A93j/AC2Qy0gwIEN1O8n/APBFwRl2v//EACgQAAMAAgEEAwABBQEBAAAAAAABERAhMSBBUWFxgZGhMMHR4fGx8P/aAAgBAQABPxDonA0/OXiE6dDRnIaZGbEnBtibwNlkIExhc4pRZXS3vCJRCJZbxLmdN1meRDEiExcSYa6GjguuqEJlY0aXQi9EeILjKzLhc4pS9XYXS+2Fh0rJhnJN0bw0sdiTo4H2Fi8FxS4TRSDVoSoyEwnQ0NdsbwxERx0zoeGxbbxMR5eYQgnyV5ZwVipvCb8YMWlfkqKUQoLDxvK4NYeUMROm4bGLomLnnKzwsJ4WILO/6LwsU5NdHdYhMaFjjHbpTpNveEibQ9I1ij6JhYbqwxX0xc01ClNIfghWbCjBcYSYg8MiEaIvGNDSILC3h3LQ0dxnJ09yE74hukwkQbXQmEaIRQhN4RibTglouProuF0LCOEPoSeUTp2NdU/oU2PEF0srwpsqEdsUuWLO8Mpccj56eczFRP6CHi0SIRYmI0hzPk1CDzxjvzYusPko2PbITCELpdeIIfMxBiXIjg56Id1hG2jZMvkRVkw8MaGwtiTYYg1oaIuI86L0LEi6HsmIJlwiC6W80Q8JHceGLCw/kXyJsfWxc9KGQ7YnS0ToaRIIZsjxvolgl0QaJhLyIXJ9lPONCx3xPQiCVxCPxlvj6G0sJYfHQi8D3hYWJ0M7Fw3C3eOTePgNieUxzljKhYuZNleKIlwa4pqJNHJ4bgRrF6EulZvro75eULDJ0TCGJdCGsbLlI4uEd8PEo0LD6Hvo7CLlsXPRzo2cjQ3ieulFfS5BLDeFicHkrFcTCWFhYQjgQ2ouILCswx7OOqHfOlvLO2NkFINGqNChMRYhCsCo20UZ6KNEJSRbeEXY3wdsawzmMLEzOhPo7kWOxS5fQuhYQ1nvh3p2dx9DhOmHjLaIazOiZa3hvC1hiZSY7iG0LZMIZVmD11xm8UW1mCOU8xiwjfgb9DPBEEdjgeXmEHlJ4dKyCRMo0MuDr6VwNaxoaINMgiZ0og0IZsSY7XrQmyiKSfRBlZqD6IISnSzfRHlzGvOFmYYsQSJlYqSxBZWXwXWWaRMIeXi9Dw2JlQniiZEsoov6Fz5xuZsNvjCINibyhlE0zyV6JocccU5w3hiGIuGK9Nynh6LgkCJhM1jc6UhomERoaLkehLEMqKlhlE0x/BsvwLrfQucJkzo0M4wsJmplaxUI3lHYQspjELCnTcLK4ws01liJmYZHuJg9Bex8ybrPotsgqwmuMuC30Up94uhvbEdyZ54I/HQ0SYQ+BSjE/eIzUm6NDNm8ds1cGkUq6uwhcjOR9xPthSlQu/Vt9VF0MTVitDLhXUNP6OJNHc/oaGPqbyucd8IQsJDO6Fj6HFhDFxim++HiFJnQ8NmhMpCTOiledD6EQaxtiFqEGJrwqHKU0EeGIdJosRSYJX3EZJI8jkUFGJlWEzlk2PQupc5gyEFmI0cRYRuYu+BspoZBb8iWaBMm8Fu+BA17FsQQpSryJCIaEPup5Buip3G8JlxUkXYsckmENbGhLY1IKOB8C5aTCO/Quq0vRBaHhDL0o0PoZudLxyTHZkO2II6cLG4c4eWP+ldD5L2zwNAmOSq4bIKbdFtySoa4IR4GhMPIJdRHbtinuH5BG0M0PQaBxySxb4pBdCwyISH0MTKXRtEf+gtVOWEQQmEtj5NkxJB1cmJTG5Y9zQkbrIXeR9sLfSZUe0R7E+xyWhKUaC9kNE5RI12IJJSxaCUqExUcoiIJYdaRCsbCtG2mIJk0b1gmpOrXU+crFigsTZx1VFLOldKwx9VzzyTeH0rC60OZ4RNl7ISHog1beBtTg3Vj1foTOULmHcaGvV22khYifIqNEGVsmIPTga8Q9QkNGjYT5QpreHlD6HjvmYoUZC56DGhc4po0NEGMx4GzlCTwM7YXYDqPsMJ5ywH7R8Y78Ug1Q06Wo4ZPeEmpidkyN0bdDWiX22LxlJcMboSU2mMCGQxIJJYxKhWNY0sLQmUQ9DE943hYuYxvQuh36F0SkO/Tyi4nQxZceNDF0PLJ/QeayjGXV6DhHzN8MaXAmi4TQ5DcOE6agkd3hmiatykxSmsNMpGhYV6YQeJidxmhPQtBNISxcN6w4hDWe4+jRoqEPEwhA0sRHhD0I8SHpGdCROR2uRvdMeEH6hr7GTaNR7b5HT2wvZRKOWRVuRldk9my+giXiIPuRCI8iQXmJEkeTYSjRC4kkCUgkqiL4PkqKVFRS4pS5bKhCHh9Nw2J5fAsLMzBdVytZqSOUTLFOHsiytGyYXkGG0QXhZcE5M5xJfKEo0EHjbT5EhRo0JlNRmoQeU4G0LFNXF0bnR2JjwNqocuCEeBaGMehMY+MfXQhl6aJMRPZB7xMolNEEQaIQYWiN1iJ4IoG1wekq+57GegfmHyshuDtYhGd2maGng9BBENeydgTKsi6DKfY4dDdC9XTcVOTVyJi5JJEoleEwSkiTzggngmJlKilFmExRvFETKeHiieKsLquPoQmMJ+KOSekizgvJkdzY77DfkbNVmnDDgx2IiRFBPTYkL1pjdHs1SSPJ7sGpRl9KRwQ9hLZFl4Yh9DaougH0FnWSQtYeFxiY10rqpMawkIghDNiHhoSpBF0NjSJ7xCE6JT2PUSPxEsdFolwhB4mP3Y2nI0PnFDo9Q3B3yfFmLyLOkx8jbQu0JD3BE/IU3dFXkfjGnsLuI+QqcC9SYceRaojyJfKJvIlvIkI853BekE0JoqxetsvR94+yYbG5NcC4Q0zlpG1xB+eXBromfiIRq2Nn0K35NYQ1SboyJiXweEN4bNYHLTGrh4kHtiIWGhMokzeGJ3M75hEIRJtO5UEIWKPK6aMgkcYSvLyljeFiTCtnSkN4o0LCwy6Z/BJFuAa30PKdzOieRxC4cNsTqWUsLCY/Ea0XdQ/CG3AnhHzE9my/J7D2ntJLlDvwRfAdwj8hNyGGfB7GRAvmUOnAvmJ97wrwG/g+AnEEzue4SPuQJfIlIIKUuCKUbL4KNlUGbjb5Fs1bENNrDSF7IH7KikpD+ZzZ2GIvRGcng1iU0NM7MTn0i6OMPFSxereP5AmhCFhrpZsaiXyQ+5dYSNKUTExilKR0UomXQhwTWUPnpgy6KfnwhsQaOWLiCdLB9LUXQ3yRry2JEvCFinJJjRSnNMa+5qKdjkbSQhqkO5ETDxMGqxIig1IKdj0iF4Fik+Y2ume8VeUI9kes3bGwfBHgOIbtL9yrwxLe0eo9hprY18iSfIsKDgUQvRiLGgQeISa2T5E1BNCxZJE6iC+xstXROltPE9dDYhiROpLoeL5HBYSExDpseN4r8HpJd2fPgO2g1bgXpNJoU8C/ML98ntcS27EruJfJAk8jFUwQqKky4+y7G6dyj0Tb+iWpm6j29fpVF7MUnZr2eYhvsT8K8mop32bliawlHYIdPCY6HMMeMKdcJEQXnFEMo2JXZoTQ6pNT46olq0J6RRHg1TmafGIsLHfp7jYunggxERCEeIeyGtkO7Ec+g+zUejZ8h86aHDcG3cNIEG3cdCjiiBoE2E+RIkEhLFGbeDxiBXlkOA4cjUinbCVyxYguQk3sk7YxQcSMHWBqzthy0N5T3isWVi9EO2nYdi5eIiLoRrusREJiLwNENe4xPg9Q3dj14fYzThht4Y4IOwZyJsKuwkPgcCQaeUJfKIOyYIGrzp+BQKSSqYgNw31SD1xoxbt8C5vVfycT8KDi5odmvwJ9xoIMuqgohRI7Ns4sV0KQjxBSUsuUd0HBSzuq2PTvkxXNJGuXtJnKdhtD2NskmxhWoalwZRDQVGvc7dpR2r0SvQ0sSlQ6ru0EqTsTHYRelaVitrHB3F0KYossqbxBonRqDRIuBq4Qxr2Q5cDfbA9NMi6WljfA28DTwyJMU7D5BOeRr1yJHKFuRgnyJSbtiVnJpDfgiZVE5H7k90siKjXlMbexPZ7Fj7FpjEIhvGycLH1i5VjihCFhohR4vQ7dCzCEqxBJLogoukQiH4izsH4w/GNDRKIcB9loVep5NYNbEqy0vTLL2RsUiUiFrYyiDdg1SEkR8Is3dBktOyiJvikxmeuRMe28oGpBRyp7ehVaZ9hjUmKPwbFPQzZpNRTTzJCUfDSHYtKiNwqoLoop2hI2PgRO201kjdMgZzNwYpk6oaFsblGlzS8ipa0Ut5CeCiD6NiY+DkZ4JNHK2qm0VMaIVF0KOcSdxygkpNDaSGHobOERNCrobeGNjKWCgtCGqQeWhIQ+A3YjOfI+W8uu6IcmIIReRqB8y+WFLKEncXmeCCPOMRnESiViZ3KqNEy6QyuFxT7E2bTysf+o8RRYvI2NobKIGrKsIgyjouidaNkWZmE6IiKDUGSTLU+UwhfNog/QSj8A/AN3Ii6lwJRiVjbaEyXMHfmewdYNSEfYjWsyokieyHEOiaHBFOiEU7C0/OelJjGqaZpWug1qx79e/0iKKmwriE5IvJrkNhNpyO46+BKG55bF9BzKhsbWUy7wkWDKl1BBvc1RK1jTu5HNJbt8HaxO2Jm9jQdL5KguHCE/gJB3HLEFbZj2+EI4crSPNyZngL2I8QuBvDz3IGxK6KGK5Ge3NokLs4IbPGVQkRDN0R2x2Jog0LgglPIh+MdzcPvTY37McRwkEnTFTgRd0NSejYq8BJqrDVEaWpBW2sUY5qNmtiUSNKUgYqbRTwJ6O4MUU8mjkYWaYfYRe5rC03puPuh82KsOizMIeWhE2sQSOMLLhropTdGxhrEGecVISXROMLoWIQiFUEfOBEFwkLS65bYlfYo+Bv5HrG5bQ9ZSiDixQhVYtIaUKiScSKCR4ER4hIdn5Ks0e6cVR6hW4GUpOtk47m3BWhttuiZ7vY96EaENFbaQtikkF3fYZwiCHRV1EhstG2cGnyYMMiDrFlInLudNuIV8sYi7wPepJvZ4RSjEOY7llHOm0w1UOeLUFeFRoMWoFpJD+IrwNoqWxrzYLmPQmkilKJ4Qsw46UQg6eRoQklj7iNHBQikeT5GjE/CS5HwNOwko6tVi8oqjTtoT8NaEEr3SRGwUhXBDnbJCS8Vid6dhedIrdxlgUm6RJw2PaK1SwQxYqxKIeO/XFijcwh5eKTEvreHM3hLC4eHhLqmx8C2jEr+2ixczFoQkwi5mO2ZlCNMSSSURqGuBpYQNBr4FTgbWtHeaJVSskISN6N9W78jSask/Eh57keTtEcrzVfyxiYtpivsVjkOaasSJtn9DhdbTRLjSSEjwI2iElOFoXuJHkgSubL3KIf90OExMKMLjQp8MV+OiXujPFYYIDsthPLbjY5chZdqtlRR/R7Qpo9Bv83OEFpDtpdCGI7jQkOdK4ytDQhCGjslhLD9CPBHCRu2h+MbKJDQGksNPDxSO7G3G0uzX1EfIYkTGujRBEb0hQ2GlrYTd0dxoSoka0xI+4kQwl5zUSECcLkpSiwhDzN4c5rYTGTY6xStCSNYuXMUuL0MZ+Tab+ENFGzWhqfcf9HbwreqvDy+RIhCDVFeUxvDQxkk2z7tsaXjEEIhpEQkHawfgH4iO8U9mN5oIThonqJMqL8DSNMT7ENU6IRqhLhcipDnyqDeTTTCmK20RVD0aKD9C+Wl4VtvRPR67RtoybLUtvcJM9xYRuj7DKdhy5UNbw94qg2TR2Owjw3iPDg1BYeGEo15FVyJBCy8bFhmyIaUaIwO20i3YOob0TOWP3Cv4CL7BJRw+MGPLCXLCrSTRPs8DPKNAlhLEoikIomJoUOwnilExIMpbi5Rcb+yUO5deSddxYMWGJjeKJnfKFlvpTZ3EAis0Va6+sUuGsRMixMa6ZhojZMT5YMJUG9WxokYm0TInA8OcmNXn5CQYOVbfMjnPJUdNEje2hb2aXCKhhYdylOcQgVZDuMTJiiYyLDztbuHi6zLiluWJcEVRdIiFMwQ8PgeNshG4axyJGiJCWJhIQ1kaRDGvhD8KPWj1kHqxF6w29bpr2WF742SdTK9mLA9hPFJnJJBPkS+SBNEeSqciDzS4qxRMpcIbQhs1l8YXcYp0TfTd9HAsQ0sN4roxEXRMPLIQgliIhMEtjTiDeuB4UGBp2EbUHLpzwR7jSLiidqoaOwwlNETciGVIqNCdzSimEzRccIuGbZHhYqExY75vGgupdVEURTY03rCO2O2F0IawkQ0KHcgkRiRpil8E+BtmkPtD1DbzTymNuzD7RSUPeiIHHCQpbG4Ju6eEJnsEjmyCPJHknCRCComjUo3xhwypoWUyiNFL1MfAi4nRWsPCnQui9CRx1w3hD4Gk0QgbOxfsMmrK7PEj3RE7F8GNkXBKOu4h2ihi5iDZUU0Ir85bGTSeFaTCLcaOUdtc51hZThA12fL+kl0URRkJ0IZKa6Eh9KOxEbpDsaIREWIhIaRPg8iR6R+ETVwNxHk+Qtd4+2EpBd9BJfY1dg/AQcCoqxx4YuyPBAla5IEjkSvuNGMoaLBBILBIXRUW9youGhvDKXLEumjxMUvWscf0dIu8aIQaCXwegcmoO1ENp1mk2S7k7sgcdhq7M2WMtUWo184InIo7jUSvuSt0SCSFNFRBoeE5SBoNRp5E4gRxeUfec+XoWi5ZJhFE6QWGV4ZEJUWsX+hRDtjNLYzc30tUgsMUNavhKhdK6YckNYipEOPZtHWiE+Cj4PWjfwR4H4iGmJfLG3liZ3iS+TH5Mc46E0cihd6Eu4iG3kJrtM5SEDRIUOReYjyQT5QwrRImQsIwTWFKVFLlFWVjv8A0NvL6JhrohNYhCQaEDScETgfiGyIdbBoIXDY1MeNm8j2FD2hI7He0O2toQNaLt3sbkVQvUTeXR7GJHYSkJhwh7iezORAk8iQq8lQmUbEaHp/0mJYmHjjDGrKG+CM0kaTkWcuXE8icrvYehVdCbDRCxttRdySzVH5o9FtwgnwKItGIqwkJ2kzt0waEIMZ3VHjg2xNgpqM/FG0nBZ3iCRoRo0TeIhomGkTwGt4J8Da+B+I9eOLqi3e2N/IUtMYpDXihxwiXJhyhsuzLISwSt8keUQJMEeSlwpThCaNCw+jcN41l8f1Gt4SITRBpdDtITERESTdjRolkpMhNixNiiKbzZnQ3+TzTG7mS7jZxH6BLwD8IXecS5cpLh0XmmJH6Hd3gew92JN0kmkkCwJiFE8VDKscBarOWPQ7Fz+J/BF2jRiFRtp7QZMbGzdah9lKqo36CVTpGxm7etkPu0PSOmD8XPYKXfyKSJw0ax0HkciGhU1HB/d+A1mjaGbp4VIjga8mJWI3hIiEL9rZkg2lCTSXHGNLsStyiTDzcXopULYl0TohMwlEkNCBWHQZcTvweBPAKtjZpDvy0N1wFDkkuTyCR2E/dhqudGomnsIEhJEKXeFKnjvjWVi4nQ8d+homJjsTOhdyieVk+UaUxJiRxidLJhpi4xCDWETJJnGPqQ3dkekNpEgk7Nl9mHgiXdEXshJ5Hvke8rwxItO/g/SNjCZ3Ek5IaL3jeiQfDQ3Q73NfJQvZPwxjWqWBfb2pBvoen6pkJF4DVLZHgJKj7hD7fbbeyWeIyM+BDN3pUPHkhpHsIU1te2JHZrZG2fDHODWoWdXyh6PK6KpjG3mBlNspbiK7ooyaV2hxSe4bfIs6q4aYspBoJ9KQRM0uHhlWUcuSELR6ZBpM3MJiILtOtEjmW9ig1hohBEW7HoGPoyEjhxim9QbV7PKhNHzihkCU3JQ7mKirouHwXHcY+pLD7YXGYQrQxJFrdzvQGqvU0MZCF62JDzB4mswZvwQaIQkhoyPAkY3dkcejboKA18nuEw68oalwiutSdtcilSgmu75Evtwxa8UkJbk+9+EqQSMXZp9hiDG8CTLBw4Pga1Eg3bG2G5tJKapaSaT+BEk8EFG9Cz3PyaFn64SKXPzzQkHzs+yDNNZH2U+tKzTvyBOzJIMQ2K7wTJLDaGRKk5GoxzbToTFHie9wcZarYnCiYt3AOdMUcHfLQkRVwT5BEFJW45g5XllDSael0NbbwiCWEpiYnSkNZQRi9BcaaSPkOmhRUyKpCqFoqZXjHdyTVvBUiKQNBi5ZsWG8wnvEEhoIqTRcGqwiiETo4KMU35IscY8lxDUwmXM/o0WND1jWNYWIMaokhphHgbuw/EOFHkhXfwDEpRNrQ/ZiZcCZSK8XUVWtvyxpWmdukcNiq4yrczvd/gm8MaC8hE5HJ7JU+9ZCSS4S1iriEtGRInxpiWLGZVa9DxsnVFpE13MMc3gMvhPnwM5o0Ne7S5gygpbW4n4TEu40iwLTEiQaklxTFrUD6abevEeWfGlJ/DIOW6j2KXMeWGcaHfW7mXhcYoi7OwhoWsXD30vCQ0IPEpET0NbwNnYfjGg3i2yY8ZF5L3JlaTolW2SJfJIkhIlHTRcFhFLooyyyLxWDF5wYt3TN+ETo/fjHcgh9HcWXl9dz2KsJ9HbqTGUqNs0XRcRDmYQgiIJ8HqH4BHm9D2NuOBDhsdNbF9h3GVB2GkRbuj9BXyfEGZ14PVuG14FasZ7+hWckkKXfZ8iQ7q1vgQQckEqaOMkSQmgqIV+thskZlGhThJoJr40SCGOiFp5GzsNVkGj7JDY7TGoPGekrgxjPttigIlhcUuK+leB5Rs4w5ix9NzTZR5mITEeD1Df2KWofjQ08spao8LxwfBwKjZWxae2FshBBEvIQhEYpCIJ2TxE/DeKUNIi6XONwWKUpcrg3hYVJlsuHxhMSNDXJeMbzems3mmi4RRCjZRDxeOlADejQkrSSISwzsPDWiIiHNg+yFbZzBqSb+B+UbQro+xN64H1bNK4bH4MWkkmNYSV3aYqm8Jo+I7GEokTBvDC7Dwk7stxoNG6zL7hsuwa/T2MVz7fAkpvgUdwK36SUVGruhxN9haTrVj8wlxLfNcG1hF2Nl6OWaJmdEy+pi67oghIlEjg7jEsbux6hZ8DRpGg38jWnsdpRJbEzEMZvHbC8ylcpi5TfwFO0XZQSNHuIJwgjCiZUaUQuKNiaG8LWNiJM0uGW5haEmlHAlJa8UQia7ogqMzQ48VCdLMIJscFehuWb6gKqLRTt0zouXhZZUXMNDVTjagqr+X5fTCJGiIJt7GxL4UJfCSGK+WyKjylvBB6EeoL9oxUsk1xGzsN3xuaDIHENHwxa4fDk+RoVXseli8wQnyNYJfKEpGJKy3cSFQ8rhiY8X+gsTQ+jvhYuFhqmulsQglPhHEWs84izT4YRcHoH4x6AzeNFifIbvvQkFr2F44o8oS8UcFoNb055yvuCXwxrxcqomKkeSSBoUpUNiehuCOgm4NGqPZVD0rsKNjFnceBnvDhxBqnYgtPXNMq0Wxjpz2HoSNjg5b2hk54RGly2p66VOOAv6KibSXQpKj8om5wli9FFjRUjY+hDY2UQ9e+Ano56kJ579NO4CehvQpqmmloumMa+A0sw8QhBpkaG7sN4feQ/CayOE2T4Y8IfnoofA08OegongknyfMSUklkiQgbwuzt085bF1JdbEQaEQXApl4u2OsjJomGs+CLCWZhYgyDwa+CfB6kU7YfWJGuWKO4fZxjvyoOV2GCXy5e2Oc0p0NPu8AibFzeC60zT6mJ3nkh+I9iLeSSHYK63QvYiX8S0OQR/gUgZXXAi4tSNwBe+HPf5CH2ku8iJJfBpYuGKtG00mXTCukGnwNlrHDDWdkw4Lom91SSNyco2JjKlXYbgtK5aJs1DHOYOQOITYMbcFaaFtbEjVXAtbS/RrmYo1Q2imjsXWOwhzbE3erKIi+SS4ZJtIJCiILSTVSxDF6OCjinKFsZuCiERYSING7J8HqQ29g3PjA5aeYkxtH6C11CUuGeoZSeRMmxkkYlIvImUqFHh5p364TZ8Y0bXcZChR52PDeI++GUVyi9EiIM0NdSJiI7DWzviKkIRFfQQun4FCXBwx3sUi7BKsgaq6Xxog9q+RhqcIyLGUPcHDdJixcp8l8t2HH9gRJDoZ7p3FkG+CaH5Ee4dOTt1CUgXpHyc7YJ4Mr4HSUrZDuQNouLhqdoSL9yNJfnEP4gO9jSRozF9qZnkrOT4ZJXqm6ykxuNtYVFYlIUNes0FWg2wmd6DdVokEs04bGcRttJDYRprkaCbx5y2ORp2kcV2sJs4g2mdjIIpvc2PrCMdw1Q3wUox3dE0hS4230KeTVGEIWO/T3L09yZhCSfCH3EVXGGC+wmJiKQ5QkcpiZMknyRCYhlKSQUuKU0ejRMCZUyoYY4DSUdRJDfwXxw2+lu4mLpFnQ+gxdGyGzsR5nQ3juVYeFiiSIhpoS7EIEngfiPMkV7D8Y/EJdj2MSrhsTLvGL2j8g08E00J+JNcyvDI8MSHW4MUeEtDP80glRG38FWXukmnuoWvJMKBBSR6dBdHhIhZZJM0JYSSQ4FUtmuJok01MboxLyRtDJGvGEzpvS9C8dWqbGQSesaUWWSTbekQs7NI/I6G3ZDb7JORaDbaaGznLLFdba2MXSbpVLBTTt9vCNB6SQ9D+NDcp6GCZ8ApazvCLlsbSLhlWXhFwpejuQgyZT4QxuDa+D3HzOwMhHiMaw19wvNYkEhAlIFuVJD8yE77EcTNUSd2yD0ERa6OcTDeI8LKw3hCW8rC/osTHmwpMrF6H1vpnQ4NEIiIaj5CDLSDaJcIjftbKLll7VVgvz9DQa8TTHTU4JWcGn9oviKvAdTFVyOxI24lrliNyuZBXKRcjk0Xtim9N94PIuBwtQvMifJBJImitMd9er4IJsKOd5OL9YkyjlYlM28R3awV53aYnKsT5EKnek+yG0ElOHlcjHDuaQMwm3wbFh6sHs+XpIZt9ptImj4qb5LioyjW/wBDsOK7DJPY0OBoq80m9j2m68hPNJN4vAyQqRRYYtKx2Diqf+GWyDlLRMYfJKaWHiPLJhomxumj0IrwS3tk9myLqYaExoZTcIk2EjsJJIXRMTDQTFEO/I2G8KU5YsLaJo1mUn9G9C67m6EPTKUbLrFFjWLrCxemmrmXoXREQg0TMEeMN3CLqRgN3YJAbVB+Ih2mNr5JJRxmkp6jMoiVKD8Y+Ok7od8qb+CUnwSFqm06c4teBFqxV8D+IHpP0K8ImM0yYnwfDthwg0iQlwkl2RtvFF8m4rXFmRxcDBO4Dpr0Dck9tmjHWoS5prWGhvmRVlUNUqvs/PoaIVFZzkKW8ENBj5gllLUatHzt0hSY1q2y0LqA8uF6l4G4O1bfAmRzLg1mHCnfFLmZm3VHbxDQ9vtCyCO2di4GuiHdDVaGjar0Rb0/Sb3+WPzjRtz/AOiFqQJk3senaJJfDEiNBKSJBCmhAxcIXA8J4sKaw2hYT3h4R36O2KIo+crHBemrpmUUeEN9HbFaLh9CHhoWGN06lo50dSD0QI+Sh8CEIiGNPAvAM8hKSShDvUmn5G02NRP2JDUkhQVahwTQTdG+4V9d1Tk2ziKNVZwcJHzmMq7FRJ9xxhpHOMmoN5k6OazekFUptj9aNEIHAimiik7wmxq4guMPaq1wh8lB6RNbaREu3wOIOoYzvai2GUvEQa9nZCEPnQkMtctExVUosxjENqwTWE8Paz8mcLxaecwnuScL4djgLQjWacYbZWQaR2GsIGhAlo18IceBeVIW0Pwv9H2aR/sF4ujgjmjRVC6cwND4RUW0/Rjky5cvxErs8EuWV7ntF5T3EI9g/MNfJJuUoww3il0IXKZomaUdzcJlFyURS4fTSzFNYWecJdVmEhnIpcJmyYjxOjuTFQiiIiDVY08IfhQ29h2SNjETkIqOjaqYhLokQpcjwe4Q0Olz7Zt24nywn8P8EtlGqemmhp9OEhK7kUd3Bq1uOwpOwQNEMfe0LSfdGOpN44TPTyZv9WYokvgqQ3oka22hlS7EPGeFRfNpkhk10CbKiV9xdhl0npGi5xOAlK+7KUxtC3lFHhlKETrh2I4LFwqxuYkNDg8RiGqJKPxDb2RTsxPQP3j8jNOCbXzRs0X20E9yx8TGj28UXfZCU1VUXmiEe/AXmPYR5PcLzCQnyReRBtCY3RTDkY2J3N6KhMb6qUbEbGxC6lmi6m8U0URRPFEMTwsUuWumIUrN8bGpbjEYREED8CG3sekbBVKbBFqbNUkMXEirFjbd8ggmmwzKVKyX0a+WbnkadtlpRcb2bmQhD6JlUttshou1KW4qFo0j2QEjaTdOKXEUaRphUrbSKJfCJG7ci5uzYZEwhEGsNzBlAnyR7Ep0NdKJ0I2jnoeFvDawv6DW8PDRCEMiGlqobOw/CPXPEGT7DY28keBz/wCiPTGvgEl5eARVbC7oce53Cf4KB3SFtUjTpDZTuJMEr74VUTWLilLjZSibLvFYmx4bFm4uHhMuGzt0d8In9F4XS2h546R5rlY8vDLjTFBZkNYO5CLlsVVa1DjEkhRjXCGONJtEJSUE6uxptCKo2hspwWr10GrRvePJ7ZUWhKWUpadYw76dGU9Fudz2XQhUmIosF7jVLk2TibGbwIw3KUUbbY+Z4kXgXHYRRYSHBD6ILEjHOhcdWnjdOXljxM3F2I2URcbJBI+iEIREIQaIfY9Q/COXQbHwhYQ3d2JlwwlndwFDYgypwsX3Rd8k15DXVWJqVRs7FPeLyiKCfJIlII8iNRcWFENrCxRvr7HbP3/SWGhlPKoKaGnxPLGNiw2XfVcPDGiTZG5dgkZaWEI0+4jwJCwlhJ6ENq4D/EpIUBk2m6+5yUy7GkaO1Bo4YeRHMMo5Yl9hIJCRxhkZvx0ti2jQnmrNLBCH66L0W9HYvSxQeiwo4EvSeaxqoc2ptP2N3uTbwsdivJlysUpDxcU6FiYaIREPQQNH2Ldh6Sz4QxfgJsU2NspcOMdx7okiC0g0NSHJrUOFQSjMq23KVrHxeBAvKS0ewaCrtnuIEJXcaC9sKX2JrF6b01GyEREiEN5aJ1oZCDHUtpoK7Fu7wJDYsQ7LC5GQZBDEo13ILZ8kEZLERCG2CpKCj6b2Li4SjM4QVFRUUtxZnsIWLhi6bnRSvFZMNlGSCSa27EVUul6U+xuFKoT1CTSQwncNCFL0E5xPtRPpgySbHZLfJ8itLfiRDLmYom+tHcuINEbb4FtTq6dYSNIcCE+EPxDd2PUM3oPTi9jGnkV5C8o8Jeo17EHssK88XnC80xoKG2LyC7osIo8nFsVdxoReS4poZRsZ2ZRvNwyikEJEEku0y3DRS5maURtQ2TV+RFz4C6WMgt4InLPRhu7ke/8Ag1vQSFxInYaWpDfYjPJJs257hDkonDNHIqci7qHjQ9yF5hMEUnuKmKYonRl9lL4L0d1hDDfbY6pcTfwFXktqCt6KDyPpv1UN4tovodVR3bUZQmyIa0e0jHTfBFZ+7oNssimeutlItNpE3piRJJIbOUYmmlGXfTRCd6KstUXeWDRtaYwXbQliYhOrvnU6GjRFiIaElcIQNBl6T1D0axwOu4fZchDI9ohviJHfKIPaYhs5KdzgVIEj7iQjyewhlRUPFSRV0pZSNYuFnnoVNL5ESQjXQh85qHo1jZCeiEw6QnKIiIa+D1o9cc+I+wmj0P8ATxv9FokhvY9r8ESHFCXchDUEkNbe412ufP8AggXmLob7ntEx8kiAbegaw97I7F0TJ02hWhgaPCL/ALW90Q1trhDUUjGh9FKGhwdCkiQfkLhcpyB4mfyYktxcnbFxcNsK0ir8DY+KNJJ1YW222fglOttX1RnDH6JVRCbiY7NiTGh1VNvSIXjG2IKyTcHicNJoYkt3VYksP46NDRJNuVTmic5JTxOrjLKujfSxdLJ0PFHr+hHwQ1iERFhHgjmE+CvKDd2GBp2bJWNnjZDhngEO8XccVNpiQkZp1jErEE4wJlE8UUz2z2zpTyRAmXNGyqE4T4IQWL0JYoiDxCdEIJEJwTY0iIjwhQfgDPYaIx6g+0JPMc3ctiI/5RimttcUafJD4KeRKd/IXYyfFIxDdB1ZyaaY0lOwdWW5a0bucE6T69w1ISQvKew9w1I8iSksW10kzPPRnwUYhAmmNoWLXydooRB9k+BZW+EhG/1JuDLmF6gSVeRUEtNLwhzmEkIHwDLuz0PRSob8hbVW9fSTKhuUaiV2X6QuUFeOWO21t2sehWm+TEhkO53O+V0ogxdFFzloXRs5zP6PfWLmDWITY1hBHgfjGxcDd2FYnUYe3IYdw1dyL2JrkLuuhP4Y550LRtYCZ3J8kk3kjyWopohpvucRMSIaPCx9sRn4PKLzdKZehDJo4KdsJlGImGLEzBN9Kxoqw6Fqh305IJI0SkeCPA17o9B6B2oH4Bt7YVwKfNjezo5o54EI9ovu1W/kI3wCPLDnxFrE79hO3aekGJVmiaHp/sF0jv8ATlOzReRdZLV07CWmjyqoKYjbHOwkXZCco9NJkG2yaUHkkuR5H+nXOByWed6xTsPQe47vFXRRnbCwsLpQxCHhLpmVrD61/QgsbEhaYzZCEwlyQSQ0sGvgvzhvAgii6YcdOI0PA9ghKE/diyUZqQZa1ELvMJRLSQSJm4XRSzobRXeidDzIay+lDEPouVg3C9Wi55ykQmx6hVKbFBkYQ+UjvwNbaM8ao9eBWqY37Mco7HuyRrgMQpJiXYQaSj0+NutFlNBERm2jYxQ8QkWuWJljE9F8qtJ+h43pwEKPdCJ5GewSNckiSFRcJ4sxS4We/WlvrT0U7ZeWhHYXW1m4m+iMQ+qJIiITBquULMQqjgv6OvGGbfRbii6bjeKPGnmlxOm5pc0bKNoqhUX0UZS4Nm2GIeFiI6MkU+6CXToeN9SSIREGj7EQfgIW2tIYmzy9ClEQfhD8DG9R6Bi1fY+Gf9DHwGEnvEBL5X8HPDG/FMXcQ08UTXP9Evkm6JXymsNL2J/YVDPcflFLnAl8ncpJBEFCopdlzem6Exf0J46OCZfR3WO4rnb6qs4iNiNDWXn0D0j2IXkFxUnyJENSUyfImvJRPFxRvFRo7YpMQpRlLiDcQpqkhSRaINmsFwjktMWRco3sbSH5ksbS4OjWrp6EdY2V/YrBcy1c+jlWc6WZ2FlCVZFSTq3arN4XaYh3eHQ9tokJqJztgfEVouCjE+JDWY0LeLhIhMvjZJCtzE7JMVb5WXKRBkIsNFEweIEiBiT1EHA9aPVNw8aOxbJjVD1MEiRtDRpFf55HwMcXQihELzRJlcaLlhB7heFhLGT5EglEKieBPFWE8zHfD6kqQfS9ZpBNjgstlw89yHZwPRPCqFs0Pxv9JbqUKdrEm3RaOE/BdwJfKEXsp8jS+H6TfP8ATysXQfmgmLv+CSoxq5EzVR7RNIa5F5hqIQNoqhcLovu96N9NcSHO6mqH2IWcUFdHdlfFOLaEc51QvkFSXVTGCWLh+UOEiXYRbu8YhM/CLu24GGqlwjmugtVyUX2eg0+y1NCXhFrVPJEcRCYeu5bJM0RJSWJL04fAWInR6RoMSrSpwa2ek+Boe5X5jdIpiQ1jt0LKZu0uxDJPRwXouOc3F6G+idO+qYhMIJ8E+Bs7I9eE/HPQXGi4bKXcW9RpmuvRDhoi8w+wjyKXLCS10QTeULzpEnsPYVeSrJZeEP8AoLGyZxQsJMRcPGiohz0LEPoQaxBoSREQehN4H4MT1y3KjtoT7sd9LFIQ7yb4MjuoglEF3VI8sNJVrNLWxOSe65coSBbYhQxSBrHQtKQMaI3/ABEtEnpIkFK4KErRfsbY3HZJrqmyPug9vMMLlFYrl/4JjySJxaHoi4toTqt+OyFNI0irGyEFCleGxz3whq1Ovq+yHHFVt2OyEVRIQyGIVzdabHI1OG12yxkjcvRMXF2PFyy9S6HjeHcPG+hiykLnExvEFmYgyYMRIfwNXib+yH4caPIq2xp4x2k7G7uF5hWtCBdx4oEU+UQy4Lkqw2XExjcCKsITHA1XI1pfhjeLksb6ri5XgQx8YmKPGiGhkIiMIFXaj+QkjxeScMleqTqjES3xOzHij9DoaZyEhwvansn1C0Fy07kj2CeSE17I2pMTU0PCKEpikwhxuhquzH4mJvfAfkE/ueNCXdCZ3JF4ipjtFCI8pDIiS0lpCu8PSFTZudN0GhKbcob+y8Dpz5WbzfE+GO+G+idCZRp1PquWXrQzsQguvuTGif0JiF1mDREQyCD1Df2HrHqH26hwuR7hFaCT3JWxqVlF3GNnI+LEj7iRiWUCWtFeELmM+YgSOxHhEDRrxhiGdi55UzcLE67mYheqqOOpjcibeWJFJiigx8F0O1/GAopwtIaRCEwkhGCz4PWhmv2N6aHpwpS5Y27Fs0d+pH21InDYfxuqhPgrsDijRSI+B86oYqqZSfk9hN8ic0hq4id2C8YTu6IZKJfcggQqE0NBMTadKXF6VLibNDeNeeh4Rdm31MeJlYagmPCzo0X+iuDeWTHJ9EHCDVRODWcHrPWhgo8HtpsxaWlhZp2HirHbrmK+lZt/oM7lU3lNnYWFjRcuRpuIZ5gL0hmj0XDeJiHBS3Hokw0QSINYJETJIU2xam3fyxIJEi4QwfjR6x6A2OtDTAwlKJsdG0r0TJJ7hperEgHt2jKj40S2fSGrlzyktf7Q0f4B978BpwICf2CZ2nuR7hL5J8kDruJlLiosOwsLnDzGTfWsTp7COx36uwuhZjxximrhvxnuSMeF2JTYsXYh4Q8QtFh6FvNLhlR3GV+M0pRlLhlHziEKNiJC4E2URos6HwU50SYS/oUuXl5Q3mZWKXNQswWIhqE0SDmSeYRDR9iB+AbOUF4o/FN4ftQ/9wO2g0REltRtE+w7UCHMG7EhV2GkvzhVBOy+DF3ae0twLDxi3A9mF7CX3wNlE8KclKXLZUaxc91hjwsUub0zF6ODOf2IeEXCzWJEto+hN8/gzV4C4Ki/CHsR7ULzCQa+SryQ7jCZSlzRCHyXHbFLhZktORTsLnNzbjg2bxcUebrF2cvq7k6LhFwuGy5XQ+m9LElh41hYZCDEiBE2NEEXgaEvsNH2PSetHrjZ2PQMdh9w0acA+VMLzRaRJ8SL4GjsS8xL7xd5xNduQeyrkTO5pexeYQk/uekSxJ5KJoQ2NlEXpS3i4Yurgcn8ixrp7ENEmrQ29h649cQbXxGVuek0e9wSpT+QhwXYqIr+5CSpH4TRRJoKfG/Itt/LF5Y0dxc2x/yBlVPCTmfcLzDQaeGbXWahhifcT8lWKNiehPChRPFLoWKaNFxelj4xR14XBcXLE+ul6aUR2E+u9LzOidMxOmHbEIIRDQkhPWDTwegptoPmkbmGJkctUaxGwHaoNL0Vqu2KLo2CPeMDXt0Te4vKR7njYlIfcWOMUbwmXLemOpextZ0OUqRAkumNP6NDIQ0QiGRHghMIJD9o7pBvHagwu/6L1ElvY8qU/D7w0Nv+wnasTFFNdzzQlYjcMSXlCXaxr5EOWEO8CsJT/wAiGv4DzOYmriLw8LalAuKnuJEhUVCaxByGKUZTRXhvDeLmITHiwvTblDFiDKNi6nhiNYrLimhk6L1vCQy4WHmleVmERo1juS+xHg9BTlIfjDd2JSU9HQ1PTEl3kknqFXsKQSOXL8hL3zheQmcjgK+8SpckotriC8LI3gpyxu+WEi7shHqwzsd8LjDKUvQ8UWhtdCShy1mFtk0ojSmh+uRU6jZCI12bWEGmJNjs8EpBoauCi4Fuwc5J64z+ocT5/RI1wP5KXCPsSgd6mHfRX+qPOSSBf7oa+39JtUoBi5xQneT3nolu0TuFPchIJOKJMKst4peqMmecJmsonRP6F6GPGhopzilLnZ2xtTF6J1TFwiiKNY7YYliDzBPgS+C3KDfqD5UoTzRS4YlceiUS+2PaVDjCUtEiLoWHlMeXxlZQeZlSbO4yNoJttyXGxEEMWc9JolQbTVo3OSj2VKLCiS6ETgUe3y21fBXFe8F/ZYU1pPTQ5zBcgnwyGmQYkNZhCDEISzQatDRvG/GN/Kl94jwFewjcaSWy0T4X7RAXgD45/RR2I8uQfMUK1/QzuDTaaUxr4ke0XNB6wmd0LyEEFEKsUpejXRVRPCxZi4a6KQrwsJ4oyjeNMsKXNL1Jd8q0jEPC2MQ2J4psiwiZa0LUhYilLhEHi9MJm9D6Gh4xMmnHeyStCNRLQha0Od/CozoaXtQnRwKtDFifSDcETwrKZiKibOjJGkaGtkT00hnTYvgbefxFpRJcJDy+mkCb6INYm0+jROSZeYQmhoU5NHBI0j0j1F9NIfbQvzgt2qPz/oSuP2I9BPg/Z9Maux/WAcdwkrgQ4Ri/7CTVdITHspL0s1PbUxPRPCp65dKIK3JZcksi8iQgbxUUqLsuUxdEFiQbWJ0rB4XS+hYTxEesXDE0W5Yg+Ih3C0LLNFEXoQxdLI8Mc2T7VBDSIVR6NJvpCRV38s45fRoidK+XVw1poVZZa+0JiJJsNEJKe8g01nI7YppUaHkcmhxYdqxsjj5JMWtekToS8ohPbwhG2QdocSomU15E1ln2EJ0VfaFSdMJhquWhwi2XMylT5uEXsJ4bWWLG4sd8aQ2hdUHmEMgiRESRSR+Anwi/KQ/FHCSaeBHhDaNHAegeSIcMS4CFO1o17Ih24PkchyFJFx1id2Pzibwhd8cRN7oXIe5EvuhMNEKi6xRQaRdC3hPOsPG6UWdi6HilRSj2mNwOAmN9TNktsV576J/0kXGvwRlv4Jp26X9F3FFgpPdnuIvJaQhKN65Gq2+cjsFAlWzdFif0oSsrfyUrFR6IcDGIocCk4DaYtu1oSs6btCCSsacwJAqtDODAPmqYgqHaanHMprWzdGiKXQOEo2jaG1XppV8iP2hA5bbSiG9zSeTVmbamoJbIMRPyNbFvnIv4JweV+xCYoWKUZJN0cVSOAm5pLhJW4kIe20vXlIpTiEPVG6pVSQtEpJ4uOBu/hpL46eOFoTG81NOS0Q4J43h/0n0pHfoaJCLxhoSGkJERESegaN8Yjbyhs5LtQVL0B+/R8pHlo3aLxsOWhB6HoETmEntIkUvlya2wlXKaFJi8x7BO7i7zQqcnqDSirCZSnfEvT5NFExvQiocTt0vDhAkTCBJ3SH4ow3+Q/APRFCJDaW/0IPXL5HfSSRQWv0iO0t+BoWnnen1bEUnSNxi3AJDT3ibybjn8zy/gKu6jzFM4LhxNLy9dhdxCSRIdCNiZ04ztTLfyJaz4EStJLaUleBIhbqdvwLTo3+JivwO+aFSlLKxulG4iqgv5Kp8ExqdI0jbLtw007j7MYvLutmoOoSE7KX40aSUXC0hoU7fxpCF0JCky0IuU66lF9sVIVs9eRII4Sjg1NN+xxeBY6nruox/CVbIVehZCG1LCaTfLQRneEo9LoLq7WnyyOqST2/JVCaGxoVTcIgxvDUZNiNryggo1zR3ut0VRc1U0kUpwqji5lpFl4hF1XoS6IdupiJiEJhzERMQhMREkEkluxTselEnxhY7sesskom5Gl1BKWmVSPmS5cbLlhD7NEGlT2i8iLEeReTGoqfcURUkJuzgjShC7j8w/MIqPQbuHK3YngI03hl7YmIhIvQ0QgkQT0NGyMYH4kdj+IbOQgJJhLobPP6JfD/Rw0v7Evg7DMXgS5JeFBvEbPuuBStsFbkRFrTjyNbDAqoqcKZEpKSHIGjojXBJTadBdhQRyux2vjCE7qrjnTFZdeW5TGxRJDH6vBSDct1vYw4KV9Da7jWa9u17iGCSTQ0a/HgyM17i50M76Y2m5IT3e0Fm0n9B1qt30NOTo30tpCIXvGsUpFAW8Ek6GNM8foNK22koTQsXRgzhp64aEouEscI+ysKStiUNDRnpiRPGlSEOleKxfRVWPsQsq0yaCBLnAIMzaEYhO9JRYg0RC/p66X/SRbiLouEPqXRc9xoaI3CDSwaXgt2NPA/CX5WK82hXYkriifDpFW0ho4ERNRsXy0LgJnLgvZkOxLsIQhFCLxi5mFo5NZuOOlDYs9hwRMKI5Jjvl7IREJIEmBq3whrfCPVZTlShJGmrNl+kQw2vk7qTwen6jhpJ/uDTF9oRe2EUm9eZF/wAJjiHtt1piq7oi7GravoU+B2a/BBb3KHVubPoa+onSfYRFnNt7NGhFXctF9w+GSpWLda0m6Vq3tPwhKRrUb8U4YE2/LZDbpp8hFkWsje+VO5qT+Ntjp7W4htoyE+S3JwvkVUQzNfY/lidEfsjlKiIKBUPIxm07q9Osz+mhvquFlcF63/R0Iv8ASmO+TQiCIsJDQgnwMjyrgSlCWEQbNDxvo7ncuFwcnbC6bi47HGEPpRejXRwXXRDhmnizF3mYaykRHIkgSUozhFNwWfA86jlqGT4ok2X9OXAb20uutXQojJEZrZc24PxPwk2z9FNG099iTRDkUSdjuG+nP9GhpHQ5uVNmvLLUmnTxTeVNJtKDE6pfQuBSgt3bPhTgarqdbdkhOlpOR+RD8TGPJBUJrCBMuaXFxTQy4Q0JEx36EMo+t9b67wP+nvrnZ3OCymc5ZS430QuEbwlhiyxdC3hiJl4pccFxM3EueGV9VL0LjL6ViIuNGhbF0pYRMkQNNohOg2os5QoukRDwvdUnInP2aG7tGzsLrTRp0fIlbDRvlk3+6PwV9mqE5ykNVgSex/Q0mwbQLvobzHlxGWhYStGnfjBq2EztGrtE/tPehO4QSiVdyHvCia8lKNl3ioqEqO4oxNjeF0t9L4ysQWuhixrKeNZ0XoLOsbI8O40UQ8UTxS5g0TGsoZzjlYudiKs8dSHjWGT+j2EN4Q83pWOBdVE7mY0umluGREUIQhBoghNEJolNzQfjDeuJ64/FPDlgr3aH/vBeCiBdixZ6MlxPYDnsJ9ou4ou6JLbkCTuweRxNnKPaalod+BN7CvYew9wl7Mg9xUUqhA2Wiwuq4jy4Is6HhM2sksaGoz7KUXlfpPkl3/zNG0fQk7r+heL7IYF4hTSUT1xPRPXPaiCryM0SFKXFRo1hk2MpfXRUNizCzobRehieUnm9V2Up3G+jZrreK83Lzc3pf9SZfAsOE0RDIiEUGJNGSNCJi9GM39g/AG7sNMh6mjR3o3d3IrTmvTI445PSVkS8DR/sRPmY9kTTmQ5QvOcY9QT+AlfcnyJKSLZ3FinKwhj7fwxhsXFH5hHkhI+A9ROERPg9A3DttCn+AbuSlYpXtPU/1mqL9xuuP3EsXLX5Cd5+hHS/Iix1GjukXObtoR5e/Iq7Jo5GHP4ktPb4PIy+mJzWp6YvGFRP0PCv6aLRatkFRVhaIqKXFKsM7Ybw2bwtYlwmU7ZbFxi4S/oQqRzhdEk7o2zBFL0Mud/0UbxCZpcXWLh5a1l8jxNCEhrCwkx9kRENCeyGvgp2H4UOW0LdjfpheJNSicau49f8NPDHxn2zyhCWwTVYxNfIm9yRoF8txCmVyStwoNr5SFLZlPbGvuek9ZzhiyiZRENFINZWyEQk8GiGyEDQnwMD0Rt7SnKD8Ybi+y0+yfH9m6/zC7RxsYWnX8Eh8q+BtSlrbWKW1/Rd2H8keWQ0DKX8TS2/1Cf3fjPOFxlhXj9hNWi9qPcVIW4sKmTeLsXJ3Ji9CJmlFiYohveGJUomPL4y3vHf+hSlwuinAlli6EN/0Vh53OiZ7CwtohEQWXhhDGo08Dd2QpcBy4G9aQ2Wmz/zQSaQg8NMVLSroo3ivCKxdcHi5e8wmHlYeIOYTRbiCQgcDMknwH4Bb9I0bUfhF1wPXKuI/kUP7hK0kE+DhtGu1+kT7H9CjVfoW4aKO/0EqJ/yINu32Grklvv8zvvzJ8t/guST1RO7RNX94TOP2GLGciopUVEFTY2UaFFzRMpdCZRMXz0p9SKUYi4pS9FGynbFKdx5QkWZprGyXqWENIeNCGP+iksLpn5OS6G2OONi4mBUj6O2G8zRudLw8KHbr4Ren7FBmhA2vTJrsJlzT5Y/6FKREyjviEIG4iIR2wp2G3sG17QfhjcpODGxSm/n9H/0Y18LIcA9cY+Z9E7V/Co9tj1mSkMSNO/s90PmJFfKxBe934F5WLgcs9PDJ/Z+ibwh7kSJjKhPJSjZcdylKNlLoVzxepdVzRFwldBcLO+h4bEPp1mHF8nMXCyhiL5EsTCXRRQqLm4uy4UGWlxvov8ASbJNUS8CxX5PkNwW/g+8OXKtjnmCtI7bvSgCtfR2ytrJfI1jVvSjDlhJNrouGyi6r0JU4KVY1oUoyY7jQ5iIi8CXwT4HgNdkLxhu7Bse0G7sHPieg9o1dReZf2T0ih5kWmF2v4EvnJilcuGrmjftsN7AkZL/AEJ8p5TULTqaKC8EqF5xOQ1JJwjyRSopRPyVDGi5TKUbQniTE6UMXXc6xqeaFltJjbE0hLZNKjYmVS0rE2UvnNxcQnTOjWIpcaF0w4IqEeXwfCENQey0vyQz1tUyKQaqaY8kuAvkQ9n6oTpaJsWSUMF5RzRWbtx8jGsXWKNoXFUzcvoSJjkWINlLvkpdm6FQ+PRUatEkVRCaL6J0JdCGiEIaujRFcQRDR6BSJIvByaPQNnaLwzlSJHaV7RDYIEh+v2ObP1Ejg5LTi86JPb8QaThoSltBS2rIclU5kGtxoeySrYecPBfwUD2C52oncIeBBdloXk0eJlE0VCplwT62yiNGs8x2nDLLu8LUhGbrgdmmy+EO4NktC3+QttF/zSzm/wAE6hHTeF/ReFRM4/Y9ATboW7oscotKUTKscFFlYXTCpREa8ifH9k9G0B7ehSVgkQgzjb5HjZ3BIf5mapfPyNaW+Qpt84txB4ZUC7QWgo4IUaSGJhKt2LniCaaZLlItbWtto2zGnzcwh2wsawr1d8PMJhBVCkuhcdT2MmvbUaHN8OY/nD2kcNqUmJjeW8LphOljQ3CBUUgspYiO2GQg1iIavYjiDUS+BIyLwPvJFnwR4Q+8g/HH4p6qw+1/o4RfoeyNXANPBmzLtFtvYTSaGjgxW2Etcz5TXaQmSBeEesJ/dHuEt5KvJcOcbaNBoeUL9xJSS4YrcTM7LBRCYMyLxHkSGzsj1vw/4g3hfn8xI4x78n6Et6I1kj8Mlx9p4PyPG34Td/mhaSf9Dabo0qn+yHb+kJq18kwnKKbRp+ifP4nBH+BkoaP+YTuP2E2QtS2sJ7SHYbxCKJRTbJnww4KZ0aFHm4EtTyexR/SWjlwftmz8EwhF9kYps4SFlylD2Ym/14S2N9GsLCKuhvCzEsI36tsvkxytJv4ZwNjQ0v6Dws8FGFZHdlcSMXC0Kfqw3obsR8omjerHqBpaTQjUxSmsvMIKD28aEU4OMIuzuOYRCaNEuYIoQyEeBpBh6kNvKQ6PUc+I/Ea+WWu48Bmy0d0OKORTRESVi8iiF3GO42xz4JdkPxhCLRX4Ysobzcohwb6ENIixCLNA1kS+x5ES5Qvaz6GJWaDd3k5o+xnhL+Rifnw97GnhZ/whpX9oZRVk6KGiowSOWsdN/ofOE/8AIWnERo2j9FPD6GlvqzXfkbhNNt8+Uxicpvfwon/5j0/0Xeux8htPud+VnwjsYRJfWO5MLk8i6O5ouaXCeORHAteUR5fYbKUpS4uUs8FGKkY0QdzQ5pCcSEjZrehdElhiliFdap8uHNe36NTEIQmWz6zyIsLhyh26EbwnliWL1MQ3rLJiLEIeMRUaFNhboqZ5IhrQ1lBvonQsLD4L/QXQ8om+lmoJdDL5Jq9fJMNUjwRiS+B+InGJPFl+EDBtfxEk/wDwGzcDYo1r0xftS9mM9r7O0Vd+ELsrZo/tEeNfENmgU6/iG34ZaOzkpV+Uxp3/AAxJSaA1yLXz+R/rQTt7/DbNC3aNDcfIg2XwNlRWKTaejOB/cZRg9xRQaeSlGyppiEVw2IRts4wCqJS9bHXB/V732RtmnpndC7KE+Xydj9vBTc0hcROzRNEGv6VnRtiRJYhyJezQphJdSNkyk8XWLlPFRbhEz22cl8C74FwaxCdO5ybw2XMXWxw4VOl4Q5mizad8LOurhdCxz0Pgpx0TQkliimEGkQmE0I8BrD1DctoLxht7SiiGscdmotyvqxrq+6OxAj3P5FwQP+6JxFud1sfCyF4M8qPIktDw5Qmba8fJAbX6QJim9zba2Qp/5CLu1+H/ANUJvYcBX4Qt2i8yJ8oqEHasSiaenimXYn9aKlyPHET5hS/RDoLPk8JwrxB4bEXEXRUOCwY/6DuFMciL0vEw6LofGL0MhoL0dmVjYs0TExiWO2NDXTKIo2a6W2J9TL0bEy52b66IbEym+rjNLiZo8KZgiGukkNJY0Qkf+uG7bd9BtLotL8QlpppQwU68JRMvaKL/AARRDf2D8LDN4MdhMPXB+b9EE+tdsaaTaQXtLX42xxf262Pf/aR7H9EThuKPJE0OM8cJiTrEuwg1sbdoGs/MoSt7SKu0n0LznwCnaJ8imjieqegR5HIS4R5wWM9yGJp4pUN5vQmPCRCdDnTYXFIxnLEKSQuMrkgxjNjedLK9unRobw3/AEINEwsIYsp5uNdT6O/RS4uWyjITLwmhiZRMbL/Rqw+hyFNG0S+pIpC00XE6V0xEDS1ohCLwNLCEQkasfhWBPw0Lxsibhqnpv0eVrXycFJwkGvsOXgRO1iKa0RCZJFu0rJuN0e0PhBOkFWBI7DTuotwwg17Rd9CqqU9ITO6JYmX2USYqE+iouEN4PsJdiCQsMqGpckj7513/ADEl3+4l/wCME9rn8GjuIcoMPQPxMZbgF2V/R+ZEeVieWNEJHjZcaEyjZRPNNGii6OOhZTrILoT6Pv8Ao76nroXToYiZRTudxYpcXrmUXK6r0WPDZqMSxBYJsaIRGhU4kQg1SEDDRkM44qPdo9AU+D1I9Mb+04i3MPsB+FkrhsUdgaHovYPA5duhtFAk9pP+6kHzR5mGi7DbkZ5aV1AlHI9uaKCS20OXJbWmCfIWxyHujc+I+wnmsgEoRpkMgg9aPIl+B/6lFe38w3rnpnMX2TY3f7YNEn84WifuMZ7RSW+34En/AAE/0Cf64+xQLV+Jm7i/sXeb9HxmDnX8ZWf+B5l/RLmr6E2uvzMauJ+4v9wcmCbwZUMo2hMWKi9CncWKil6/sSF0JZbohDxSPHBcTD6Wy/0KXFKXpbxei9EIoIonh3Fy1sSIZcvDEq+jZeiEWJsg8QQaRGDJSPQQ3Bt5SG/sJrCGO02LOBK7CV2EosUSuNkEksQSJMQmUiEIT2NIiiIQiIRYJIxSRLIhA/Ej1ple38Nu/wABh1/iaNIMnVpr9iWCvV8keF/Z8QJXH7HYM9tQqPkLyho/ujRyoS3s/RK5+oR4flC/1h5J+wmd6+hOZXZUp/mF/uhO4QXkTwWmC2aRRVm4Sw9iOjWa4fZvHkrKUpWUvUupi6n1s2MSw1jtilZcXyVkdvEJiEbcFKGcFKN4XUsPYrmdahosmK+0dQ0IbN4Q8XopRFZS4vVoo2yiqqSJZkuyD+wNEemmckJhEzCImKiovjBLGjRCQ5GIPQTFA10g9FSH/qj/ABwLn2CVwg2cl8MSeGm7piDqH2FZP2JrRaNSNfC/YWgo93+hIFd79hp7GvkV0uPpjVzjmXC+jzoHmafY466+jTxEyQv+4Kwe08zQ/dCY2PjnClFi9N6FF0UbLhSlE+h9XHS+UiGxlwiERDZRjFhlCYbEn1LKa6VlELA9mWJ4Q4VeDYuluCIRLE6YyEZBNjSk/m8ITJt+ZxFUkROTbfZPjBLCw+h4bSXIqLWuF2+TQouD5HqacTH/AAAjQbrSlEt4IY+NYuyCFdtbEJOdDLoaXP5hOWkfS3mdCGkSj0wiFjC7C7xIaN8CUavlFOyP+QN/+IdOP4egMzTlfTY+JR9sSrhH2Vel/Yl/6Sai/BCWu76E+6HwLZE7FqoUbT42NHK/pHd/o0cmm1UHa/hNGzW0v4D1n/ErIeEE/wDzn/QE/aQauz9Er4ZHkhZVCaLmmvJRPCJoZrEbaEOM3oWJ0LYow3B1i8iaJ0XNYkPoWG4JaKvsyaxCdCF1Iufk2+OhIg17FbK7iVovKNChZNvRrBREsQi6nhoSiwlbZwY2yKKCpCbN1bRBr4SQ6l0K28HEHl8CGsWv0Omcdrgpc3ZN8YRaNiyr1BxTbN+8J4op/i7sTquFOjSxRvDb4Qm4Ln6yxLRCYmHIiIhJEISDh0W9GvgSeCzwW5QfjnkJs7Bw4GmafY6mnn9Dbt+pqFJi/dleG/CK4/g0JTVzokr/AMBq4Onb36YkranvP4F3sER3/E17R9FVpiSxSO36JP4UTu09h6g/MhUNryUo/Yb9iwnRaKylQiG0Uqwp2yy7xzy8NCYiDE1iVOcM+SopwMomVFHhMVO+IfBwaNY2OZiGdq3MTNx6+Dm5jjgNR/LnDPvLRGp1wYVF8jFb7QT4NRGtsPgjmT/aEyikLmmpfmdDHIIvmmUZPEjojSN4IlDWXI5eE9sZ1pYfHOFhjtpNX8jlOu30MWtopoQ+hvoZyvRvJf0O+Vhi6NiuydDGho0QhBo4Q6wnCCfA1Y0hL7GvhHpj8YS+FvweqLxh+MPmPfHyR/sK/wCQSECSb7KBq7vwhyh6/wCDUhdW6Z6wu2cn80SWv53G8jnuDlX+VF4WeVtC8wr8ac+t+Sy4HbqKEeSBKVUYYo2hv2HcEykE+Ua1sauUH72K8qPo+b8E58l9MYNG0RVxUF/uhP4Dx/oJvYLsIJHw7ilxUU5KxqNKmnyh6y1SxR3mNlFoW8yV/JMW9DSzMLsibiEjSgi9vMQZDLQ7ktEX9Cv2XgQd2taTQ5ty4fyiZjJhCTlOHcaHEXQWrWfYetkSOIsrd4sEfxESFd60L2P6yCEHNFaFXwKg+GF5HIUe4zt0UWGidK6F0LpTeFyXCKUbwm+jQyoUIs1Yu8waEsQgs8kIQSYyExMQaGmESZBrwJEDS8DUaeB+ISht7Bv5QbFwPVG92B3hFNo7v9BunokE0d7FwotL0CacCClBMKdOaG+exJWJ3cllty0oT8vsiEtaXK0m9I1cIXZQ6bQf+mQ3/jKuthKNFyCUcWkyG7w+GN1X6zxJCUtL+zwGlPTnJCUCatCUvaQmbHq1R1PZsSSlNxoGh7/CHlf4qJctfCYt8JNxhK5R9D74l5vuwnufyTPUNoiQKnOe4hvV2Pkb/HMZZmnsJUNolUNexVbXYQUEp1Eeogylw2xqjljFPMGwmYz0tr3irED4TpPnSN1W3rw1TuTkvK5OB7chBtrjkomlSVQ0KRp8QaHG5PA36GyM0MYl0whBJER94ebidFNqjXo906Xhpj+Dv4Dps8pPDzRt28quh0cmhJLbY/qNeUG3102UBHq8IkPzkJXo1NhbVF0d8pYeH0dhPo5Fi45/oQuXiCTGhkRBEiLCYmwbXApJCExxm6xTsRixGyYVPoWGaQlmHgmIhx9lfI1SQSE90RLhCQ1fI08HoQ/Chcz/ACG1Rz8TAaB400vTEjv+w+x+onlEbtITJmsvAybCeEhRugiv7wbuJ/00QS2/bErl3wHeo5aG5tmn6N88pRWNomFXoiKIhLQbm/5hOfNfKYnahGhftNeZPYyl/wDoi/H7IZQjE75E3EEwSFRWKsQZrMIIRtuCojp4ZfBvH1ikFxliIMeVB6bviTgqK8zeKJ4q8dvhkw182TEsgsV9yIiW0STf2Oat2TxMTzwhG39P7jaI6t4GBJs1ZzFRZq7dYQX6j3GIwQ0flUhOrXROnhGujR9nGO+F1PDFsoiNdb6TW5wQs3EIfIRooup4exomxZS6F0UuNZYl0dxYaFcRYQhCETxfZ3qvl6FId6b7PAMvxbY71oW5/IXlPomhAacHNimzwz4K5cqJsTd2wlyM+qJjm3vWkKorEmRm7+kc7kSlD9iL5/LHR6CU9/S2QcqPLp6EP8qYp7JwR7NqUUts/o1QvvVoSWlfJXAm/IXOc/dDPXyBofcl7FPn+Aq6I12t+GJSM+hDTOGkGVwfKlMW3XyxXw1VeUUmxLYdlQNaPvTQ/EwMhSuy1SuEiIjQxj6PNwSr6mj5pyQp12CGn8M7yS0oaPt9EUmmhlBGy6GJPlInhiROhrN6bjdy3OiZb6GdsvCY8XHfocxukK2NxOCExvFFi4QYmhpDZbinYWHpdGyMhCPo0OCXVcWYuFR5RUi5gkLCbsZC3hEkXMwlhIaw5m0fyJJwj6G8NEwxIiEqbaROxN4wR3JxH7R6sMkNnKRbUjdpg3Lf5FCj2o9b+mSfP7D1aA2/3jnpZt2z5SPLflTn6+QxJPvapCb9eYXzp6QmNT3Roqqf9jVKv0F5f4EoSIy90NaW4JKhN3Qhr5/EatCX+oZ8ET+ECYfL/ZpoUNrQb6SJUttv5bG9dt2Y7rbwgtMXUPoeVKilL0Uu+veXl0WuiYWX1ITzCHA8cD/yJpDGbE/RcvyfAmLhY4ytYeUsVky+jWZ0auGsPFQ17xBJEGutUimk7vpj/puix2w1rC6Ky6xogljXQ8SkUcgX7GxySj2ed4a2NUngNCMITRNo0KdkeoN/LPobP8Q5r/yhHPiFDzt+kUh9h/7YSJaV9iRx+hLj5RWckbNv+Hg/if8AKEk5b9DXxX0RRtGrfDF3Q16ZJdoJO6hq5SLx/kXlfh4m/BeCU4TDIZeOa+JfsF5ER5KyoqQmUqKU0NlKUqmFcXa6ecv/ACGsVwFBuCKXEfguNkZNGilEdy7wnlHPVcPNZRv+g3hCG+hZgilxRZos0WYRiGci6abLlIYi5RtdsTLWQ219GPLWNdCxMqDz3H0LDHiERETFiQ1F4inYfiYkHZPQHyyU5UbCxvtVYR+CBqNKHwGvJEDFN8qQ8GzYNPe+zVtBI5cTuUCFgNp5QJzm/wAE8rtn0Cnaen+idwomdg2ntCn9RUUYkXca+6GUn8BBVsTdL8Bv/qPcGv8AOW4/UTOI/I0cfoeNf0TTD+UKfONlYtitCbEVFFTeE8azSlxqdFLvFFClKPF6N9esobLopejsPeaIRziPDhcF6n0O4o9dTFhdEPHW8JjeYPkfS+iUQmWJUiyiE6oaEUIho1JBeLeKRykEo3coXeQS7fwezX8G3lTlgu2ohKY+02Oa02hqVtfPA+lhTsd9f9np/RrQcdIS7CIeiof8kbOfzOUFu0E+HG7x+B777EuE/Yfgv7F/vsKuweqpvlpG3n+E+wDLR2n/AERcbSZLvs+GJFsezDStqGb/AAIJD39KDTtI7wPg5LuP+pF5l+WWKnPgkITx1Ne/0OPR9oXtPkUbcUM2bIzdLJhbilhe5caHlvNz2xUNp9EFCCNYQjwupDODWIXCzYXD/qTCgnngrw+hzoi0ToQ+jQoNKjN66Fz0vGhomdlHmEGis4Rqom060tmhwcFobCXknvFmdpZhBOgkFCUmCUWxDGvghPgmx0JV2wasfBCU0hufGinx/BKs2c6HOfwD8YpsElaD50G1z9GdxI+AloqkBha/Qnoe3k/kf3SCLa/onoGnhP8ApPlj9Bna4/wEuH8RiVtlMrInJMynUT5Y9j9HYgVCr/nF/uxP/wA6F577IxuUr8YUTwpvF9lKUqKViZcLm4eUMbzR3HHX3yyiNZbL/R0IY3/QSppf0o/OIQg0QmO+V0UqEbICOXssbRWboox8FSvoSmFcTQuhHchWNeyZfPHU83CGTohPQkaRCdExPY0IIoSkmuCTwsUnYa+CPA3tozTpS8rvobP8Y39olRJBu7v1kHGRfLN9X6hunUJcaV908IQU/iRzxV6NoVPIR5YEl95Hn+Yae78CXP1iHf8AQTkr+IjzP6K/1ofignp6150PnF+wn/5BbtE8U1VfuJk7nsXbBdv9hdhC+xDTfY34KXwi5uKIuNFzMdi/0ETpprMwliHGZ089CRBYa6e2UIeFNDmz2Sg8ImxMoRqU8FNkN9CUORTCNDc6HRcm6VFaY2LKXUlmMSxrpSxobFjRTh4UNEFz1MQkyCzqYUxo8wiRBLGBIuwyasjBTsj1hhTX8InH8J/whvtOChvT/wDLYkvTT7j7S/uWtIjUkv5TxI+kWn/gGiSvoNXH2D0+wNHLl8MVnvN/P9jWdrW0b9CH+MJqrT52jTT/ACWCevY/yVhr5PpC/wBuJ29Av9uWev1P+gKPH9I8oqKWlKU7ExUUproed/0H1JEF0JrCLh2Fl9iMJIKiaj+TaG8ReRsTQyLwIYuiN8Cg2URUNiZdkGjeEyiKVsiQwjeU30V45GsPk14Ki4cwtdKN0Y+i6wiDVFpdUWELCO+I8I1c3Lx2GJYSRAkTMRBCD4iRYNLBoMmzsFyR+HIfYjtuQk9j6Ha7Cz2jH2QvYvtiX/nHh/Y8X7EeB16ZfRG8/oaVRMDVI3zonw43b/QaLq/saf8AcStP9DR7JaU1fQ0tKfg9zQ77LPaXcwBuiQ/7Qmer2d+CndFXnA0KmVdFKiiHwJiY8vC4eQULs+BRoMUYoVG5BFELjQhI0NqlFTSLmlHaKCRwjYtCeqPK2QWLlixDRep5v9K530vKy9ZdOSENCmdY1lzFQphMpot7Ekh2EMXRCEwl1azDWFxxiYaREREHYlJYlPWH4R6J4y8v4Hi/A18UTYbOwvKO1/YSL/OeJH2NfH7D7BpPDfaEpI+Jfw1evyEh7EdEu4WqwJTmNfLC7qjh/bPKj6PhfQmq0KNhDk5BSHl/Rfh/0L/1Atw4t2ib4CeQa8BPWxPwKLNlQmhNFQuT5Q3iELBM2MuGV0SOB47YjOdJiWsx/wBTjop3H0J9Ov6K6bh9HGddU/q9sLDwupvoTqsHmdN6UsQRXR4WODkhCdCSGiEJsYiJoaIo/ER4IXYhjXweoQ8C07RDDrtBUoCi7UNqaDeUViPo0JEa+5mKf8pDsv5GpEC41+SP+Qd3+A09X0En+8HrFem2fYdf9iThLu/qJX/hNP8AwlAlx+IjV/VDpGE42NJX+Iav2Bp/ni8K/LHle/DFGtfwkeDUTODTtr9RayqvYu237FK/znh/Yko/2FTFtiUWKN4TxcXDPsQ4MuaN4uO3VMIXRetF6kTp7F6d4uWPO7hFETrhuZ3mrqbGK4mJjdxxmHcmIsN76NZ3hIx5q5osNoJJEQ1oV7GyEIQSkEiFEQhNeCGyLhERCQ1e2SQOOBmGk52xGYPwkziJCfZFdNGW7GvAkf4BuH+Qu7+IvC/R4vyNga4lgvLG7u/WdxNH8i//AJGE6ehP/bmjD5awSP8AyEu0QPYPD8oXdl6DgjceifuyfLh3AvnH0jF/oR43+HYSrlI0O0+ZPlr8uTpsvliXP8WJpKsXq2J3H7DqpP5E3j9T/vnuX6X2JM2nwRiO5Szo+8UuE8aKspjZvCLibJMMrwyYuLlDwsXKYuiiWbidCwyYg+lYub/R0V5Z3wri0wlQrELgUYxZQ8TKN4rRRKojJ0cdhkkxDl4PtRQeu90EId9tLTEIawlmE5NHY4QnUi+CTCO2ZrFzCD4YNI0JCIjwTUfLYroqKmS4ehCCIY2qP8hd1v0T4R9Ipz+Q3f4B9q4mPf8ANk5H17DZ2/hzxhQsV+jxK+yShd1fejElJc8rD/JFKuJ8kNOlFfTEq1uH2m/bQtCa/Y8jKTfxtDSv5k08bpVTQlLZ2PH5Yok08vhk7VX0xFr/AHAux+5b/KhO4/YT+E/SryhtdkfRCLioqzSlKIuHilEUYuK+jdL0t9DLh/099FZsvrOh4jzynBC6OBO7i2kGicjFvhYjFkfJemGkNvsQ+ylwx22bTHfy+Qte6fhHzut+WXENcpYRS4mlyJxTspKsXOxLG11OJNIbEPjDIN6ISo4q+Sdvgu7+DR8E10oZrG/BwOW9db7CUT0UscHIkQvQsbEbJiCIQhEaIpwNXyiRIhIaEgk8GzgfgQ38/kS/wIbefxKf4zhLcafDaFrR/ofZl/ISXpX3ELgz1P8AmH2D+MaUS9riHTULxB4k+1IcfeGuxvyKnLV8NDpyfbGnn9GbbG3oEVbfwxnlH2f+CD3R9EeQLvqDO8n6Bep8pifKoX+/PH+xVzf4pfj9jsfyHsRSjZddKeyrDaKi5TxyuhiwspYh2G+ijQhW2NIE0hoSrgiFNcCxCRRJkdFGa6aUaIRiKS54Y0aZv+DPyoV1nv54ESiqguf3orilGauj8MCMEDXCWFlpezQ1vtE+HMxrUpkmG9vFSTbn2XtY447GNChkvCH4eK3ik5PEyiiHTtSqghrFQ0QS9zbiOWxYkEK2x2vDL8jYukr+eRsQuiFw0TCHfX9OCH08F0Lo0KYmGiLEbIREIRDEqNImIRLsSOByrR6EMvCH4T0DStIXiv6G7/EeYq2KMaW2wx4fbN5L9GU2l/ZJ6/YjtESBj3/gk7/gIkqcM+hX2CPfIVW90an3/DGnlvpke6LuINHB9E/7Avwn5Q0uNvwUE3P1jrEv90W4/U9b9FO/yCnwL7RSxjKhNGylKmag+6HSChilHoLjZBfYpyKjt5zGaIsNlLiYhCCbRAkQIy9IVcbT+dtkltKNfuewocsqQ7PEPLHWV28QclACUHCkNzCiULwIZtrnT0z2ElRoWNSnD7Iex4V8C0aErCjOTlgBBKJJaQ20unY75FII9e2WdS73ZeS16SNsoT21U+EIvlmGiGr3jszaTGjjPYWsLohvpeh4IqHhkFhismlopYNrSSH3X2brKYiOwilG+MTD6Uj4Dm6+9YjawsvgXRMdhomhJaxBIiJRCCI9R6heIjwNfA5cD0iz4D8P8H3eAjVUT/Qb9XDTpNCctNPsXAX9jDU/Ua3rEXjZGhqxUuj+iL5Crzk+U+nTssurYTJbbuSL6JaEzhn9iYsF8nZJPkdLTUalU/gXc/jjKC8Uol4JBlEy+RsUVH84hZi4g0K0won1lUyAsNs5bl8l0xojxEZqk17FivyPuMUVIFpJ7KPhG+0J/KpPFpTGR4wytHs1akEbdUDaVi0VxF5JWySpfCFtRJRIkGd5xonGYl8MvjFhWbGFNG/n4FPFJbO8NEohrFJctIiek0uNbGHxJM7saue8uG+zN+xpp8jt7TbGL7UDrhkdHm57dLLhlXRuZ8ShVE1w1RhmOjJwmziQcpKwZE1c+h1dacpKkSfRcrLYzzgyJ3dyjfYkoSsOFt+WJpky0StpIpoaQpRQuMKZoKtJ+RDwiPDQhaNbsR2i67NDdPtC6NDyIpA9iNE7P6NGxFryyqbaReIxGupmmnI7aXcMeOSJZd6W8sg0QSlxglxKjJ7aPfcQKCbYqNxoImH/AMXK9x+GSfH7Y/8Adj/sT/XlzTkpzf2L8l8M3s13a/Qr7uvSJPav2a1BruI+Snan6CRUl9jf/eD1u57TIzRGmPZ4Z1Yb6G1VEKMKXG1BQol/uhOv/uhLHTWnwhIQWJJI3l8hvUo/g8qNRqFpsa+niC7iL7K5yVnL7Sui4EvyvxWgUuRhDQ12Tt8m8nWuykb5kQ+liTbOY5L1Q8K4bRRohpGnCniMh8fBCNJJwoU34UbXJurd0iElo3KtzWkOO97d9irXS/Idlc1+BVZ30hsMS6EovfXoQ+hlSSUfjyyS1EpPL4QsLVKJ7o76JFXwJv8A0scKllVP5GMBPzeGPl5W6OVGJ51v9Ak60eyKWvbyMc7s7t4eWK+zZtoV4nkwxZsoL6oprcNxa7IikWO+GXMGjl7cU/B4bxSl63OXtImGnln2cZyCtH4iXCGpHVMLpQ0JE/pdiZg0cFxdFwxKno3fY8UErRPDIJYbKbC+BCW8CR2F6DomiVJoZUeEKjUls5mq5E5bhq0kT4R/yitv4C/0Y3y/iPt/kPufgN4q9pZL2ZmiSaA0I1ehh1v6sX/ySi4/hxKv7Bpcf2RNRLRo72vKTNelfQSePuQ2NfwK3aMlVr7ss6mZZB+DpLuiHLBp2m/YkN/DgUomsNK39RUlb4SDolxrCZUlamlti03dl2O0iS2GQiZa25BRJKEtJWjlFysmqKDh22G2pOydzRjUvtPcFdu8XZrpYjexf7VHb/hCdx+YXad9o31fsJH2fpygniQa00bJhMeWcbjmN5AVfgXfj6RG90C4Ntm37YtKjcl5Q0VaJctif+lszl41htLlvsh/G7b50g6+KElLo1Fxp9CV1U08tHaOVV6OOPtvyjgffK8MlHhjpvFKJYlS+EVYbEo7eP4U2SfZjacuIToVPkZJrpdGanveotjXcdbOI82oRETa8Zq8nlI0pPvKakzDtl9NL/Qmah7NZYhi4x9t+xNUSYITDKK4YhiUQlSHGKhmxNIRCEG4KE0LOhohpcLFxBrGyLwV9kTRoaREJK4dKEQygQXgNeL6otISTSSG3lU0SDpm7gbOxXsNNrua02h3/tipM5+Wgy/7YdP7Y2cv+j/nDbsP+kxtl/LEuP2DctL+HGlU/SLn/wCkeXR4o+AlXymbNfZBLaMn2P5UeknH0/ULibfpiW3a+mTyFlTZRbBL4lnNSJHydoLqUQkuJfKEcuo5bRVXhSRC+pjv3+o17afLid/nmvs+xQMqm0414K62t77p+0byxRmxkMPpA0/4h43/AGhvs/QZ/cqb0U2zhVR/AgaWhpxC04mJ9F0NlH6R3ewzUEl8iGjh4lPtC0n8JDumekKf7+S4Ycf7Qw329NrgUH6Sa7+ho942tsSwac9wRwaG2GXCHjlXRF3ttX+ji2rQS0LWkcKyFg14sZraNohMPEeGLkeIxdWiifQi7KR0gikLjHSb+RlEKCRGhCY1mlvYYljufYyYd840yDKXCYrllxq4px0QXI+jQypOTOhExehYePPEa+TFMU2T64qW+ikxEaJhcGjRCISITIkEj0EYREDDVx7zPUhy4Rbn8Bcf8Y+H+EbnX+Zf/GMJt5/kxI4R9h8Cf6DHCvgtWpXct3BfKYo1s6m4NST8Buq9Sk7f81PF9paWT3UpHn9Mguf7Z2n+jGl6cFff2Sjp/YDSv/FDlJk9MEHGn7mmw8J9jv8A8RB3XnxQ06OZHti8E7Ip5GuP3Hpa0R9hLpIjv4Qp944JBpMnE2PDgklWNbXSnlspSncYy4uLh0Q1saxcXFGipCmEtiHSzvxRkQYhFKKmXClvQsdtigkkOGhyJIeyY31MiNFGyk6FSLOyCyuiTFE+jT7W++V0NlwulvOsVFmX16xSFJlPMITKGiZZIRCQ0QlITCD8RJrghi0udDQazg70D5Ct/gHek7lfkGEVoYLw4bEcpxpuKJq8iTBkVitM2gWn0ZiWpUaOP3EjS+/Y5JJvwS/7RpGqbcI8stHKfGpXKv7Fff8AIhz9TFXaBotl/wAw2Op+iKWgo/7AmyvTzqhf7EXZf9idx+wv9kVsQvmaFFUxj0SxtA6TFwKQRR9jsTGhX4IcHbFFCjp3YqZEcZaE2Xog8PoWEaRUMVwx2xvHY3jjHJovTKZuNBdCK/6bmd/0FjZEscZvVPfVRmloY1OjtmnI10IfVCKkGRMtneWiZ9EsPDRFhkINDV9hINKReMIGsEidGr7HrxPWht20GzsPIjH4SPAVwqjnn6iHArtoILQog18fxHDf5EUxj08/EJi0r5bEnXH8I0Rq+EKm4fCEnRy5xwzeZ5wm8Kuk9434Gny8prO1q47Gy4tzE8sproKoZSFWujS7leEy9CZc7O2GyiFm66WJK4hsv9aG8PCLoQ+haeJmdN6E+hLpTGIYjkuKU0aNYuH0NluNmhtZrLiMMg0RmksxGiJ0UNMYVJwblIrfbBJMeGlo/nV8uef9pwp/rK9/2Ia/RE5af9CRyi+hMTFz1+x/2CyF4HfDFpL9Bf7c7v8AKJf+Y03V8kNcoq8mmiOGLwQrBjiF2UpabN4bEz5CHBYVy2LDKXUzcLFEyjazC50PFQmUuKPjGlhCZxij6IIpSiuEMXS50zMwiOu66UMosa6Lm4on0diZpHbRoreWG1iDw2cFOcJlxCRq3wNvE1BJYUO2EtWiRqStYnpwiLwr8C3Vn0i/P4oS+PxP+KjebxPGMclr0Ojj+sjwi+2cj/0xHUPhsQNJoI/5ouR/vJXhKPCf0Rbdn7CNn8RGv3SYnf4RF6f8n/EiWtKGlKXXkbpv+QLzX0xcd/LF4/5C737sU3afLOLZ8B9pxo2j+DFqW/iJjdf8Dr2v7Q0PnfqM0bJCtnY4/eQVcPmRaX7bm0f7DRy/R5gTcMr3Hpk+f1NsX5j/AKxeR/2hM2m/aE3/ACC8D9NDxGuTkR6gzZabKIvQhsdLmofVRIrxM7F0XoiXQyl6KzfQ8XoWya5zopro7DnRfRbhnbD6G8PD3oeEs/Z8mXRcHEQtGzWfkRYrRs4Q+C3GzbwmhNo0jkaCRy9omCIyCRCYREJdHZsgY0RaiKEfgJTlwSesSE4Eq7EJJGr5ZqiIfYt2CU+D+hnn4ohRf/kj/loX+hO02BU5/ooOx6x9hF9sXg/rOGTXw2Jacf7j7X7x8u0pHyo0lP5BN1fa0zhn8ZzP+EJMn8Y2EaC+L2VhRw/7ovk/uNEeXfDaFRVy+Qm/7gSeXfBa0hLylGj5vJzO08CWHsoQ5FJxrKvGn5Y7yf8AR/8AFh/6JifwSb/kE/8AyiYqvzF+PyF/8ov9kJrm6N8BpOxs2zZvNKU+i3p0XpQ3hvYnouKXFfVctlZb0sjfTVlLPBS4SLBxCqUUE3jCrK8mkhQfwM4FshFh3WJnhic7nI0zgcFEj7E8wedDNF6EhronkiNYg9CjFDTEJjnnENZiEhDWEbO+I2LbDUISYiokn2IQhBBLCScYRcJZB6hK4T8GXW76Gx/20Nc/gPIz6JuqvwOtSh8pGhofpsbbbVvnY5p+0lP/AGjD416cTJ1C7aX9jmyJaWhxy7a4gfb/AEorf+haeHmf5LHZR/hNC8l9sXlftmvkKpGh7MfQVZ/GEp6P2mRpsG3afYXd/cf/AHcnt/oP+ULxQncfqJ3Apv8AkE7iHyi3H7ieF8NZS74bKIbKvIjQyzEGKnOOMOk1mlxFMpilDPBtoS9kWaJMjKQvo0jWIJlKhI3jSxujcNU1hCfo0R4mjjLtKZGhZTzcUpMUrLhEmHetdF6OR3FMTCysb6Nv+joZvoRvK4wiDwlsggkhIiGnjD1IiGnjCCSo6Gr1CfBPgcmF4g+8qNz3+A2qQNjr/EcghvcO9Q8FPtn/AFBDj9A37foH2EfZN6L/AIaZ3T8NBKa2B9n8Rv8A9kJdx/Ypbe/CZDmUDV2Mb9v8oLvnVsHaNP0Mm07/AI4aT+XXywnqinAeMm/854f2E+RBeQgTGtGiDjWCFBKxMqxPgQ/gbE2bRRlcEm9sXQiY0TEQoaG0U94rx34zYa8nYoTrN9LxaJ4rxRN52tlEdy5ZcN9Oui57nHTyIe10Uuy4vQ8Upf6KH0XpoucQYmJvwPEzCYZrDITMVIsIQg0biRDTwINN1Ho7DW8S8CPSNbqQ7sIcOP4N25G9Klu7NfYl3/YlcfuLt/oQuJ+xE4XvY+1Ge3pECiSnK18Ccnun6R5wvyaqr+mCngpdiaEPgRZhfJN4uzZxgzS7Y2R8jcxsRofwJCxRsbw8JicxYU02JjaxL3xvNy32xdiwqaxS4SxrMxCYbITN6b0axYUpRdLFjtiZapx0o79EJjeKzkpcPF6mUV6LjuM5xXlHIxrDWHvGiKEJohBpEQY9IpMZJDeChouE3W35RV5QtvSw9IrI+4mivwys9cDoqfLN3RT5KhtFrKhteSl5KIUqGKorgr0h3zljkRun0cD+Tcwr5IuRCgh3DYmirDEbIhCvTspRkZWE0VYuN9xFJmYuUhiRrrvR26k4UvR94WHjYl7OCiymPRepi6IQjxd4RSjxSzH1hDw1iiwqRjwTa+Rh0EE5IhEFE0iG3ln9skuL7iQ20/1Ne1/A2f34pxKK028ODc0X9pnFF/KRpl/pEU+2B9hPyhN6xTuZD9h8zL0/vReQfyJdvyzsNN+iWq7em4PzntYd0b+kz7hbpU2vAfNtn0bJufzIiNp5FPyvliO/+MWmjEG1ATv8s0a/Wb4/0k+VfLF46S8xnjVjINSTYVjWBU1FPkvx+yNf99Cfw37Qn/5RpX+QTv8AMj0v0jgTE3qLFvbFxsoujUFiofQiobwsUuIzgTQhDJi4Txeh5bKii6JvD6EOlzS4mF0TRrOyiL/QRSLPrPGE33xRM2PDHwLLh2/Igi1ogk2JoQzZwINeyMShoSU4PgjGQRLgj8EEl4GJCCIhkrsQJJLsJCVkjSYkvglPSOJxEleMeSMaCXwNX3I8tCVXwNAmkGjm4LuoJe+RcwclipwaeiGmPJ+YpP8A8hO7HobtfgN2n8sKaRo5718CvI0PcvsrDsWvtjfpP3ISReHGGv1Hr8Fj3uRb6SHhDZV8NUGkSM1slHm3Dfgaf4ERBVufiB6CVfKmrX3Da/xETf8APNVa/c9WfTJTT/qEvlPwmxHa8p9FKcf00Nx6/k5v/CJz39CG3xryjzI+GmbNmegDjtP7F3v2G7hfTYTv77ie+X6Gt7UvaYn8D8oLt/oeCvwF2PyC2l+4n8S+UVuw+1hJvY/jNWImWCaZSjaRryawxdEmOM3De+hCY8pdDeOR+v6KEsI4FmDU108Y8j1D6E0FLycDeIOi1yyJiawj7JBlEKhnyzhQQyyezfd5+yDpNDFSYhB7xuk9EI8MmNT9NoWX021vbQt3d6BxYtPkJ/inHxEJ5KTPbo83LgOYETm4d3/1jdfdIxT+HCFfQrGnymOibTNfSLzrnPDQ6Rt9k2OjbunwnFFNzjURSXhEJlkItaJ6JMuVVavzBrYiXJEJCCMCSQ1exPggRUSRBIxoasgiOZINWJkyGqR+Ibf8B/w0O6b1+kbdmbwmzufRo4TZpV8NjcTvT8janD7jHKF6YstP7iE6lfcXGFt18ToSWmfMLPS+kbtN+SfY75OjX2DRRr4Pg+5jfwfhnFP/AGLQr9wdf4xaOfwo+ZLyHO3+Ijz+6HCpaL+NC5Wv5ctx/OLyfsLjbJ/IXio1nbj9j/vi/wBiinH7iZz+5636VeUJq4pvwb2Nw08b8EZMJ7g2qaOTRULaI0bpoa1jsNvsIhPZwUbNF+TgjVCScm+iQZCEPo1wJeBJFSKKFKxGauzWmN04KJre0OFxRt4jeI/Im+m4RwVE9jwr6Sa6/BDxO31wjRlDHc0kzZ79wG2JvX9TXlEGqN/b8jaU16jlI+Qkd9sncdbZyTrJvVpPJKFsRWnNi8hEwoO6sc563w7InyyPvYg0by/RabRV8i+Ru7kkGinDRxlJVipkfZ915IQedGhN40cfr0ty+STWFB4kKuiDpB/0FzyFXrD250JDCggyDCSII8EEEkCB+hBOPoJH4kN3aX5/JD7/AOaKu7/MH/qRnTcQ4DiHX2xtl/LH+0RyiQfhxiGiQdX6Dpr9kK1/dISm5p8Bdofyg0pU1XJ9HtBL5/dj731MW1/CJcufoJm3HwP++hMtP6ljz00S76T5YjK1+w58/sJiTaL0xrg6H/3hcL9xcsfpbuj0sOX4F1TxIcQrwNPI2rzmpdzd4zpIlFSlKxU3mEzU+xMb7CTOPZsQma2TD0JLko9s42I5GuBlW+0hCvAdkgnshKx4Lxa6TGhtpPT4hQnye4bDZB91gxt81p+QnaO5ODyzfVcfs/CE/NERqyenDwGXhHn3vcLu1rcxD29DbxHhMZcRVfCYtFIh1cURr21OBJ8aNtq0l96EsNaVeRehkjbRJNtilD4BBgXInsLcZ2YhytW7Q9GIGb7CYS64h41/RSwsMReh9VXRF0LuNbyiHDoiw+HicYhCeViUYhCQi8EslDU9CGuEDBeAerR5EV/xD/15X/EO2/wGAmdo/i+GO6/hCeRVVl4tGko32xuJIL/AIh2/4MTR6HawNu2/h/8AWhi4jhqCgme6VlFDkXOiiTGvJ8G8RzkkEynJG+54PQxFO+UhkQksaQrd8hrab8CurcNrreYzvtjQ9u0lf0cajl8mQhV138wreNdF0U7nYVLUSER9L0puCSaJPup5HuvehMaF7rEGEokMW5a07pGtOWtnlj9qdxxwqu+W8O92oH3OqVtJIjx26N3DwhrFxf6Mwh89KfReqZmG4MUJnRrD0sTSyyjxu6O43xlDeJhDWUj0aRUNX0QimEtEQ0hClITosaPHFYkaNDaXoTMT48HCEOe5UVConXxjQ2jR4TKl2NjThEIQUY9aLuG0i+zjdLjfg2c4a9nfFuIxFLrKWHF6UehC1JQsLhsR2HhzDFCIpfAsbJ7GjQlDkmxd6aPkXVrc18iW6/6B4Qnaib7D3AwiDY8U3h3D67vK6aylZcXE6Gd+hsWHjtz0T+hd4RyPDLEUTx8EIMSO2sIRq4RrDmd5TOcXZxWDCK7ElDUKiIaJv+XItNUfsNC5fpiRHP0z/qsf/vbGvTPuKjv0GOCmVb+p8n5yb2B42r5R/bCMfM/giF3UhNx1+kPK/ni8f6m9xXyopae/yHK1PhmjSfjNC0CY4XcZvzIo/wB8TBLtO+zcRf7tCp3vlDXzb4C/254HfZPhP0mWovwa8rBJkpUVwJdDfoqfAzsE9m/A3hXxhbNHciNF3hMbSLhii0W1eIra/wDVYr0tJ/CkUFIlqDLVqley0bYO4JZZ2XhhUUmKri5ixrp3hMbE9lQxUZro2L+isvpqGsXCEkXcNDYosPDuIsopUU5O/A+SYPCxXntoXsSzMKUtIVJCaGlKVDYk0RiTfc4rZE7Ek4EmIk8GrEifBLb0IrajV8kjtQXmGw99sTcDjGfEPSol7j5iEvt/BJ4R9IrU3X0OH9pHdbvlIfN/GK8/kf8AMHvr/ob1H8sFBrWIV+Gl6bNup+2NW20lzNe8c21L9TnofMXgvguzf3FzSflMJ5P0LHBJbv1sM6K+x9sWlJEkql+SIxL7kiHIfmBX/wDYSEpf2aYgtLx+sTrbF4bCX+0JvbV8hPk/9Dlv9WL/AATHhG0/xBDqPxuKDZ04rb9Iey+ogbZPnVoQkQlqJTZE32mirqvSYq2PpB1Q19Q+SwkW0/0l2klv2wrxrfsl/mmIbN+hPfFfKeP4Rp8p8lXP4wo6Z9BM4/EJ3H6o/wCGEz/OJPKHWVi2JHct7MRcT3h4Wlm7xSl6LnnqnRsYyCzGIg1lCqK5i4mLhaLoWIQYrlYr6DRKjalEiIT1rF0USIQ19lKMRURFF9FGtY0pjjCZCKFIaxTdx3Zwck9kRMQSbRHiHcmhJGsQiw8tIjY1LRIyQSciQYSEkQiQ08C8AkkQSEhBBK8EgkIRhJuNSfA11pEtj7n5H/NQ/wDWDn/YDdt/iLqCW5fxkzY+nj+sfEkfAOTaeIS7f6hL7f3EQiIuEU/J3wFj030hf6EQm/1IlcftRpv/AMI0jib7Yly77i8b/pBF/wC5Ll/2zutv0ds/MV6f8jTz9aCrH+6J/wCobJxg+6j1B8f8s7pL9y+mj7idx+wTO79DUtr+aJqbX6nDP2PIof8AEHh/ML/fInmBfX6XcotZ3n6K5i7wjeKUTXQpoiEscYbwsI7iu16EguxDhsbFNC0VlEpIuRQZWJvCQlvk0Noutibojmwd0UWxJGiCUxPRE52INYU6GxUdGKpC9s0bgt9hogl5ZM0uyiQxaQsP8SCWcNVdKET+hrzm9F2USIaouhCWFiYlZJ0Gl0whPAtBpgoGrPQSJTZxinwNSiggaPsj1C3ZHLO+kPffxEp/2xvl/Eff/MnwpwIEtJL+bF51XyO+lfDCY9/rNvSJ8foT0X8xjjF+KGjvfyg6ua+VEtN2ykPYF2b+mQ7n2zfyfDaEyj5qZypPM30ZJN3+Bo0ftM1AaeSUXD8uKHH7E3AvkLZv+NHlV8ifCOvD/sTeP2P8NRN/zCRqpoT72jclHVFJCHBaiY5JDUbUxD6FGzS5KiMpDXBCdCfodLgSVtqG1zBvwUTxse+5xIKvCGxMbRWVidKy7OTS4RcKRHbSLRYon6w0kU5bHELEdvQ0emqJEjRwIQ+iH1mI7Ypv+il0MmXim8XHCQ8IoqsawivDzC4hBZixrLVRrMEI0aRoajIR4P4IiBo+xHggk8EnwPMiNjVnqEoasfiTNC0h+JHqjf2G7YR/wF+w78jd2Ee5fDG5SP8AWa/8mJVhLkjNLhsMJRaNH/qiKaPY9BC8cPt4Bt8UjRsRcLSMcGyPexKaEUpoaRF5NFg/TwilNQT2RmNoqHqF0PZYJvwbJuiVIljVEU7io3MIazsqG87KisToh84WIUQxYUx3KXNzcXFnShp/0GcjTJljEJiYyYfXfWJipGhk6KjTxCCxHlvENEG9j4ITHbCWWiKmztiV5XDJrkShDkUECaIlGhPgZ5+BsnkfIm8aNCgmpwX0OQ34E2aHBtKbPsXAq7iSIL5DfVrYi8EpGJLuNiZWJjEeFrdK8VG/AtvY3DY286G1lRihBZUSy4RCROu6KPBdEKXDIcCGfRGyMSwzsLeGxNiw8p40UuUXGx76O5rrlxCnOI+RhVh9FNHY228NvQsRnvo8l0QuVpZ+WcxzY+hI8ew1l8r+Y7ST+Q9X9rGd6fYXMq+mLWSiNTVvF5N/xiqU/EO39gcVP0E+f+w/91jk1NNH2ie0d9MbCtD2WiRDqLvilfwK8JvBS7C12FfB9CUe4Nr2JMT5NhTLKOtUURU1yfGNibRvFpSiOxRimLCieNDK8aLilCeuCG+ExIYkMeH0MqFllOMMXRMtLphq9cwqXEWLloaIliCRRs0TQtdCkwuemt8C4Exs5w3e2GtD+C5SeYaKGxmgVE4pPZPYleNI1EOvBFn8A1f9pIh/iRs/tDc/7Yngl5PMGxb/ACHqT/E85U3tL8A2x/8Aod5tfTC/3UTFS/U7v/uJS4vhhbHH7nfSfR8SmEn4PIk7SX4qHetz8VEtpH4e7/B8Zb+Uef8AFDLX1DNKm3lqci3qDd3y17l4C7hZO/pOvDPTP/Yijtv0y77H2Wf+QUnP5hpl9+2JP/gmIf5w18MKUt/AVvlr4jS1r+S6sfkXdf8AA2P/AMEP+AFetHqBXxTmpin/AH0Jt1fhc3+Rt2j6RDZGlitLn88ci+i4qyfZzzP9RlTSi/0Vk/kJdv4zgaEuUfZ/3BbH/GLT/wAAuf8ACH/XQ6pfxBf64V4/Q9f9KcJ+keUNhNiqKxJskuN/hvwxMTwaC2iYpUVFKUrpd4fo3lDEVFwxGsMQxKZeNvFzByZohlRsQiunOFtYWILLWxtXnG8Lo2OXyE1iKQhqH1hJGktkK50JMmIJEfdDWuDZCImiJGsXWx3EVpUS4TZPLImJJH4TZIJLsRk9LDjxThxCBL3OXBBCE2wmV6EDLi0LxSN8GwlmdKJe2lil4ITQi6ExINCnYkaeEeiRF2vwf8gs/wD1Qv8ASlnv26Q3rX4Cv+MSmv8AyG3b/IS+F/RXQdqlp68H436x9x/0Pm/EvLT7nDfvPT63Jd0/BYE9KBq0v8OGfagk2vimD7CmW1940o/5gt7+Cx+2+GLUn/KJHP00XOap5E7s+i+2wxtFR3+VEpLf8IT1u9IQW0faFbS+qJTSCv8AfykqvlzU/wC+dlq+XE7hPtMX+wOz/KItj7L/AOIJr037PB+gm9n6b8T9FboteivwbNs3SMesXDFyWmxPDYLOkzk2ilEMWXRJITwsNlxohm2G0tlWt9A3iHBS40KLgeExtUuy0cLeFmECIT1iMsxtF8spwyeyIsx8ZWL7EU0aKLEKWm/BMaosbNshEocMe8J6JiERIRkRCISIxsmFiUhrERMRQns44Q8NYNEE3iD04EFmhRHg17Dp8CeojwJewgUiEncrzn5jTkkWtZ9I3aA1f4hr/Cf80b+WDZwv6y7W6+GxPp+8aZF+ggtL+xaN2Un0En/ONfBd1fekJMnuqEuGf0NWlRQ5+cXPBP8AoiD4ZfDEuXfpw2XyOW2fAm/sE1t3wp5E/Q1bDjWe3f5k9uaFP7rDSuf2K8fYxOafjEEnMaqp6+T/AKo/9+N8fubP7xpqQZa1KtRBTymLykWipOx6icERxotjUZs9loiOm7vGwWu5WxIJ7G1cNoQ3lpsVGn5F8m6a85vI45EfCEKVingiwh/BIU2TG1jRAxwQn0aTzTRy8TZSlrhocxfHRRJsna41hUosTo+EQ2TDODsLPcjxBLO8qjTYmzOhQaIbHlQiuIoT0ISvKxwLI1wTbwgaIIRkJERsgRmYn4kT4HIv2Qt+BItRDU9I37L/AJQ2uu/mE1zfRZf2hz236FxFQ3O6Hjb9PAC7bUOXpX2Ekxc5GKxX8ihVV8lP7f0n0RdwYT+VZW+WVeCLnD+RCWtIhsXoKLsWjr5WOMW6xz2Nn2dsJZVSNzwKrkonsTb4xZELgjfImJlG9iY2qPH0yFiLGazRixSql4ynBs5xofQliYbEqS50y8CYxI2bN4pcsRS4RcUTw+jsssvQi57MSffo4NMfJtYWE0N47GphG8NYg10bvOhiR3NCSRohqjLiTudsRQ1jRqiak0NLAitdxIhKvZCMO2eMdhfJrWE2bhsrI8fQvbGQUHMUN8aO9IKmQ2ijeIRkiKVPkXGikHsiTYxch9C0VTHA2LDtw68cIRDfhIg1BFHfBc8DFi7G8ti6Fq4uUy4pcUWuiCJ/Q3hibKM7Z3DeUU75uysUKJlRouUaLi7xSk0Mg4crHbPJNCwmMnGId5hESNPKQ0Gghu9jErtlRxFbyUS8SXXjBXiI0u5bvCaKsVm+yNvRs0UWbL6ZSryVdkc8CXNHFzhVrGl3wmavI0zSH3KJl3yKQ+8J+xsuGsVm8QuGmb0iQuG6RzDw2zYkOF28aO4xPNLOxcN9C6Cg8EsNizwLFxXilfQucsWHjsIYsPC6G3mN5iIXEZNFhXiXohUi1lrPRwhLLhshN9HYRvBv3NCFYI0mM4BrwOQOAuD1hWKgd/8ArTXr9xf7NCW//WC8h+D8w9pHlhfE2tr46jU+D+Qh3vkviNvb9Zrp30RhK+VTuxU1D8MceH/UJn+Rjbn0GxlyiOtbPgrctJW7+My0/wCIcK1/VGqtviT/AI4/4YTOf4xd5P4IOW8tJEo0bplxbDvCrx39ubZ/JGn/ADR+D7uK3P7iK3Hy40OfzxM7r8uRb2/GJ+v/AAzsz+MT+AUUTfpc407JOeq/Jw37DQ0v50er+y77/wAEf8Ayrn8UXbcP+qPtP6eVX2J8n0M9Rv5IFxYy8KD3wTbHRPzkrOBppVnK0XeC+ClKL5wndEKVMoniied4qKNClGKXOxMRrGhJwVYbg2yxFHlCH2QvBcIUN9fcjCe+qEN5rEzaHvCGxY4w86EWko3STcExeSISSijfen/cJ3CCHnhEJQ+0Q0izfSQglW5gjwJJEa4IiPBBBBIgcPZbVmUGUVE3XaJE+GN2/RrxyV7J71iKYSVsUXwQJNG33PmQqCfuyL2HWxouEjflIUI/xQ4f2EeL8BL5/MeiEUxfzCv+Ef8APDeobSSV9B0ar6LS/mb6XLOZF6F7RPt/WbBT9ivKjxQkbi/c9r/Lj/2MXiQpGE+Ov7Cau/sGs4i9kXJRX2IylP8Avof/AAhCL7CENJL2rEtnJ4IbHqDDy+gu2GZuXuWk4+gaKqeG4mvP5MauTfKZr3T5ZHn9GJT21fIV9wLXYzwfOpTktl9SPP4BpVf1oLuJ+w7bR+EWNP0IhxRiI2PdM7I/kLcSa/lxxv8AMOIl7Y2SPxiXKSZybQ5tG2TAu3+xTp4h/lNd/mKLTPsW/BWb1oj8G0MJj8FE1xRMpWUvsuE1soxsXsaGWaLeWi5gXJBiLrnY+imzQ7ieTQtjuO4Sho2Q0kX4EqQ4ZRbX4Z6X+k3oanRClfgkE3YbM3mCSnsFyQzW8qvgXkfRN4ZxmlEstLDU5END2JVYfyTFIJEEIgkmQq1EOk1pG6Q0sRmsQ0T1jRFiESZKIdzg0IIhScEIEkQgRYa+BKuxt2xTCOURBr4IYV22xD+I3FbEqGgl9H/ER3Zvwh/2BQ++6jV/YJ8fkW5c4ElpQ3dpwMfbGx3/ANs9yL058B8xKn/tGqrBjwn7GhRKF/qUxI4a/QxI9viIcIeQ2o0eqm78m3n5Rk1uxq/uBLaWnDUmo5LuGnl/wMEWpNP0HyXe00xN4X+G/aGuZRTZtG/1iHK/U8X+XHp/9gncP9sj1TRw/Yv96f8ACC/3R5/1Fyfyo8bPsb3P6Uf9wjsg3hS4bLuLDmqIeDNwuh86EduMXGhNHJYQTbGLoXKGyoWVrFghS8lNmx3HJu85hpFGlU6Km+lclNsZshFcU7HumnhTu8tibxdHy9FzyRZZBfJMbLBbomQ2eyoUZrotw2LEILDQ4FWRYSxCQZNG0KnPfE2NCeYhKjWEqyLvjQ0uUQhAjBGDQYiEhIiEkckBO7EkkQkhECaPwnq/B6P4U5/I/wCCf80bP8Y7v8kP0vs4Z/Nle30ZCp/cH+URTf8AME/YiRtAgp/ORWig4/pMg2/aMYH1AylF+RC/wnlP0M7B61ftiC4/Y/6Ec7bIkSigl7E2jbXAklzhV3HJ5LwPwRWNeA2XLI/OFRFc0qKp5GFtGlyJm6bNvSHRJu5Gj5EWW/JEPQqU2a8iuhRumyzuR4voYt4L2MeNY3DWLXBdiYmkPbw0jk/DYmmMqEUr7obIhohMLjGjnNN0+y4eKJ6FWQ2Jm8KnfHGatH0UeFGhLWbOxT1iFRSix2zGxsu5CLEWFcMTGkI74ZCIiwkoOeBpEEkRckKhBJIiEhpzj3ouuCbxgJBIQa8Im9MbSO2NY50cCo/oSgqNIbhTY0x0Sd8EhBBpJCn8YSIWMokKJPRx3Psq8lR8nI0kzQmhN472CQtdxmkeDgr7YuzQ9ZYW++OBo5JMMKFE/RazRFi0uzSIcLDscITuNmzZMo1htFxTRxlKGjQoWFpSlQ8d8Jo0dhGbzd4ZooSKN5glvYt9iD8CLCEeEPo4EvLPjpTVyhzybHjgrW4KsbRLhexISiynkWoeyH9lC2cM0VeRqCT7I2+WawmoJviYvcTtF5PZ7Y2VFE9cF2cuCt9itFCZXRvZcMUE/RWNzu8EzXJqCGhTwUYomJ4YpaMgjgSvB3g4UfsUqF8CpDSx9mkmVIpobnCZRHKKdsReTRK2xyaO9ZVDbxoojYmbZMQ1irwJ9F0IZNExcUp22QjITF1s74Rw4bwtZuIQcQZHjiFeIgnrER8FPZR8j0Io8W40U3ij3D4GzYstEOEP4FrRqh1WISFwRyxcLeVNWvpo38H4TXCdgVtx/SJa+zaFDhHkTAuQu7j9yf8AtFL+/F/sJZWvxlrP2wm8IKe0GLDt/YvZ/J/omf8AfGuGP5Hb+8f8UPsfmPgflGv+4Ue/2GOP2InYWoNzuRt8YjmkJmzgFVO4xfZAmOi7EKm8NlQtvkTSNTgmNeREd2aL6KKeSoxtXMLBpNciSKpgTWOXitcDbK0N62IW8Q4Kyso2zv0JDTqeFG6XQnvCGywrHEbIaGLgZtdjeO1Eax7GxZ3DZF0VIbwqcC2fB66NwZSCSKcIRTcNlKijG8bFlDZcUfGJztgaUHxESErIK8IfDGsG0iEy5YkGPGEeEerSR3U6TNIKe0Y3/iF/rxPa+RoNumxfAu4b978DpX+JTn8xueBu21f2xv3X6RQKFi+NHC//AFNbr/c/7Eg0sEvS+thRpIeDZs9LgbdL85nxUaf8IlR/bjLvt/CF2vlaRVr8Y/8AVDgn4DwN+TS635HJSPqOCSPVp/2ZsqLx3+ojw/7Clv8AQjg/9w3gfKbF5vgqHPhfy2f5E2dyr+QrVGav7BbVoiSld4GemNP5/KT5/CHb19mkIdPgb/76EOX/AIJfMvo+O9JCev7SNeQNU1lc+hI6rH5cXZL6bk9VPuJKv9Yv9sEabqpfLHaSjiDc/wDQ47+w0cka/wAxXxfApP8AxCWnfzD7TftC5Y/ReET5RC7p4NsVb4ZXqm8PtobixRvuUtOcXCpUOCwTKO+TRpYhVTeFBspy8PCw4caEN5RsdxwVUbwlh6RQnhMaWKRUcOzYnAm5WWGbmhSQi84rGVjeyH0Inoj7ihERXEIcY+hV8BMJO9NKJeyI00JdxrxFh8seNl4EiJPgmNqzRYaGqTZAk+CIS9jQ1l4qnwEkQg1F6InoY+ZqbsZnwNfA0EmoNWIJkige9I7tiScmnckuSHATeSvOCTS0y2c+EJCPCghvhE8EP9CFXf5hKA3Ov8g+d/gJ7T4uNF9OfwNnd+UN/J+t+s9L9YnSr+sauFfDmzUfYS9z+GGlHH5D7P6SLpXoph48D7P9IRBcvtpFOl/UXPXxJHlPyJbbbF4CU7h8zYp97Ialr72Eq236ZB/5Cd/9GXUY+AkNcfrcaHzl8Cf8ic40fUX+7Q+M74hS5t8I9wJmoCLJHn9I1vaPuS5f7Hfbr5YXGBbteDsok41/nWJ3H4i/+dHhb9BQ/uoXa/ZDZ3RVwnixyovhlb4g04b0sHhO9ijmE+NDZE4xJmIY7n5FqQyShRyQmzloWNuEaTOWNYsHw1iBPRp4rFS3TbCJSvsJtclfENu0uEOymmcYfOhDonEPZIhJZiIjXgfPAmp0p8opsXtERMLGqVUbe4bJBmxJ3KmfBoqJ6ITHJF2PZo0hNHLgRobR9CRBCR9kL6NDEiCwRER9EIEoNIibwgghCJjTxiwlQ47DS7HxGhOiRSdmC8FglQ2gkGfQIa4F4LGVv8Bumn4L/UDdt/iO9X5nd/ix0Fod/EVQ7r+8cnr9BJr+R5P6Hh/3Jv8Aksa9v3jQ9J+zRr9x3LuSSZPyQk2O/oNf+hs0gmkX84g2k/8AIXa+xD8v5Your8s28fyF9C+0a67+S3+MKkoCTagnw1+iTubE8L5xucnIkaXIwvgVxuCXvBT0LgWuRj40UckEuHWIkwWNcmkNsjxwVChXjZCo2bXKEyY7jaQ2mJlZRM4wy8YmLiiZrHbC13NFRpPFI8bkghKE6HoTFzd4WsplWfsg1hQZDhHOLCl8iXTsu9lpFnQsQNEIjiEbEswaJiDRBQg0yEIQmU40fA4DkNCRESbIfYjwQIRYQxQcG4Ig1L8HrnpDvxGtiw9X6I8CbEjZca8HI0NjFE0UJ4U8C0LXci7GiiaZdjsKLeivGkQSR8MancWOUPNKyPlmlNHfH0OivfovgbZCw0LKRtk8HHJR8CfB9H1hFa0UpCd8MWdMbLg2J4+sRDRos6Kn0RmzuVFTHhN0YlBvMZy+MKamYz7xIaGLMw3jtUJY0QuGhGiDZNCSOxH0XYyLsIWNYjo8rEFi0mIPKLaTHBPgZNpsUaxEaKjYkSYu9FZF4FN9tkymsViiHt0sNGJ3t0Km7nY/kU7KGs6WWLknei2sv0qLFHjl60jYlyyCcwuTl4mN400JeybxLhPLpsVwmhsQXK0LwN60JoiGky33KNnyawri0TSxopWcCZPWKVO4WUcCZVcaEnj5KJ42Ibo1xhWkJjd2Qg9dxP0aI8MRrDN5bGUYl6ENZuKUmUVG3jZIuinFHqCUWwp7jluH2mhP2hquGjbweBmxN3SNpG+/c2TuSsRzOijQlI0htlfcXZT7Nd2ioqHRGuBQuNYR+YvhZWGxBpcI2MV+SQpTYuOSbRVe4/Raio2K8pErLCsWltn2d9dFXkYQfAliI9CncQTRUMo98HLhwUTxSGysomNMeKJvZZD2XCF3z5ZRYQ1hPGUl3w8IdNlzSm8USfnG4JPDWii4KWihpGsPnF6YJ47QYkIp9ZTEhbcd/gYtkEWlhSq3r8sVrX6xd1NfDaH2/wBBpQn2Ku39zf8A3gv9wJTtvnQctC/6Ja3FBr4j4pNf3yC1+aGyR19ITv7hyV9YJpRPyJfZ+R01PvF7TpP/AHzVTX8or2deY0Pvv8s7gqez/pMhw/7ZLf8AKFMC9b7K236y+6hf+kp6r3Be/wDmHL+yHL/yCDdQnxw2x88Pwiib36hWr+Zcq/AacAHzAXGMtn/pE/j9Il2/vLrX7TbGn7ngr9z/AKY3tUvkE3/IPjfTE3UfobAjwSaPb/UeBoTNCay/8BqTcX3g0/2Rwf8AiNv940b/AFQ/9mjXzfY/9gL8GQHuR5LOUG0kOpI3OCl2y4E6R8q4scHYK8Q7lL5Z9lhXSs9s5T2JIsxWbLhQbKXC2Nx9C3CEymoIuK5hNjg3oWNdFaE8xFLybfBGM7FJ7El5NQXGexouy8CEaHhY+sSjWpZwaRUcD3S2uYPyCF3hQSQ0aFQ44JyLiEREERqYaTIu5AkNbGFe+MSTwNUokQ3Bpib2Q0J5hHc3fGM92TgQkhst8h+2F574okTfA7UtNVotdy3yJUjumPz18Ft8Gj4Ce6Q2f4D/AIZ4PwP+Kf8AORt/sISv8Q8X5Diun0sWdFFNMNzrIyo5i7a/hG1QXxg66Uamn/NikS/m6II/2C7f7DTpK/TnYL3Yu+4uiY77KRW/7G0kgH2EfaEtc/pwSSifoXWqfE7z1ep4/sEtMsOHH2L80N8/4WQXP5Z/jozVW77EOW/dYTv0ObTfsC7/ANRa2knf1N2/qUT+V/YaO2v1Bdkeoco1fQ1WmRjs/OKYKv8ASPSuR93I8/oE2KuPIevf8Y1+HymUSagc5xIf3HhlWjPt/gE16/IJvH5jy/qjxP8AoNN7X6RpVEvdEIgmnDEn4Ib5hybK0J8DaW6QyopZyNmxMbLBSifNG/grLhyd8MVO4tk0RiNDEFyNGKSD5HuGWnA2ocCLyysg1EL5E4XeHoXofQ2fIn4eHMXDQ1NI57CpotesKC9oqTOcMVaNCHCIZpk9Y2NCSxocZELRs2KHCIR20rFp5WhUjGsJrkg8JE3pGiH2INia5EngiC42RCHBET4HQkwaLZCDCIiQp4EkNPBzIGo0IwQJfGJq9CRLRCU4cEsmm+qT4JqcE84u4R/Q5f2hs5d9I3/20V5b9D5F+AbOSK39sbnWEFZxXu/rJcN+hJXH6Y62/sPbv9T/AK0W2fpErgH/AHSupvurUQwkCn2fpDr/AOiHvDSXjp5YU1NP8nsXvRNdCXFT7D834ZsTtr2L/Ys/7R/0GJb5l8m/+7ii2Wyr7v4E1yHcaPoJHm+RunoO2mre0DVcc/ojV/I0KsT69DgsSTQvqIGyNgyI8EEkjeJpbEkTYoU47M+sbG21BIqXkTWHjfcrYouT4w+0JvYjV0IpZ2KJlRV2LnvwbO60R4j2KzZoom2QOBQpSPFORRcoqKOm4RYbIngtZd8IRET0Ni7HbYiZZRVsejY2V0pyx6JcaEOChoaIdh47CcZcR42yExzyJDIaSFzxhJcjShNrofAkhpEeGIJCIiGtERCIZUDwRZYZNRN4ETQkgkaeBBAlGsSTga8saXgSDTweolDd2Nn4NIP2J6Cp3hJc/wAKmp+wta1vwJ3fmf8AwuEa35OEKipBQcINaIQghvtCI+MOstR2pIis2feEm+WaWHxob1GyIVDhueD7OBH3nfDIz2E22sSdxN8GjcJBE2OonvE8j+TjG8M0uw1VT7Nk9kEdyoo3G23pFXgSOMJFg0jXY4Ow8bJO+N4+xZ7ro+OiOjez4x3zUXwyZYkipcFYsExwRyU4Od40NtcluYPgmGl/QhwKMqRo4GxYeHjRp9RibHAWgTSD0Cp9xJLDZUbIJY3D6xRsRGJ+RGi6xeEScvCrL44FwUbncu7h6FPOHGNexxFgmJjb4hcNiLMKy72MuN+hXlsfHGLro5ZIVd1h4iG8U2zaNsjo5Ydz0NhjeloQbJRI2inOOBYLYnDkcQn76E2UQ2zZSicRsRHi40M0impiRCLMNpM0zjGxMomPYqw3NtCk0bN4uIKZuxK5buGLCWHI4QiR9FwmNobGmXQtjVU7QfdsWQps+BKCFK3SwpWfaOSS7OBhW7G8ONFZVHZzhbHPJcM7jl4Fs7waEkltC9Dw+KN3sVYrR88LQl7FrLsTRUOHqlgmUvk742sVDwRBYqLrkh2PdETCuFmlwha5NeSw4CRYUqEM0UTwvspvOsIqpumhIhWjttkK0UrO6NYpeqM+8JDLouUQhYNiLiLDgoivFzGQ3mHKHwO6E8Q4KymtNlq5LrEWPXdjQo2mozXomqfI2qfwjaGCz9BK5/Y13+ISe78m11XpIeb9UXva9omV+Slz+QtdT6h5QIF2wmp7S/YjL/Mye4fLFXy/xj3x/wAYvN/GTVKaH2g18ilKS7OntUK/9wvJ+g+Z+qE9pK3yj2v2h6v/AHLvX7HD/wCg9ZJ+nga/S7E73Q14HoNNLjY3ORPTd0OibrGmOzgSqQqsNCfrEdwQ3vZvFQ3vgoqJGpyJDXYVymVYTEyztjjERDhtYvo+hIqG2JeWaKi6ENCm2+TbXJtMhY7jGuDWF3ZovopRey4YtCe1hQ1cuMSSLsrG8IvCNYlRB5S1vDG8s4eN3HGUw3imxZp3xfJTWGbxOwux/IFYQpiWmSQjweT8GS0eiDGxHkarFB703RCS0LXeh+xEkFG0i3qnbESH2PMqx/6Iolr+DZ/hPj/gVd/iHHhjxfiW5F8eAH4o+GIIVKPhsduP6yWkmvhsi6yfcbXv9Iv97Honz2S/yR6d/lsS2v5Bsv00d7/KaU1+zecvw0/+SQt8/BEOPzQ6FX3EhQ4l4gSpPxC5F/ANzU07pKPsN+ReKvqRVpWVYPjn8ibbvl0UScC5e3fY0xy+GbY9PsUP9zWtfsLh/nZsqF2X+0p17Womq/UO+wpD4P6mpJfUgg9t9Ixp2qXxFdNv+EHXf7ojE6/Ry39qRC/shd5WP/GPlhFWfoa02le2P+ogpG0S+GJ7UX8ZBVrP+sV/zm6J32ad/Y02V40F6D5Qmb/nE7j8wndv6ctIb8oSbL5aG33RGx1Cjwn6wWxHeDqcFV2LCiaRazibKW4WhxYsFyPnN3lshcNNlRBl9loy0uy7Jshs4xwJ9EpCiwjtDiPPnCklRNF2vkXONlWtF9kQkJD6H8mkfCwim+XwbHIKkvLG4hJ4STEhFSI2NHdESO3J9Dhb2GkRGkRcwarElrGh4kGnOKISHBoS8BrxhHgi7DSNhLwGkKdjRsL0OXCIqNEI+4kTTGr7CTwRTaH6iQ2WCWkZks0PAldhq+UJSO9HtyNbaeAerZeJF95B6JDfa/ovf/ML/WndX4jfaBu8nmHO/GLkFqPb30Nv+zILTfofYH2KrlfhyPd+XGkv/eQ/sMJ09P7jpFH5Er/MaEl+6F2X+DTx+QaIvspFIfwciU0n5I7U822MuFoUJ/7hL5v6GruL3qItqvtUaJHfZuv8g+Ns+xwf+wVdsS8B8jJgtP0ou9+A3a/ZFHpgaja/KqOS/U0boNzk/D3/AARd/wDiX3xdgJScf0P/AG49H7iZ/sPT+xsW/wBCfLL6Ykvb/oY4/aZPn+LP/gmekv0pwC74X4DiM1/mXib/AOU8Mfk/753/AOc/75/0kJC2Wu/yEf8A6hMb7iMTQs5GrVITyYh88rCbRUltFUPouzTpNi9EWOHIN6E0M4x34EVGxtiaprnDp94WjQSbIaN5vkRUipnHImUO4Qdo6JPKffHYd7MVJ5EPCQkljWPmCa8Gt4vchYKnBdcl94RS4b99CTbL4pKXYiGmyJDQveY29kLhCJi7IjSOBe8xBDYhESCSGIjQuOCO2MInokQiRFeBV2JGt6WEiTwJJwT4xSJWQSsZ2JTUNPBE4KYpXYo+CRp3Qi8CJtIupA3cqSWl/Cb0hXn8h9z8Bd9fwsv7Q2SrBo7OPB6eMSJt0ySCWrSk6Q2L8w/NKSX8A0eh+hcxfsRt/ZlieQaFKfLFB7O3Im5zg4Jjg5F4NQqNm6PagtPgW+GcC2hsvgrNIZRSW7O5sfAg6cL3hJJLR3rOBMeqbGXiIr8jZ2MlvbxcMWkNqCG1VSrsimqjuaQyMRomfrDEqXFH6w02JJIpHbRLJs0aIsaKhM80WLiiY3saELMQjNo0U0WiY9nCIQK362aawljkkN4sFixTD2aFwfQsOEQvkfBCpLCwkPUOw8Ne8Q2IjREcIfzlJiE7iaIXzENcnfolNnoE0kdLexysLkYhpF8wacUsQkvo+hvYj6E0+wmIq7lHirEIuCehc8Gu6YkqVFNjr5PgYlzrZPZF7o20NCz9m7RxkUOGKXFKph7IkU0SIWjvlPhCpYJ1FFmo+S7E0aHlryKBISEREiwYQnE8LCeiDwsWDKXMGdtiRxC+xvg2QchRbIh41So1mbRcec1lNYWVopSeDuKCZTuTCGhLDzM+KN6JpHBNnZQ7HJIXD4ZKV6psroiU0cAXRab8F03gm2/BYb8ib52KF5HzsShoTXg3neHcXZTZB8CrxEsVopVvDGb1s0JzgTIXQ1ofweBFU2JpmiMvgh33jXY7GuhM2iV5aM0Jb5Ga8miibOTUNWYTZsTG15LSmzfkXc2axPONlZfDKNorKIvYrXbC7xblmyG0zZVCLOhTDY30olZS4swxYIRSsmh4VxwhU75puCXRHlaKys5WL0V9JuIXYO0uTuNiSGTQucG3n9D/ABSZ4glYatqNfK/RNWmReURbRNtCV74fyUu+BPZW5EMW2hN0rxYUWGOXDLp6LHTki5E0bFs0aLob0NqDnbYqx8FQ2hiTK/OKKW4TWKdxNirs8dxmjuPF4N+DuJnomxIkZtLkmFFBHBrOhNDbFZhLyxERcV5W8rEePcKtYfHB9dDeyuWNzq7YmIREaxTXkYkaSFMNvRBvCxfeN3FeE2hnaYouljlN42IZEQjw1pmwzgcIbUEiFrDZWG6g1qJCnJ7tR1vYJaLlztiXwy+2NrT3+vGG3WjwmEnsLxR6n4cRyvtYrhX5Lf2mS/yjj/fILRvsYmT3/Gj2/wAJuv6iM+K+BqtfwC3PZlzXQEha+1hMXA/kP/TMta/Bjc6/4si4/AuQjHsfbPe/DZ2mRTlfgMtJ9Jter+ouBP8Ag2yvpCqfwCjdXPaNn9xDQtvviEufyQvP8jtx8oaFoCGa/wC9I+WcWKu0fcfkX5cjKq+WF5P6NsVPkNNV9MfdT8ZLg8pa6041+e+xMiTn6Zu3+psn8A/5wWv/AMRq/sBciZ9ocv7Y7n8iPcv0gTvdEnLRfDRG+6EPgUXsfxBsTXk32o09aKimoaE7ouipwqUPLhMdxFGkWCEl5JFzhCeExPGxCqHRGoJ3p4eODRu8m8p6LvDxdCYmoaZx0x3nL6EPHcXQ0Q56DRBO8EYjCMq8CwiGhoSRETZofwxLh7NeDV0hISWEE0Ja0JE3wQkRExJ3EkGh8RJ4FuSLvIa8C0GlJmCQQShqJe6IRMg1kXB/A4nxHRCEhHgioa8Ua1tiTmYb8nqQjsRt4Q07oT4RS6/hXl30Sl/M9H9Cbqv8Fdf5jFJ8bPgS1/YQlQT7x0Jt7R8j7Y4v+9nc/mHhYG91pfhjt34JhMUj8OJEv70figci/lOSb9o7P+Ef+wRVqLa7xCWuTftBQ4fk0T9Ski7hetqpT1p3bUvkLz30xjhL+kO/+kuWfZC7QNNXwj138HyMGiP+ZHlf6CU9o+0JxNCr+NIa/wDx3gv8G5VvT9zh1+4tf/thM/zD/oTGlWfxl+PvGNYk/wC+f94X+7E2T9x8otF/lFxK/Il/5B/64J8/iZd7Qbk2iS3uU+XsacKhD0JOCoYkx1CYrS+xDH4DZLaKIO6O56mGadhPWVZcQSGyKDqaKkXdWGiFGOxdYWIR4ZFNEG4x1o4hWXXGHahWCIxrsTGhBcCN9DJyLgiE2SnIStHDSxNoawkQhyzzhQbWO+xrDbsEvfG5wJehQ7qybwqEs33GKGo0hI4xMGxB1iTIhIm4QMNThE7DQixUDREWh0+BbCLUbmJBL4ywTh5USIS28DElpFnwJV2PQqK+1p4UPAi8f8Ky/kNjv8Q3u/wnsvpGvf4kF3/gbk7+ImguyiOyibYo4H8v5ZoSe/yxf9LH5q+2Oa3r7HjT8OJX+e8E0/3ZPC/cJk4bZpQRBIAjJgfKcvml+wItsUS/pCntjG9Q0C+y32ie6FfP6O3x+C/9hI5f/Aj/AIkJ+mgi9N+DPDfgkB7X0Pb/AA8Ev/oS81/BBLX8Nui9Ik0gr4aawGUKoUacuE7wxLvTRU7DYuDsSHI3D7xH5G9wng0fI17FpFVK+7Qj6NscH0NEIym8UiGjRbNQYtehOI0u1yo9jOGKLFKWdsJopyNHhipBY1Dvo77xCIcFnk4ZWJjF3KaXSRuMWFou8e6V+S+mYxqEHrCrzsdGRkczohBRDH3CxUItxUUihCdhRCRExoTeFwQgyEIhoRCWiCQ0mNJkGy4EGggwlg0iCKINMZrCIigxFCERERKpjPcSiQNGmPHEtDvILkR8OCr/ALokcPjU3hM1MTScy0zfBBTuVETV2JHyO58lQ+BBIcFTRCi5ENkSG3i4LFQmLXbMZOBMqol3xUuEXgjTOexo4IxNk95ohurKPguIfRcbpTbNwaETW0X60bcG7mrsi8wbNG4dhDxx3KmyqaE2Q30WY0xKMuEzRrO7hF8FwoRDTK3jVNIuVhJ4mV8YWEyiQ0WG3hZbUQsM5w9nBBoSDzsuGQblFrjsFBGIhXiNYXJTfg2bZtOHnDIJJ7ozsNJjguWMwmjgmEhpjz2FyNu4SQ2juJF7C76GuBIfFPejvyMbHCFs1ls3iI+zWIma4JrgS8iVIPkpsrfckY6dhF0bEmMa6UaPFIUzvFORsh9jk5xBUhMVFG8TKb4h2w4JjE3hC5zKIaJiXDLjaRXCmpyIueBM3MVwTbfHRXKXNQ5hQqKs0ueCYqHtHJhBCCEQI0R3nDYnimijSKUNmaG2sa2hspWaND1lQ5dG2i3sU5Ei2MXYNncfsaOBc0oV7keR7YtGjwI/ZGxFw9G1yq8WFL6FTgnhaODbRS+DaYk4d8m9FvQhtiHOxVhl9nPciT6Kz7xH00mNSl4WeYKljZ3KhDeO4n3pUI2z4Quj4KdzgR3JTXQjRM3CG1Bw7E3yJPLSx4wkcMb6WhYt6ENSD4EcT8MfW0WM0ayau79iSwdh+gtWn6Nj7fMEOf5keL+x6XuwmdhfJ/nKhQrDhEdp7PXlRwTf1oit/kP5H0Tav5j7Qmvn9QvH92HVVfk0LX7C8ge1+iCcb9Gn/FjRyhVLQUduNSfJ7E7gF437HWK/yf8AaFGz+xM3ZeahObn7o0L/ANian8xLujRtCrlCfloqqkG/aK+yG3Cht4Ffs3wkKJHBw+SPIneBWGieu5UJRh6YoPfCKcvCZEUqKLgrK1yx7KkJ+Db0bFVjQ2agmckrF4OHm7PdNCT8kODREzth6LrYkvAirsfZDsJkO6EFhqLCdwnhQqmEiQ63Ri6OEIoz4NrKejWOxYkXLH6WH0tqYTmN4RvKyt+yOeOUQVZH5GmMQQUkE4wJawQadhKeqGppILuGTFN9DrFE2iJsaNcEeh+B+D7v4C8ZfQ/G/Bd0G/l30c5+QntfmPwv0fHGmOQkRpSjTaEFIYvQIqBvR1NNP9F2F+g9FafDEXz+x/1SfBO8Bo+x8BIaMlbYm6L7Btquc9f4kEnl/wBDqiUvhHuT4DXx+1J4SuKTxz7iiP8A1QnG6P2Pc30yy4/sbt6fDG3LPbTGrln6hdz9Qm/+QflR5zR5+gJXLB86Z/Cijf4Bod/VDHH8ZzoE/lZ/wR1DLjEuyr5LVpkX/QE3/KHbn9DUmlXjTN0dCmkhLlW5sT3qw/qfJ5f2E/h/2IP+8VX9wXb/AFQ/9wj0CPJDWmN6G3ZEdN+SsaeFT7ixvVRsTYrEEri70aFWO1F5KVFyhtHtMjL76NeRHcrE9kNUei0rG9lGa2RKlIhPHYTEzv08PsVQ2va0xnYElwhRYkGsJao36KciGQK4QoaIkWaIxSxjg5NDJ4LshryNbGNPFRdG8S8C8kNBInocRCUSE9iTuRDZ4PTGEFsRC9xpeCLwaEORH4Gurg9CCXwckR+BVmnoXI4jsXmQItDuJNdHiaDwfAofNCdylfA/MIPn/gF7z4PbfQl/4UNv+EbXsG2/xlU6GrRQ23DcC7T/AKxolb9D8f6GiJX3NHf5BHiFIyUk0KnH7iU6h3/20cc/NC2f+A8b6Gr2r+RV2CfDvkJ3Iof4BpFM23INtY5q/qxrX8CbKPZEcpp/ceVC7bfaYR9/9j1/2dwk7t/RPuldkGjf1pGr/wAUdlfmf8U7T+eEl/bKviYNvBJJVfka1pBft9hu0vwzQVa+iHcm7S/gNGr+D2lz7/Q2f4HZJOsj6OHRJN192P8AknZ/iL/SmjaV/Av9aa7/AAmpf+BJcnuiqdFxkdQqdxnYS5xFeRmhuF0XTEJNkedjQXDGtbNS3Yti0KGxLELhpYpoTZodGbjeDV1iJcmuw2Lkr8ZtPsSRVipFeFBii3Sk8kFKappYjEi6Lvk10QfcIa2sOprEGt8kg02yQe2sagkhIzwQkNcnO6Q0RTECWyH0fIhDVJWRgvQi1oa+DgRrRET4Eg0EmtDXwTScGY8CXgQNZwJGSK2QkJGNBvdt48sEv8ErHYffBCUPZkbEWpOMRoL3PdCWjUnXoliQYXwKpKEUvcYVnaE1K+dnuYS1uvhjkS8Z8rHtGuxUNEEvIniId4RDZsSw2zfk1dsW2ytDbKgzWPsbLXio+zjG6VsfbHfCndMkGO42zWPoh9GxHLNC3wObFRlyoN0bc4wl7Ih4To3irwRYcdxNHL1jZTXIphicaHWcFZvDWNFU3hIkymjQofZvwU90cyxLyNouy4XDwoQVQ0zuPymL0bxolIsKlJTSIlhbUN3C5JRqE4xvwXHJIJYg42JIo0vGEeBpUfAjdwlSQmGjsLuIoOxF2QNx6EOsQkXCdw3KXZT4LhRvg0iKYppvDdxRaIuYdyieO5BeRvGiQsORCZzsmPQmdhExyMePnLIkeRJ36HyRnfljOCZRNliHwiifQ+cJYuGJ3SEsXQksaxwUbgnvDOwmN3oTpCYm8LlCdwnjwJDKUouDtneNU4Kd0Po5eOOruxQbO5pIvvDaNS4o8Qe8UXGEQ4H2ErRdjgJwSHcRUf/Z)"
      ],
      "metadata": {
        "id": "-ybivpGVrvVv"
      }
    },
    {
      "cell_type": "markdown",
      "source": [
        "**PRACTICAL PART**\n",
        "\n",
        "QUES:-1 1. Write a Python function that takes a list of numbers as input and returns the sum of all even numbers in\n",
        "the list?"
      ],
      "metadata": {
        "id": "EBjmtMibsn6N"
      }
    },
    {
      "cell_type": "code",
      "source": [
        "def sum_of_evens(numbers):\n",
        "  return sum(num for num in numbers if num % 2==0)"
      ],
      "metadata": {
        "id": "Z5B5fKmuuOx4"
      },
      "execution_count": 3,
      "outputs": []
    },
    {
      "cell_type": "code",
      "source": [
        "numbers = [1,3,4,5,6,8]\n",
        "result= sum_of_evens(numbers)\n",
        "print(result)"
      ],
      "metadata": {
        "colab": {
          "base_uri": "https://localhost:8080/"
        },
        "id": "BCiG9P2rujPU",
        "outputId": "aab33a0c-c0a8-48cc-ee5a-89e42c800950"
      },
      "execution_count": 4,
      "outputs": [
        {
          "output_type": "stream",
          "name": "stdout",
          "text": [
            "18\n"
          ]
        }
      ]
    },
    {
      "cell_type": "markdown",
      "source": [
        "OUES:-2. Create a Python function that accepts a string and returns the reverse of that string?\n"
      ],
      "metadata": {
        "id": "XNQKsDCqvVt_"
      }
    },
    {
      "cell_type": "code",
      "source": [
        "def reverse_string(s):\n",
        "  return s[::-1]"
      ],
      "metadata": {
        "id": "hu_eZDnSvf_S"
      },
      "execution_count": 5,
      "outputs": []
    },
    {
      "cell_type": "code",
      "source": [
        "reverse_string(\"hello world !\")"
      ],
      "metadata": {
        "colab": {
          "base_uri": "https://localhost:8080/",
          "height": 36
        },
        "id": "kP13bRL0wAGE",
        "outputId": "ed04e312-4bb7-4562-bff6-9d346bbee981"
      },
      "execution_count": 6,
      "outputs": [
        {
          "output_type": "execute_result",
          "data": {
            "text/plain": [
              "'! dlrow olleh'"
            ],
            "application/vnd.google.colaboratory.intrinsic+json": {
              "type": "string"
            }
          },
          "metadata": {},
          "execution_count": 6
        }
      ]
    },
    {
      "cell_type": "markdown",
      "source": [
        "QUES:-3 . Implement a Python function that takes a list of integers and returns a new list containing the squares of\n",
        "each number?\n"
      ],
      "metadata": {
        "id": "EoGreEqdwNAY"
      }
    },
    {
      "cell_type": "code",
      "source": [
        "def sq_num(numbers):\n",
        "  return [num ** 2 for num in numbers]\n",
        "\n",
        ""
      ],
      "metadata": {
        "id": "PnkW21NrxFZc"
      },
      "execution_count": 12,
      "outputs": []
    },
    {
      "cell_type": "code",
      "source": [
        "def square_numbers(numbers):\n",
        "    return [num ** 2 for num in numbers]\n",
        "\n",
        "# Example usage:\n",
        "numbers = [1, 2, 3, 4, 5]\n",
        "result = square_numbers(numbers)\n",
        "print(result)"
      ],
      "metadata": {
        "colab": {
          "base_uri": "https://localhost:8080/"
        },
        "id": "fTwlo6LayII6",
        "outputId": "63332a7e-4c8b-484a-ca2a-3e334e5bc532"
      },
      "execution_count": 16,
      "outputs": [
        {
          "output_type": "stream",
          "name": "stdout",
          "text": [
            "[1, 4, 9, 16, 25]\n"
          ]
        }
      ]
    },
    {
      "cell_type": "markdown",
      "source": [
        "QUES:-4. Write a Python function that checks if a given number is prime or not from 1 to 200?\n"
      ],
      "metadata": {
        "id": "Cy02CjnBy6tn"
      }
    },
    {
      "cell_type": "code",
      "source": [
        "def is_prime(number):\n",
        "    \"\"\"Check if a number is prime.\"\"\"\n",
        "    if number < 2:  # 0 and 1 are not prime numbers\n",
        "        return False\n",
        "    for i in range(2, int(number**0.5) + 1):\n",
        "        if number % i == 0:\n",
        "            return False\n",
        "    return True\n",
        "\n",
        "# Check primes from 1 to 200\n",
        "for num in range(1, 201):\n",
        "    if is_prime(num):\n",
        "        print(f\"{num} is a prime number\")\n",
        "    else:\n",
        "        print(f\"{num} is not a prime number\")"
      ],
      "metadata": {
        "colab": {
          "base_uri": "https://localhost:8080/"
        },
        "id": "0J34xJO_zBIR",
        "outputId": "6bc9a04a-b2a3-492c-e0ae-ae8ac44c005d"
      },
      "execution_count": 17,
      "outputs": [
        {
          "output_type": "stream",
          "name": "stdout",
          "text": [
            "1 is not a prime number\n",
            "2 is a prime number\n",
            "3 is a prime number\n",
            "4 is not a prime number\n",
            "5 is a prime number\n",
            "6 is not a prime number\n",
            "7 is a prime number\n",
            "8 is not a prime number\n",
            "9 is not a prime number\n",
            "10 is not a prime number\n",
            "11 is a prime number\n",
            "12 is not a prime number\n",
            "13 is a prime number\n",
            "14 is not a prime number\n",
            "15 is not a prime number\n",
            "16 is not a prime number\n",
            "17 is a prime number\n",
            "18 is not a prime number\n",
            "19 is a prime number\n",
            "20 is not a prime number\n",
            "21 is not a prime number\n",
            "22 is not a prime number\n",
            "23 is a prime number\n",
            "24 is not a prime number\n",
            "25 is not a prime number\n",
            "26 is not a prime number\n",
            "27 is not a prime number\n",
            "28 is not a prime number\n",
            "29 is a prime number\n",
            "30 is not a prime number\n",
            "31 is a prime number\n",
            "32 is not a prime number\n",
            "33 is not a prime number\n",
            "34 is not a prime number\n",
            "35 is not a prime number\n",
            "36 is not a prime number\n",
            "37 is a prime number\n",
            "38 is not a prime number\n",
            "39 is not a prime number\n",
            "40 is not a prime number\n",
            "41 is a prime number\n",
            "42 is not a prime number\n",
            "43 is a prime number\n",
            "44 is not a prime number\n",
            "45 is not a prime number\n",
            "46 is not a prime number\n",
            "47 is a prime number\n",
            "48 is not a prime number\n",
            "49 is not a prime number\n",
            "50 is not a prime number\n",
            "51 is not a prime number\n",
            "52 is not a prime number\n",
            "53 is a prime number\n",
            "54 is not a prime number\n",
            "55 is not a prime number\n",
            "56 is not a prime number\n",
            "57 is not a prime number\n",
            "58 is not a prime number\n",
            "59 is a prime number\n",
            "60 is not a prime number\n",
            "61 is a prime number\n",
            "62 is not a prime number\n",
            "63 is not a prime number\n",
            "64 is not a prime number\n",
            "65 is not a prime number\n",
            "66 is not a prime number\n",
            "67 is a prime number\n",
            "68 is not a prime number\n",
            "69 is not a prime number\n",
            "70 is not a prime number\n",
            "71 is a prime number\n",
            "72 is not a prime number\n",
            "73 is a prime number\n",
            "74 is not a prime number\n",
            "75 is not a prime number\n",
            "76 is not a prime number\n",
            "77 is not a prime number\n",
            "78 is not a prime number\n",
            "79 is a prime number\n",
            "80 is not a prime number\n",
            "81 is not a prime number\n",
            "82 is not a prime number\n",
            "83 is a prime number\n",
            "84 is not a prime number\n",
            "85 is not a prime number\n",
            "86 is not a prime number\n",
            "87 is not a prime number\n",
            "88 is not a prime number\n",
            "89 is a prime number\n",
            "90 is not a prime number\n",
            "91 is not a prime number\n",
            "92 is not a prime number\n",
            "93 is not a prime number\n",
            "94 is not a prime number\n",
            "95 is not a prime number\n",
            "96 is not a prime number\n",
            "97 is a prime number\n",
            "98 is not a prime number\n",
            "99 is not a prime number\n",
            "100 is not a prime number\n",
            "101 is a prime number\n",
            "102 is not a prime number\n",
            "103 is a prime number\n",
            "104 is not a prime number\n",
            "105 is not a prime number\n",
            "106 is not a prime number\n",
            "107 is a prime number\n",
            "108 is not a prime number\n",
            "109 is a prime number\n",
            "110 is not a prime number\n",
            "111 is not a prime number\n",
            "112 is not a prime number\n",
            "113 is a prime number\n",
            "114 is not a prime number\n",
            "115 is not a prime number\n",
            "116 is not a prime number\n",
            "117 is not a prime number\n",
            "118 is not a prime number\n",
            "119 is not a prime number\n",
            "120 is not a prime number\n",
            "121 is not a prime number\n",
            "122 is not a prime number\n",
            "123 is not a prime number\n",
            "124 is not a prime number\n",
            "125 is not a prime number\n",
            "126 is not a prime number\n",
            "127 is a prime number\n",
            "128 is not a prime number\n",
            "129 is not a prime number\n",
            "130 is not a prime number\n",
            "131 is a prime number\n",
            "132 is not a prime number\n",
            "133 is not a prime number\n",
            "134 is not a prime number\n",
            "135 is not a prime number\n",
            "136 is not a prime number\n",
            "137 is a prime number\n",
            "138 is not a prime number\n",
            "139 is a prime number\n",
            "140 is not a prime number\n",
            "141 is not a prime number\n",
            "142 is not a prime number\n",
            "143 is not a prime number\n",
            "144 is not a prime number\n",
            "145 is not a prime number\n",
            "146 is not a prime number\n",
            "147 is not a prime number\n",
            "148 is not a prime number\n",
            "149 is a prime number\n",
            "150 is not a prime number\n",
            "151 is a prime number\n",
            "152 is not a prime number\n",
            "153 is not a prime number\n",
            "154 is not a prime number\n",
            "155 is not a prime number\n",
            "156 is not a prime number\n",
            "157 is a prime number\n",
            "158 is not a prime number\n",
            "159 is not a prime number\n",
            "160 is not a prime number\n",
            "161 is not a prime number\n",
            "162 is not a prime number\n",
            "163 is a prime number\n",
            "164 is not a prime number\n",
            "165 is not a prime number\n",
            "166 is not a prime number\n",
            "167 is a prime number\n",
            "168 is not a prime number\n",
            "169 is not a prime number\n",
            "170 is not a prime number\n",
            "171 is not a prime number\n",
            "172 is not a prime number\n",
            "173 is a prime number\n",
            "174 is not a prime number\n",
            "175 is not a prime number\n",
            "176 is not a prime number\n",
            "177 is not a prime number\n",
            "178 is not a prime number\n",
            "179 is a prime number\n",
            "180 is not a prime number\n",
            "181 is a prime number\n",
            "182 is not a prime number\n",
            "183 is not a prime number\n",
            "184 is not a prime number\n",
            "185 is not a prime number\n",
            "186 is not a prime number\n",
            "187 is not a prime number\n",
            "188 is not a prime number\n",
            "189 is not a prime number\n",
            "190 is not a prime number\n",
            "191 is a prime number\n",
            "192 is not a prime number\n",
            "193 is a prime number\n",
            "194 is not a prime number\n",
            "195 is not a prime number\n",
            "196 is not a prime number\n",
            "197 is a prime number\n",
            "198 is not a prime number\n",
            "199 is a prime number\n",
            "200 is not a prime number\n"
          ]
        }
      ]
    },
    {
      "cell_type": "markdown",
      "source": [],
      "metadata": {
        "id": "KuglZ9lCy1IZ"
      }
    },
    {
      "cell_type": "markdown",
      "source": [
        "QUES:-5. Create an iterator class in Python that generates the Fibonacci sequence up to a specified number of\n",
        "terms?"
      ],
      "metadata": {
        "id": "M10Zk_-5zjEG"
      }
    },
    {
      "cell_type": "code",
      "source": [
        "def fib(n):\n",
        "  a=0\n",
        "  b=1\n",
        "  for i in range(n):\n",
        "    yield a\n",
        "    a,b = b,a+b"
      ],
      "metadata": {
        "id": "FXQgxc4g0aCJ"
      },
      "execution_count": 26,
      "outputs": []
    },
    {
      "cell_type": "code",
      "source": [
        "fib(100)"
      ],
      "metadata": {
        "colab": {
          "base_uri": "https://localhost:8080/"
        },
        "id": "nCFT8lo91KCj",
        "outputId": "e39d1b13-d260-43e4-9656-e0c7a212badd"
      },
      "execution_count": 27,
      "outputs": [
        {
          "output_type": "execute_result",
          "data": {
            "text/plain": [
              "<generator object fib at 0x7dbb1721c120>"
            ]
          },
          "metadata": {},
          "execution_count": 27
        }
      ]
    },
    {
      "cell_type": "code",
      "source": [
        "num=fib(100)"
      ],
      "metadata": {
        "id": "tW3mfhck1OAD"
      },
      "execution_count": 28,
      "outputs": []
    },
    {
      "cell_type": "code",
      "source": [
        "next(num)"
      ],
      "metadata": {
        "colab": {
          "base_uri": "https://localhost:8080/"
        },
        "id": "iXB-K6vC1RR8",
        "outputId": "ccee914a-8f93-4500-92bb-d0c45c1d4ebf"
      },
      "execution_count": 29,
      "outputs": [
        {
          "output_type": "execute_result",
          "data": {
            "text/plain": [
              "0"
            ]
          },
          "metadata": {},
          "execution_count": 29
        }
      ]
    },
    {
      "cell_type": "code",
      "source": [
        "next(num)"
      ],
      "metadata": {
        "colab": {
          "base_uri": "https://localhost:8080/"
        },
        "id": "D34s4zOA1TYq",
        "outputId": "30699f37-1617-4731-fcf8-050a7ab91f77"
      },
      "execution_count": 30,
      "outputs": [
        {
          "output_type": "execute_result",
          "data": {
            "text/plain": [
              "1"
            ]
          },
          "metadata": {},
          "execution_count": 30
        }
      ]
    },
    {
      "cell_type": "markdown",
      "source": [
        "QUES:-6. Write a generator function in Python that yields the powers of 2 up to a given exponent?"
      ],
      "metadata": {
        "id": "L0Ru8-JR1XPk"
      }
    },
    {
      "cell_type": "code",
      "source": [
        "def powers_of_two(max_exponent):\n",
        "    \"\"\"Generator that yields powers of 2 up to the given exponent.\"\"\"\n",
        "    for exponent in range(max_exponent + 1):\n",
        "        yield 2 ** exponent\n",
        "\n",
        "# Example usage: Yield powers of 2 up to the 10th exponent\n",
        "for value in powers_of_two(10):\n",
        "    print(value)"
      ],
      "metadata": {
        "colab": {
          "base_uri": "https://localhost:8080/"
        },
        "id": "ajKHwNuY1f2i",
        "outputId": "dca73cdf-db40-46ff-dd83-6f968f326758"
      },
      "execution_count": 31,
      "outputs": [
        {
          "output_type": "stream",
          "name": "stdout",
          "text": [
            "1\n",
            "2\n",
            "4\n",
            "8\n",
            "16\n",
            "32\n",
            "64\n",
            "128\n",
            "256\n",
            "512\n",
            "1024\n"
          ]
        }
      ]
    },
    {
      "cell_type": "markdown",
      "source": [
        "ques:-7 Implement a generator function that reads a file line by line and yields each line as a string?"
      ],
      "metadata": {
        "id": "SRpIQtus2FH2"
      }
    },
    {
      "cell_type": "code",
      "source": [
        "def read_file_line_by_line(file_path):\n",
        "    \"\"\"Generator that reads a file line by line and yields each line as a string.\"\"\"\n",
        "    try:\n",
        "        with open(file_path, 'r') as file:\n",
        "            for line in file:\n",
        "                yield line.rstrip('\\n')  # Remove the newline character at the end of each line\n",
        "    except FileNotFoundError:\n",
        "        print(f\"Error: The file '{file_path}' was not found.\")\n",
        "    except Exception as e:\n",
        "        print(f\"An error occurred: {e}\")\n",
        "\n",
        "# Example usage:\n",
        "# Replace 'example.txt' with your file path\n",
        "for line in read_file_line_by_line('example.txt'):\n",
        "    print(line)"
      ],
      "metadata": {
        "colab": {
          "base_uri": "https://localhost:8080/"
        },
        "id": "KmF_Hd1_2ZEf",
        "outputId": "f2f92155-ed0f-4706-a2a0-4218473b54b9"
      },
      "execution_count": 33,
      "outputs": [
        {
          "output_type": "stream",
          "name": "stdout",
          "text": [
            "Error: The file 'example.txt' was not found.\n"
          ]
        }
      ]
    },
    {
      "cell_type": "markdown",
      "source": [
        "QUES:-8. Use a lambda function in Python to sort a list of tuples based on the second element of each tuple?"
      ],
      "metadata": {
        "id": "0YbX6qfd243s"
      }
    },
    {
      "cell_type": "markdown",
      "source": [],
      "metadata": {
        "id": "4-qoLwxe2xug"
      }
    },
    {
      "cell_type": "code",
      "source": [
        "#  list of tuples\n",
        "tuples_list = [(1, 3), (4, 1), (5, 2), (2, 4)]\n",
        "\n",
        "# Sort the list of tuples based on the second element of each tuple\n",
        "sorted_list = sorted(tuples_list, key=lambda x: x[1])\n",
        "\n",
        "# Print the sorted list\n",
        "print(sorted_list)"
      ],
      "metadata": {
        "colab": {
          "base_uri": "https://localhost:8080/"
        },
        "id": "djJnfcZ11VVy",
        "outputId": "00e662ff-275c-48bb-d8df-f59560743aff"
      },
      "execution_count": 34,
      "outputs": [
        {
          "output_type": "stream",
          "name": "stdout",
          "text": [
            "[(4, 1), (5, 2), (1, 3), (2, 4)]\n"
          ]
        }
      ]
    },
    {
      "cell_type": "markdown",
      "source": [
        "QUES:-9. Write a Python program that uses `map()` to convert a list of temperatures from Celsius to Fahrenheit?"
      ],
      "metadata": {
        "id": "uuvxSH2o3UhI"
      }
    },
    {
      "cell_type": "code",
      "source": [
        "# Function to convert Celsius to Fahrenheit\n",
        "def celsius_to_fahrenheit(celsius):\n",
        "    return (celsius * 9/5) + 32\n",
        "\n",
        "# List of temperatures in Celsius\n",
        "celsius_temperatures = [0, 20, 37, 100]\n",
        "\n",
        "# Use map() to convert each temperature to Fahrenheit\n",
        "fahrenheit_temperatures = list(map(celsius_to_fahrenheit, celsius_temperatures))\n",
        "\n",
        "# Print the list of temperatures in Fahrenheit\n",
        "print(fahrenheit_temperatures)"
      ],
      "metadata": {
        "colab": {
          "base_uri": "https://localhost:8080/"
        },
        "id": "BatBQpnU3RXR",
        "outputId": "286088dd-6b2f-48d0-c9f3-097f993d8a59"
      },
      "execution_count": 35,
      "outputs": [
        {
          "output_type": "stream",
          "name": "stdout",
          "text": [
            "[32.0, 68.0, 98.6, 212.0]\n"
          ]
        }
      ]
    },
    {
      "cell_type": "markdown",
      "source": [
        "QUES:-10. Create a Python program that uses `filter()` to remove all the vowels from a given string?"
      ],
      "metadata": {
        "id": "QffxUY4G3x43"
      }
    },
    {
      "cell_type": "code",
      "source": [
        "# Define a function to check if a character is not a vowel\n",
        "def is_not_vowel(char):\n",
        "    return char.lower() not in 'aeiou'\n",
        "\n",
        "# Input string\n",
        "input_string = \"Hello, World!\"\n",
        "\n",
        "# Use filter() to remove vowels\n",
        "filtered_string = ''.join(filter(is_not_vowel, input_string))\n",
        "\n",
        "# Print the result\n",
        "print(filtered_string)"
      ],
      "metadata": {
        "colab": {
          "base_uri": "https://localhost:8080/"
        },
        "id": "Ae1YV1aG33l-",
        "outputId": "13bc3a8c-314c-439b-f117-d78cdc5a6918"
      },
      "execution_count": 36,
      "outputs": [
        {
          "output_type": "stream",
          "name": "stdout",
          "text": [
            "Hll, Wrld!\n"
          ]
        }
      ]
    },
    {
      "cell_type": "code",
      "source": [],
      "metadata": {
        "id": "M6ijpy6s3vND"
      },
      "execution_count": null,
      "outputs": []
    }
  ]
}